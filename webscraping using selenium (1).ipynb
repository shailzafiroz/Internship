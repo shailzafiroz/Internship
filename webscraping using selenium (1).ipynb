{
 "cells": [
  {
   "cell_type": "code",
   "execution_count": 1,
   "metadata": {},
   "outputs": [],
   "source": [
    "#!pip install selenium"
   ]
  },
  {
   "cell_type": "code",
   "execution_count": 2,
   "metadata": {},
   "outputs": [],
   "source": [
    "import selenium \n",
    "import pandas as pd\n",
    "from selenium import webdriver"
   ]
  },
  {
   "cell_type": "code",
   "execution_count": 3,
   "metadata": {},
   "outputs": [
    {
     "data": {
      "text/plain": [
       "<module 'selenium.webdriver' from 'C:\\\\Users\\\\DEEL\\\\anaconda3\\\\lib\\\\site-packages\\\\selenium\\\\webdriver\\\\__init__.py'>"
      ]
     },
     "execution_count": 3,
     "metadata": {},
     "output_type": "execute_result"
    }
   ],
   "source": [
    "webdriver"
   ]
  },
  {
   "cell_type": "code",
   "execution_count": 26,
   "metadata": {},
   "outputs": [],
   "source": [
    "driver=webdriver.Chrome(\"chromedriver.exe\")"
   ]
  },
  {
   "cell_type": "markdown",
   "metadata": {},
   "source": [
    "# Q1: Write a python program to scrape data for “Data Analyst” Job position in “Bangalore” location. You have to scrape the job-title, job-location, company_name, experience_required. You have to scrape first 10 jobs data."
   ]
  },
  {
   "cell_type": "code",
   "execution_count": 27,
   "metadata": {},
   "outputs": [],
   "source": [
    "url1=\"https://www.naukri.com/\"\n",
    "driver.get(url1)"
   ]
  },
  {
   "cell_type": "code",
   "execution_count": 28,
   "metadata": {},
   "outputs": [
    {
     "data": {
      "text/plain": [
       "<selenium.webdriver.remote.webelement.WebElement (session=\"77d6894c2dfd9bbf738fe202c09cff54\", element=\"f8efb757-893f-4130-8595-1287385ec7de\")>"
      ]
     },
     "execution_count": 28,
     "metadata": {},
     "output_type": "execute_result"
    }
   ],
   "source": [
    "ser_job=driver.find_element_by_id(\"qsb-keyword-sugg\")\n",
    "ser_job"
   ]
  },
  {
   "cell_type": "code",
   "execution_count": 29,
   "metadata": {},
   "outputs": [],
   "source": [
    "ser_job.send_keys(\"Data Analyst\")"
   ]
  },
  {
   "cell_type": "code",
   "execution_count": 30,
   "metadata": {},
   "outputs": [
    {
     "data": {
      "text/plain": [
       "<selenium.webdriver.remote.webelement.WebElement (session=\"77d6894c2dfd9bbf738fe202c09cff54\", element=\"2de74b9b-7151-4df2-b035-9eb2b4525e10\")>"
      ]
     },
     "execution_count": 30,
     "metadata": {},
     "output_type": "execute_result"
    }
   ],
   "source": [
    "ser_loc=driver.find_element_by_id(\"qsb-location-sugg\")\n",
    "ser_loc"
   ]
  },
  {
   "cell_type": "code",
   "execution_count": 31,
   "metadata": {},
   "outputs": [],
   "source": [
    "ser_loc.send_keys(\"Bangalore\")"
   ]
  },
  {
   "cell_type": "code",
   "execution_count": 32,
   "metadata": {},
   "outputs": [],
   "source": [
    "ser_btn=driver.find_element_by_xpath(\"//button[@class='btn']\")\n",
    "ser_btn.click()"
   ]
  },
  {
   "cell_type": "code",
   "execution_count": 33,
   "metadata": {},
   "outputs": [
    {
     "data": {
      "text/plain": [
       "[<selenium.webdriver.remote.webelement.WebElement (session=\"77d6894c2dfd9bbf738fe202c09cff54\", element=\"9ff23304-f008-425f-a218-0b00aa42ac69\")>,\n",
       " <selenium.webdriver.remote.webelement.WebElement (session=\"77d6894c2dfd9bbf738fe202c09cff54\", element=\"6a436b50-b7e2-4034-b363-d134e777d875\")>,\n",
       " <selenium.webdriver.remote.webelement.WebElement (session=\"77d6894c2dfd9bbf738fe202c09cff54\", element=\"63194b2b-b4ef-401b-a5ab-d223b623508e\")>,\n",
       " <selenium.webdriver.remote.webelement.WebElement (session=\"77d6894c2dfd9bbf738fe202c09cff54\", element=\"03e4e2cb-720f-4967-b12f-779e994b9ad7\")>,\n",
       " <selenium.webdriver.remote.webelement.WebElement (session=\"77d6894c2dfd9bbf738fe202c09cff54\", element=\"28802b79-fcf9-4b7a-b21d-9084749449e3\")>,\n",
       " <selenium.webdriver.remote.webelement.WebElement (session=\"77d6894c2dfd9bbf738fe202c09cff54\", element=\"b9d77aef-b3f7-48b1-a985-4bca85d0c629\")>,\n",
       " <selenium.webdriver.remote.webelement.WebElement (session=\"77d6894c2dfd9bbf738fe202c09cff54\", element=\"953539bd-db69-45fb-ac02-478531301539\")>,\n",
       " <selenium.webdriver.remote.webelement.WebElement (session=\"77d6894c2dfd9bbf738fe202c09cff54\", element=\"d1dc2f5f-1da9-4aa1-9dfa-107c94fb41fa\")>,\n",
       " <selenium.webdriver.remote.webelement.WebElement (session=\"77d6894c2dfd9bbf738fe202c09cff54\", element=\"39676c26-11a3-49f3-a69f-bf29c1fa123d\")>,\n",
       " <selenium.webdriver.remote.webelement.WebElement (session=\"77d6894c2dfd9bbf738fe202c09cff54\", element=\"d18af700-8a2e-4909-93d6-528a3ad274b9\")>,\n",
       " <selenium.webdriver.remote.webelement.WebElement (session=\"77d6894c2dfd9bbf738fe202c09cff54\", element=\"4aded10a-5629-4849-84d6-8022cb5a9039\")>,\n",
       " <selenium.webdriver.remote.webelement.WebElement (session=\"77d6894c2dfd9bbf738fe202c09cff54\", element=\"3603e2ef-d537-43fd-91ed-05a2757f2513\")>,\n",
       " <selenium.webdriver.remote.webelement.WebElement (session=\"77d6894c2dfd9bbf738fe202c09cff54\", element=\"00de17ae-81e0-413c-9870-2e7a998f14ab\")>,\n",
       " <selenium.webdriver.remote.webelement.WebElement (session=\"77d6894c2dfd9bbf738fe202c09cff54\", element=\"59601935-ee92-41fc-9dcd-9bc88f244323\")>,\n",
       " <selenium.webdriver.remote.webelement.WebElement (session=\"77d6894c2dfd9bbf738fe202c09cff54\", element=\"1c7ef0e2-728f-4136-99de-ba7fdd1e5efd\")>,\n",
       " <selenium.webdriver.remote.webelement.WebElement (session=\"77d6894c2dfd9bbf738fe202c09cff54\", element=\"64bc311b-6ac6-4a90-8777-1fd474c8bb26\")>,\n",
       " <selenium.webdriver.remote.webelement.WebElement (session=\"77d6894c2dfd9bbf738fe202c09cff54\", element=\"890ccc70-21bd-4f77-a068-833587030fd7\")>,\n",
       " <selenium.webdriver.remote.webelement.WebElement (session=\"77d6894c2dfd9bbf738fe202c09cff54\", element=\"7b74ac97-f778-40d9-8bc9-524091950438\")>,\n",
       " <selenium.webdriver.remote.webelement.WebElement (session=\"77d6894c2dfd9bbf738fe202c09cff54\", element=\"dac48403-7433-4cde-8500-1f0052e7fc31\")>,\n",
       " <selenium.webdriver.remote.webelement.WebElement (session=\"77d6894c2dfd9bbf738fe202c09cff54\", element=\"90a055ba-846b-4cfb-b885-51de3205bafc\")>]"
      ]
     },
     "execution_count": 33,
     "metadata": {},
     "output_type": "execute_result"
    }
   ],
   "source": [
    "# to extract the job title\n",
    "title_tags=driver.find_elements_by_xpath(\"//a[@class='title fw500 ellipsis']\")\n",
    "title_tags"
   ]
  },
  {
   "cell_type": "code",
   "execution_count": 34,
   "metadata": {},
   "outputs": [
    {
     "data": {
      "text/plain": [
       "['Sr. Data Analyst I - Reference Data and Master Data Management',\n",
       " 'Data Analyst',\n",
       " 'Sr. Data Analyst',\n",
       " 'Data Analyst',\n",
       " 'Data Analyst',\n",
       " 'Data Analyst Global Procurement',\n",
       " 'Immediate Hiring For Business/ Data Analyst- Capital Market/ IB Domain',\n",
       " 'Tcs Hiring For Senior Data Analyst (bfsi domain)',\n",
       " 'Hiring For Data Analyst @ Bangalore contract role',\n",
       " 'Mega Hiring For Data Analyst',\n",
       " 'Junior Data Analyst',\n",
       " 'Senior Analyst, Data Engineering (I6)',\n",
       " 'Data Analyst',\n",
       " 'Associate Systems and Data Analyst (Systems and Data Analyst-General)',\n",
       " 'Data Analyst',\n",
       " 'Lead Data Analyst - Call Planning',\n",
       " 'Data Analyst',\n",
       " 'Data Analyst For Text / Sentiment Analysis',\n",
       " 'Tcs Hiring For MDM (master data management) Data Analyst (bfsi domain)',\n",
       " 'Business Data Analyst']"
      ]
     },
     "execution_count": 34,
     "metadata": {},
     "output_type": "execute_result"
    }
   ],
   "source": [
    "# becoz text do not work in text so we use loop so that the job titles can be extracted\n",
    "\n",
    "job_title=[]\n",
    "for i in title_tags:\n",
    "    job_title.append(i.text)\n",
    "job_title"
   ]
  },
  {
   "cell_type": "code",
   "execution_count": 35,
   "metadata": {},
   "outputs": [
    {
     "data": {
      "text/plain": [
       "[<selenium.webdriver.remote.webelement.WebElement (session=\"77d6894c2dfd9bbf738fe202c09cff54\", element=\"0f5c5fa6-95eb-4c91-a490-02cb2b8ba16c\")>,\n",
       " <selenium.webdriver.remote.webelement.WebElement (session=\"77d6894c2dfd9bbf738fe202c09cff54\", element=\"a05b98c8-bd12-45e9-bbe1-8096940d7172\")>,\n",
       " <selenium.webdriver.remote.webelement.WebElement (session=\"77d6894c2dfd9bbf738fe202c09cff54\", element=\"7e2a99ad-b553-4624-bb9a-ceb49beb9cf0\")>,\n",
       " <selenium.webdriver.remote.webelement.WebElement (session=\"77d6894c2dfd9bbf738fe202c09cff54\", element=\"05ead4fb-cfb8-49a9-afc4-d1ea148ffd50\")>,\n",
       " <selenium.webdriver.remote.webelement.WebElement (session=\"77d6894c2dfd9bbf738fe202c09cff54\", element=\"70bff8a8-be64-4632-a08c-5ae63029c297\")>,\n",
       " <selenium.webdriver.remote.webelement.WebElement (session=\"77d6894c2dfd9bbf738fe202c09cff54\", element=\"79a1b48b-f1d2-486d-87bb-bbe95e650ceb\")>,\n",
       " <selenium.webdriver.remote.webelement.WebElement (session=\"77d6894c2dfd9bbf738fe202c09cff54\", element=\"3762468b-2a82-4c8b-b628-602af41d8e11\")>,\n",
       " <selenium.webdriver.remote.webelement.WebElement (session=\"77d6894c2dfd9bbf738fe202c09cff54\", element=\"707bd8be-9ef9-4b5b-a393-ad64798e22d2\")>,\n",
       " <selenium.webdriver.remote.webelement.WebElement (session=\"77d6894c2dfd9bbf738fe202c09cff54\", element=\"ff294e37-7329-481a-bf4b-b9e9b81c853a\")>,\n",
       " <selenium.webdriver.remote.webelement.WebElement (session=\"77d6894c2dfd9bbf738fe202c09cff54\", element=\"8f3df322-f33f-48f8-a522-7f58d5dd81fa\")>,\n",
       " <selenium.webdriver.remote.webelement.WebElement (session=\"77d6894c2dfd9bbf738fe202c09cff54\", element=\"b3ede82c-8221-40c0-9fee-34d473667a87\")>,\n",
       " <selenium.webdriver.remote.webelement.WebElement (session=\"77d6894c2dfd9bbf738fe202c09cff54\", element=\"362eed93-4e63-4b9b-ad35-11f962282dc5\")>,\n",
       " <selenium.webdriver.remote.webelement.WebElement (session=\"77d6894c2dfd9bbf738fe202c09cff54\", element=\"28b8869a-8310-4db3-b296-5d1a60377d23\")>,\n",
       " <selenium.webdriver.remote.webelement.WebElement (session=\"77d6894c2dfd9bbf738fe202c09cff54\", element=\"096adcaf-a2af-4c62-a148-1050568ad5e8\")>,\n",
       " <selenium.webdriver.remote.webelement.WebElement (session=\"77d6894c2dfd9bbf738fe202c09cff54\", element=\"7073e1b7-1d82-4955-8c0d-5046161dca38\")>,\n",
       " <selenium.webdriver.remote.webelement.WebElement (session=\"77d6894c2dfd9bbf738fe202c09cff54\", element=\"c13b8167-d4ff-4284-83c6-6f387745a7cf\")>,\n",
       " <selenium.webdriver.remote.webelement.WebElement (session=\"77d6894c2dfd9bbf738fe202c09cff54\", element=\"d7cc500e-83a8-4d93-a9ed-8715f0c52174\")>,\n",
       " <selenium.webdriver.remote.webelement.WebElement (session=\"77d6894c2dfd9bbf738fe202c09cff54\", element=\"9640db60-4258-476a-92af-d6313fd12299\")>,\n",
       " <selenium.webdriver.remote.webelement.WebElement (session=\"77d6894c2dfd9bbf738fe202c09cff54\", element=\"39222c17-b1e1-4a8a-bc08-b80d2daa5609\")>,\n",
       " <selenium.webdriver.remote.webelement.WebElement (session=\"77d6894c2dfd9bbf738fe202c09cff54\", element=\"9286bbbd-8c9a-4c48-83af-1e3860ba8dea\")>]"
      ]
     },
     "execution_count": 35,
     "metadata": {},
     "output_type": "execute_result"
    }
   ],
   "source": [
    "# to extract the company name\n",
    "company_tags=driver.find_elements_by_xpath(\"//a[@class='subTitle ellipsis fleft']\")\n",
    "company_tags"
   ]
  },
  {
   "cell_type": "code",
   "execution_count": 36,
   "metadata": {},
   "outputs": [
    {
     "data": {
      "text/plain": [
       "['AXA XL',\n",
       " 'Capgemini Technology Services India Limited',\n",
       " 'Cyient Limited',\n",
       " 'Allegis Services India Pvt. Ltd.',\n",
       " 'Allegis Services India Pvt. Ltd.',\n",
       " 'SUEZ',\n",
       " 'Capco Technologies Pvt Ltd',\n",
       " 'Tata Consultancy Services Ltd.',\n",
       " 'PERSOLKELLY INDIA PRIVATE LIMITED',\n",
       " 'Startek (Aegis Customer Support Services Private Limited)',\n",
       " 'Valuvox Business Solutions Private Limited',\n",
       " 'Dell International Services India Private Limited',\n",
       " 'Unacademy',\n",
       " 'Boeing',\n",
       " 'Blue Ocean Catalyst Private Limited',\n",
       " 'HireHappi',\n",
       " 'Mindshare India Pvt Ltd',\n",
       " 'FUTURLYTIC PRIVATE LIMITED',\n",
       " 'Tata Consultancy Services Ltd.',\n",
       " 'NetApp']"
      ]
     },
     "execution_count": 36,
     "metadata": {},
     "output_type": "execute_result"
    }
   ],
   "source": [
    "# becoz text do not work in text so we use loop so that the company name can be extracted\n",
    "\n",
    "company_name=[]\n",
    "for i in company_tags:\n",
    "    company_name.append(i.text)\n",
    "company_name"
   ]
  },
  {
   "cell_type": "code",
   "execution_count": 37,
   "metadata": {},
   "outputs": [],
   "source": [
    "# to extract the company name\n",
    "loc_tags=driver.find_elements_by_xpath(\"//li[@class='fleft grey-text br2 placeHolderLi location']//span\")"
   ]
  },
  {
   "cell_type": "code",
   "execution_count": 16,
   "metadata": {},
   "outputs": [
    {
     "data": {
      "text/plain": [
       "[<selenium.webdriver.remote.webelement.WebElement (session=\"30d80d56b9e01442f4e9a87f3c920a8a\", element=\"058eb572-4246-4a91-95c6-5264cc39357b\")>,\n",
       " <selenium.webdriver.remote.webelement.WebElement (session=\"30d80d56b9e01442f4e9a87f3c920a8a\", element=\"085ba0f5-836d-426b-8479-0ee7b9857495\")>,\n",
       " <selenium.webdriver.remote.webelement.WebElement (session=\"30d80d56b9e01442f4e9a87f3c920a8a\", element=\"f6d2ce43-5b62-4d28-b636-c6fd476010b2\")>,\n",
       " <selenium.webdriver.remote.webelement.WebElement (session=\"30d80d56b9e01442f4e9a87f3c920a8a\", element=\"f16cc231-2435-4146-b28c-547e8c21312f\")>,\n",
       " <selenium.webdriver.remote.webelement.WebElement (session=\"30d80d56b9e01442f4e9a87f3c920a8a\", element=\"34bbe8c6-d93e-4218-b6af-991b32093234\")>,\n",
       " <selenium.webdriver.remote.webelement.WebElement (session=\"30d80d56b9e01442f4e9a87f3c920a8a\", element=\"83fc8b6b-bdc0-441f-b568-1cad266ccc0d\")>,\n",
       " <selenium.webdriver.remote.webelement.WebElement (session=\"30d80d56b9e01442f4e9a87f3c920a8a\", element=\"0da4f558-9024-4e5c-9256-3b2febfe97c5\")>,\n",
       " <selenium.webdriver.remote.webelement.WebElement (session=\"30d80d56b9e01442f4e9a87f3c920a8a\", element=\"7b86b01b-2c34-459a-baeb-0f9c02462aec\")>,\n",
       " <selenium.webdriver.remote.webelement.WebElement (session=\"30d80d56b9e01442f4e9a87f3c920a8a\", element=\"cdf90dad-d948-4d60-94f2-e78f03a7bcf4\")>,\n",
       " <selenium.webdriver.remote.webelement.WebElement (session=\"30d80d56b9e01442f4e9a87f3c920a8a\", element=\"720cd08c-0c9e-4aa0-99ac-c0c71092132c\")>,\n",
       " <selenium.webdriver.remote.webelement.WebElement (session=\"30d80d56b9e01442f4e9a87f3c920a8a\", element=\"a562835f-bdd0-4317-bf4e-7049385565e0\")>,\n",
       " <selenium.webdriver.remote.webelement.WebElement (session=\"30d80d56b9e01442f4e9a87f3c920a8a\", element=\"9cc96efd-aa06-4709-b121-50046af897bd\")>,\n",
       " <selenium.webdriver.remote.webelement.WebElement (session=\"30d80d56b9e01442f4e9a87f3c920a8a\", element=\"962c09d8-122a-40ee-9e79-32ba6dd6d08b\")>,\n",
       " <selenium.webdriver.remote.webelement.WebElement (session=\"30d80d56b9e01442f4e9a87f3c920a8a\", element=\"9f5ef179-a128-4943-95d5-907ecea6c211\")>,\n",
       " <selenium.webdriver.remote.webelement.WebElement (session=\"30d80d56b9e01442f4e9a87f3c920a8a\", element=\"dcea5748-215b-4ec2-9d24-93345a88f79d\")>,\n",
       " <selenium.webdriver.remote.webelement.WebElement (session=\"30d80d56b9e01442f4e9a87f3c920a8a\", element=\"c0b62f47-0e13-4e87-a9e1-1051664f0e04\")>,\n",
       " <selenium.webdriver.remote.webelement.WebElement (session=\"30d80d56b9e01442f4e9a87f3c920a8a\", element=\"a429fd6f-3627-4410-9005-8c8c56d3cf32\")>,\n",
       " <selenium.webdriver.remote.webelement.WebElement (session=\"30d80d56b9e01442f4e9a87f3c920a8a\", element=\"47b888f3-6a0d-4de4-8406-6b717e8ff159\")>,\n",
       " <selenium.webdriver.remote.webelement.WebElement (session=\"30d80d56b9e01442f4e9a87f3c920a8a\", element=\"2d7d41b6-de2d-496a-9d32-d8a13a7bc59f\")>,\n",
       " <selenium.webdriver.remote.webelement.WebElement (session=\"30d80d56b9e01442f4e9a87f3c920a8a\", element=\"6f28d69b-ec26-4e51-8ad2-1b41e62a1c60\")>,\n",
       " <selenium.webdriver.remote.webelement.WebElement (session=\"30d80d56b9e01442f4e9a87f3c920a8a\", element=\"030d9a0d-27cd-47cf-98d2-cf66ab360ca3\")>,\n",
       " <selenium.webdriver.remote.webelement.WebElement (session=\"30d80d56b9e01442f4e9a87f3c920a8a\", element=\"87c6dc54-9a2a-4be4-b25e-f9db675f23bb\")>]"
      ]
     },
     "execution_count": 16,
     "metadata": {},
     "output_type": "execute_result"
    }
   ],
   "source": [
    "loc_tags"
   ]
  },
  {
   "cell_type": "code",
   "execution_count": 38,
   "metadata": {},
   "outputs": [
    {
     "data": {
      "text/plain": [
       "['Bangalore East',\n",
       " 'Bangalore/Bengaluru',\n",
       " 'Bangalore/Bengaluru',\n",
       " 'Bangalore/Bengaluru',\n",
       " 'Bangalore/Bengaluru',\n",
       " 'Bangalore/Bengaluru',\n",
       " 'Bangalore/Bengaluru, Mumbai (All Areas)',\n",
       " 'Chennai, Bangalore/Bengaluru',\n",
       " 'Bangalore/Bengaluru',\n",
       " '(WFH during Covid)',\n",
       " 'Bangalore/Bengaluru(Electronic City +7)',\n",
       " 'Bangalore/Bengaluru(4th Block Jayanagar)',\n",
       " 'Bangalore/Bengaluru',\n",
       " 'Bangalore/Bengaluru',\n",
       " 'Bangalore/Bengaluru',\n",
       " 'Bangalore/Bengaluru',\n",
       " 'Bangalore/Bengaluru, Delhi / NCR',\n",
       " 'Bangalore/Bengaluru',\n",
       " 'Bangalore/Bengaluru(Hebbal Kempapura)',\n",
       " '(WFH during Covid)',\n",
       " 'Chennai, Bangalore/Bengaluru',\n",
       " 'Bangalore/Bengaluru']"
      ]
     },
     "execution_count": 38,
     "metadata": {},
     "output_type": "execute_result"
    }
   ],
   "source": [
    "# becoz text do not work in text so we use loop so that the job location can be extracted\n",
    "\n",
    "job_loc=[]\n",
    "for i in loc_tags:\n",
    "    job_loc.append(i.text)\n",
    "job_loc"
   ]
  },
  {
   "cell_type": "code",
   "execution_count": 39,
   "metadata": {},
   "outputs": [],
   "source": [
    "# to extract the experience\n",
    "exp_tags=driver.find_elements_by_xpath(\"//li[@class='fleft grey-text br2 placeHolderLi experience']//span[1]\")"
   ]
  },
  {
   "cell_type": "code",
   "execution_count": 19,
   "metadata": {},
   "outputs": [
    {
     "data": {
      "text/plain": [
       "[<selenium.webdriver.remote.webelement.WebElement (session=\"30d80d56b9e01442f4e9a87f3c920a8a\", element=\"63f8473e-d3da-4352-8218-789ad6530cb5\")>,\n",
       " <selenium.webdriver.remote.webelement.WebElement (session=\"30d80d56b9e01442f4e9a87f3c920a8a\", element=\"ece12b3f-7637-4da1-a091-065f76add634\")>,\n",
       " <selenium.webdriver.remote.webelement.WebElement (session=\"30d80d56b9e01442f4e9a87f3c920a8a\", element=\"006b8568-1d73-49b2-ac6d-c6b76e0a3d8c\")>,\n",
       " <selenium.webdriver.remote.webelement.WebElement (session=\"30d80d56b9e01442f4e9a87f3c920a8a\", element=\"4c24e386-6e33-4aaf-9c6a-b63150df6552\")>,\n",
       " <selenium.webdriver.remote.webelement.WebElement (session=\"30d80d56b9e01442f4e9a87f3c920a8a\", element=\"e51434c9-2967-48a6-b833-f8eacd552e7d\")>,\n",
       " <selenium.webdriver.remote.webelement.WebElement (session=\"30d80d56b9e01442f4e9a87f3c920a8a\", element=\"25b8cdc5-523e-44b3-a062-b41632081468\")>,\n",
       " <selenium.webdriver.remote.webelement.WebElement (session=\"30d80d56b9e01442f4e9a87f3c920a8a\", element=\"514e9448-1446-45eb-b9c3-7c428911d3ce\")>,\n",
       " <selenium.webdriver.remote.webelement.WebElement (session=\"30d80d56b9e01442f4e9a87f3c920a8a\", element=\"08dd6f09-6bf7-4eba-8635-ec597f6888e2\")>,\n",
       " <selenium.webdriver.remote.webelement.WebElement (session=\"30d80d56b9e01442f4e9a87f3c920a8a\", element=\"b69155dc-84cb-4de1-87c4-07fa41ed00ce\")>,\n",
       " <selenium.webdriver.remote.webelement.WebElement (session=\"30d80d56b9e01442f4e9a87f3c920a8a\", element=\"84be3fd8-04f7-4476-a5b6-3d0109c71b1c\")>,\n",
       " <selenium.webdriver.remote.webelement.WebElement (session=\"30d80d56b9e01442f4e9a87f3c920a8a\", element=\"b23b17d6-05b4-4225-91ea-b1737f1671bc\")>,\n",
       " <selenium.webdriver.remote.webelement.WebElement (session=\"30d80d56b9e01442f4e9a87f3c920a8a\", element=\"d80e9611-0269-4259-a4a9-6d1ece75f7e1\")>,\n",
       " <selenium.webdriver.remote.webelement.WebElement (session=\"30d80d56b9e01442f4e9a87f3c920a8a\", element=\"867d9283-e88e-40ed-9ecf-cc06073c1998\")>,\n",
       " <selenium.webdriver.remote.webelement.WebElement (session=\"30d80d56b9e01442f4e9a87f3c920a8a\", element=\"c56cb0ea-a934-4a8c-8c20-0ceea52da313\")>,\n",
       " <selenium.webdriver.remote.webelement.WebElement (session=\"30d80d56b9e01442f4e9a87f3c920a8a\", element=\"3ca6f441-9283-47f9-bd76-8b22b5c89f7e\")>,\n",
       " <selenium.webdriver.remote.webelement.WebElement (session=\"30d80d56b9e01442f4e9a87f3c920a8a\", element=\"48fb14ea-279f-410a-b313-03d06b2ee61f\")>,\n",
       " <selenium.webdriver.remote.webelement.WebElement (session=\"30d80d56b9e01442f4e9a87f3c920a8a\", element=\"3486c3a7-ae8a-4a70-bb6c-64101cd39b22\")>,\n",
       " <selenium.webdriver.remote.webelement.WebElement (session=\"30d80d56b9e01442f4e9a87f3c920a8a\", element=\"2351a200-9e8d-4731-909d-a5b868a99e03\")>,\n",
       " <selenium.webdriver.remote.webelement.WebElement (session=\"30d80d56b9e01442f4e9a87f3c920a8a\", element=\"e84ff4e3-829f-4968-a639-4df90d74ca0d\")>]"
      ]
     },
     "execution_count": 19,
     "metadata": {},
     "output_type": "execute_result"
    }
   ],
   "source": [
    "exp_tags"
   ]
  },
  {
   "cell_type": "code",
   "execution_count": 40,
   "metadata": {},
   "outputs": [
    {
     "data": {
      "text/plain": [
       "['0-5 Yrs',\n",
       " '2-5 Yrs',\n",
       " '4-7 Yrs',\n",
       " '2-5 Yrs',\n",
       " '3-5 Yrs',\n",
       " '5-10 Yrs',\n",
       " '5-8 Yrs',\n",
       " '6-11 Yrs',\n",
       " '1-4 Yrs',\n",
       " '1-3 Yrs',\n",
       " '3-6 Yrs',\n",
       " '2-6 Yrs',\n",
       " '4-8 Yrs',\n",
       " '4-5 Yrs',\n",
       " '3-7 Yrs',\n",
       " '2-5 Yrs',\n",
       " '0-1 Yrs',\n",
       " '6-11 Yrs',\n",
       " '5-10 Yrs']"
      ]
     },
     "execution_count": 40,
     "metadata": {},
     "output_type": "execute_result"
    }
   ],
   "source": [
    "# becoz text do not work in text so we use loop so that the job location can be extracted\n",
    "\n",
    "experience=[]\n",
    "for i in exp_tags:\n",
    "    experience.append(i.text)\n",
    "experience"
   ]
  },
  {
   "cell_type": "code",
   "execution_count": 41,
   "metadata": {},
   "outputs": [
    {
     "data": {
      "text/html": [
       "<div>\n",
       "<style scoped>\n",
       "    .dataframe tbody tr th:only-of-type {\n",
       "        vertical-align: middle;\n",
       "    }\n",
       "\n",
       "    .dataframe tbody tr th {\n",
       "        vertical-align: top;\n",
       "    }\n",
       "\n",
       "    .dataframe thead th {\n",
       "        text-align: right;\n",
       "    }\n",
       "</style>\n",
       "<table border=\"1\" class=\"dataframe\">\n",
       "  <thead>\n",
       "    <tr style=\"text-align: right;\">\n",
       "      <th></th>\n",
       "      <th>Job Title</th>\n",
       "      <th>Job Location</th>\n",
       "      <th>Company Name</th>\n",
       "      <th>Experience</th>\n",
       "    </tr>\n",
       "  </thead>\n",
       "  <tbody>\n",
       "    <tr>\n",
       "      <th>0</th>\n",
       "      <td>Sr. Data Analyst I - Reference Data and Master...</td>\n",
       "      <td>Bangalore East</td>\n",
       "      <td>AXA XL</td>\n",
       "      <td>0-5 Yrs</td>\n",
       "    </tr>\n",
       "    <tr>\n",
       "      <th>1</th>\n",
       "      <td>Data Analyst</td>\n",
       "      <td>Bangalore/Bengaluru</td>\n",
       "      <td>Capgemini Technology Services India Limited</td>\n",
       "      <td>2-5 Yrs</td>\n",
       "    </tr>\n",
       "    <tr>\n",
       "      <th>2</th>\n",
       "      <td>Sr. Data Analyst</td>\n",
       "      <td>Bangalore/Bengaluru</td>\n",
       "      <td>Cyient Limited</td>\n",
       "      <td>4-7 Yrs</td>\n",
       "    </tr>\n",
       "    <tr>\n",
       "      <th>3</th>\n",
       "      <td>Data Analyst</td>\n",
       "      <td>Bangalore/Bengaluru</td>\n",
       "      <td>Allegis Services India Pvt. Ltd.</td>\n",
       "      <td>2-5 Yrs</td>\n",
       "    </tr>\n",
       "    <tr>\n",
       "      <th>4</th>\n",
       "      <td>Data Analyst</td>\n",
       "      <td>Bangalore/Bengaluru</td>\n",
       "      <td>Allegis Services India Pvt. Ltd.</td>\n",
       "      <td>3-5 Yrs</td>\n",
       "    </tr>\n",
       "    <tr>\n",
       "      <th>5</th>\n",
       "      <td>Data Analyst Global Procurement</td>\n",
       "      <td>Bangalore/Bengaluru</td>\n",
       "      <td>SUEZ</td>\n",
       "      <td>5-10 Yrs</td>\n",
       "    </tr>\n",
       "    <tr>\n",
       "      <th>6</th>\n",
       "      <td>Immediate Hiring For Business/ Data Analyst- C...</td>\n",
       "      <td>Bangalore/Bengaluru, Mumbai (All Areas)</td>\n",
       "      <td>Capco Technologies Pvt Ltd</td>\n",
       "      <td>5-8 Yrs</td>\n",
       "    </tr>\n",
       "    <tr>\n",
       "      <th>7</th>\n",
       "      <td>Tcs Hiring For Senior Data Analyst (bfsi domain)</td>\n",
       "      <td>Chennai, Bangalore/Bengaluru</td>\n",
       "      <td>Tata Consultancy Services Ltd.</td>\n",
       "      <td>6-11 Yrs</td>\n",
       "    </tr>\n",
       "    <tr>\n",
       "      <th>8</th>\n",
       "      <td>Hiring For Data Analyst @ Bangalore contract role</td>\n",
       "      <td>Bangalore/Bengaluru</td>\n",
       "      <td>PERSOLKELLY INDIA PRIVATE LIMITED</td>\n",
       "      <td>1-4 Yrs</td>\n",
       "    </tr>\n",
       "    <tr>\n",
       "      <th>9</th>\n",
       "      <td>Mega Hiring For Data Analyst</td>\n",
       "      <td>(WFH during Covid)</td>\n",
       "      <td>Startek (Aegis Customer Support Services Priva...</td>\n",
       "      <td>1-3 Yrs</td>\n",
       "    </tr>\n",
       "  </tbody>\n",
       "</table>\n",
       "</div>"
      ],
      "text/plain": [
       "                                           Job Title  \\\n",
       "0  Sr. Data Analyst I - Reference Data and Master...   \n",
       "1                                       Data Analyst   \n",
       "2                                   Sr. Data Analyst   \n",
       "3                                       Data Analyst   \n",
       "4                                       Data Analyst   \n",
       "5                    Data Analyst Global Procurement   \n",
       "6  Immediate Hiring For Business/ Data Analyst- C...   \n",
       "7   Tcs Hiring For Senior Data Analyst (bfsi domain)   \n",
       "8  Hiring For Data Analyst @ Bangalore contract role   \n",
       "9                       Mega Hiring For Data Analyst   \n",
       "\n",
       "                              Job Location  \\\n",
       "0                           Bangalore East   \n",
       "1                      Bangalore/Bengaluru   \n",
       "2                      Bangalore/Bengaluru   \n",
       "3                      Bangalore/Bengaluru   \n",
       "4                      Bangalore/Bengaluru   \n",
       "5                      Bangalore/Bengaluru   \n",
       "6  Bangalore/Bengaluru, Mumbai (All Areas)   \n",
       "7             Chennai, Bangalore/Bengaluru   \n",
       "8                      Bangalore/Bengaluru   \n",
       "9                       (WFH during Covid)   \n",
       "\n",
       "                                        Company Name Experience  \n",
       "0                                             AXA XL    0-5 Yrs  \n",
       "1        Capgemini Technology Services India Limited    2-5 Yrs  \n",
       "2                                     Cyient Limited    4-7 Yrs  \n",
       "3                   Allegis Services India Pvt. Ltd.    2-5 Yrs  \n",
       "4                   Allegis Services India Pvt. Ltd.    3-5 Yrs  \n",
       "5                                               SUEZ   5-10 Yrs  \n",
       "6                         Capco Technologies Pvt Ltd    5-8 Yrs  \n",
       "7                     Tata Consultancy Services Ltd.   6-11 Yrs  \n",
       "8                  PERSOLKELLY INDIA PRIVATE LIMITED    1-4 Yrs  \n",
       "9  Startek (Aegis Customer Support Services Priva...    1-3 Yrs  "
      ]
     },
     "execution_count": 41,
     "metadata": {},
     "output_type": "execute_result"
    }
   ],
   "source": [
    "# scraping all the data in dataframe \n",
    "naukrijob=pd.DataFrame(())\n",
    "naukrijob['Job Title']=job_title[0:10]\n",
    "naukrijob['Job Location']=job_loc[0:10]\n",
    "naukrijob['Company Name']=company_name[0:10]\n",
    "naukrijob['Experience']=experience[0:10]\n",
    "\n",
    "naukrijob"
   ]
  },
  {
   "cell_type": "markdown",
   "metadata": {},
   "source": [
    "# Write a python program to scrape data for “Data Scientist” Job position in “Bangalore” location. You have to scrape the job-title, job-location, company_name, full job-description. You have to scrape first 10 jobs data."
   ]
  },
  {
   "cell_type": "code",
   "execution_count": 42,
   "metadata": {},
   "outputs": [],
   "source": [
    "url1=\"https://www.naukri.com/\"\n",
    "driver.get(url1)"
   ]
  },
  {
   "cell_type": "code",
   "execution_count": 43,
   "metadata": {},
   "outputs": [
    {
     "data": {
      "text/plain": [
       "<selenium.webdriver.remote.webelement.WebElement (session=\"77d6894c2dfd9bbf738fe202c09cff54\", element=\"4349d1f6-abbf-40b2-8e34-2e47af3a9de6\")>"
      ]
     },
     "execution_count": 43,
     "metadata": {},
     "output_type": "execute_result"
    }
   ],
   "source": [
    "serch_job=driver.find_element_by_id(\"qsb-keyword-sugg\")\n",
    "serch_job"
   ]
  },
  {
   "cell_type": "code",
   "execution_count": 44,
   "metadata": {},
   "outputs": [],
   "source": [
    "serch_job.send_keys(\"Data Scientist\")"
   ]
  },
  {
   "cell_type": "code",
   "execution_count": 45,
   "metadata": {},
   "outputs": [
    {
     "data": {
      "text/plain": [
       "<selenium.webdriver.remote.webelement.WebElement (session=\"77d6894c2dfd9bbf738fe202c09cff54\", element=\"3c124c84-e50b-440e-a60f-89f7ef5f17a4\")>"
      ]
     },
     "execution_count": 45,
     "metadata": {},
     "output_type": "execute_result"
    }
   ],
   "source": [
    "ser_loc=driver.find_element_by_id(\"qsb-location-sugg\")\n",
    "ser_loc"
   ]
  },
  {
   "cell_type": "code",
   "execution_count": 46,
   "metadata": {},
   "outputs": [],
   "source": [
    "ser_loc.send_keys(\"Bangalore\")"
   ]
  },
  {
   "cell_type": "code",
   "execution_count": 47,
   "metadata": {},
   "outputs": [],
   "source": [
    "ser_btn=driver.find_element_by_xpath(\"//button[@class='btn']\")\n",
    "ser_btn.click()"
   ]
  },
  {
   "cell_type": "code",
   "execution_count": 48,
   "metadata": {},
   "outputs": [
    {
     "data": {
      "text/plain": [
       "['Senior Data Scientist',\n",
       " 'Sr . Data Scientist',\n",
       " 'Senior Data Scientist',\n",
       " 'Senior/ Lead Data Scientist',\n",
       " 'Lead Data Scientist',\n",
       " 'Integrated Demand Modelling Data Scientist',\n",
       " 'Data Scientist: Advanced Analytics',\n",
       " 'Data Scientist: Advanced Analytics',\n",
       " 'Data Scientist',\n",
       " 'Data Scientist - Sales Reports and Analytics',\n",
       " 'Sr. Data Scientist',\n",
       " 'Sr Data Scientist',\n",
       " 'Data Scientist',\n",
       " 'Senior Lead Data Scientist',\n",
       " 'Data Scientist Senior Advisor Sales Reports and Analytics',\n",
       " 'Senior/Lead Data Scientist - Machine Learning/Deep Learning',\n",
       " 'Senior Data Scientist',\n",
       " 'Senior Data Scientist - Nielsen Data',\n",
       " 'Manager- Data Scientist',\n",
       " 'Data Scientist']"
      ]
     },
     "execution_count": 48,
     "metadata": {},
     "output_type": "execute_result"
    }
   ],
   "source": [
    "# to extract the job title\n",
    "title_tags=driver.find_elements_by_xpath(\"//a[@class='title fw500 ellipsis']\")\n",
    "title_tags\n",
    "# becoz text do not work in text so we use loop so that the job titles can be extracted\n",
    "\n",
    "job_title=[]\n",
    "for i in title_tags:\n",
    "    job_title.append(i.text)\n",
    "job_title"
   ]
  },
  {
   "cell_type": "code",
   "execution_count": 49,
   "metadata": {},
   "outputs": [
    {
     "data": {
      "text/plain": [
       "['IBM India Pvt. Limited',\n",
       " 'Fractal Analytics',\n",
       " 'RANDSTAD INDIA PVT LTD',\n",
       " 'Superior Group',\n",
       " 'Fractal Analytics',\n",
       " 'Dell International Services India Private Limited',\n",
       " 'IBM India Pvt. Limited',\n",
       " 'IBM India Pvt. Limited',\n",
       " 'IBM India Pvt. Limited',\n",
       " 'Dell International Services India Private Limited',\n",
       " 'AGILISIUM CONSULTING INDIA PRIVATE LIMITED',\n",
       " 'SHF DESIGN ENGINEERING PRIVATE LIMITED',\n",
       " 'NetApp',\n",
       " 'Scienaptic Systems',\n",
       " 'Dell International Services India Private Limited',\n",
       " 'Squareroot Consulting Pvt Ltd.',\n",
       " 'Enquero',\n",
       " 'Enquero',\n",
       " 'ExecBoardinAsia',\n",
       " 'SG Analytics Pvt. Ltd.']"
      ]
     },
     "execution_count": 49,
     "metadata": {},
     "output_type": "execute_result"
    }
   ],
   "source": [
    "# to extract the company name\n",
    "company_tags=driver.find_elements_by_xpath(\"//a[@class='subTitle ellipsis fleft']\")\n",
    "company_tags\n",
    "\n",
    "# becoz text do not work in text so we use loop so that the company name can be extracted\n",
    "\n",
    "company_name=[]\n",
    "for i in company_tags:\n",
    "    company_name.append(i.text)\n",
    "company_name"
   ]
  },
  {
   "cell_type": "code",
   "execution_count": 50,
   "metadata": {},
   "outputs": [
    {
     "data": {
      "text/plain": [
       "['Bangalore/Bengaluru',\n",
       " 'Bangalore/Bengaluru',\n",
       " 'Bangalore/Bengaluru',\n",
       " 'Bangalore/Bengaluru',\n",
       " 'Bangalore/Bengaluru',\n",
       " 'Bangalore/Bengaluru',\n",
       " 'Bangalore/Bengaluru',\n",
       " 'Bangalore/Bengaluru',\n",
       " 'Bangalore/Bengaluru',\n",
       " 'Bangalore/Bengaluru',\n",
       " 'Chennai, Bangalore/Bengaluru',\n",
       " 'Chennai, Bangalore/Bengaluru',\n",
       " 'Bangalore/Bengaluru',\n",
       " 'Bangalore/Bengaluru',\n",
       " 'Bangalore/Bengaluru',\n",
       " 'Bangalore/Bengaluru',\n",
       " 'Hyderabad/Secunderabad, Bangalore/Bengaluru',\n",
       " 'Bangalore/Bengaluru',\n",
       " 'Bangalore/Bengaluru',\n",
       " 'Pune, Bangalore/Bengaluru']"
      ]
     },
     "execution_count": 50,
     "metadata": {},
     "output_type": "execute_result"
    }
   ],
   "source": [
    "# to extract the company name\n",
    "loc_tags=driver.find_elements_by_xpath(\"//li[@class='fleft grey-text br2 placeHolderLi location']//span\")\n",
    "loc_tags\n",
    "\n",
    "# becoz text do not work in text so we use loop so that the job location can be extracted\n",
    "\n",
    "job_loc=[]\n",
    "for i in loc_tags:\n",
    "    job_loc.append(i.text)\n",
    "job_loc\n"
   ]
  },
  {
   "cell_type": "code",
   "execution_count": 51,
   "metadata": {},
   "outputs": [
    {
     "data": {
      "text/plain": [
       "[<selenium.webdriver.remote.webelement.WebElement (session=\"77d6894c2dfd9bbf738fe202c09cff54\", element=\"6c15d24f-2f9f-4ba5-86b8-16d7d418263e\")>,\n",
       " <selenium.webdriver.remote.webelement.WebElement (session=\"77d6894c2dfd9bbf738fe202c09cff54\", element=\"bdb335e7-0ec5-43d6-a905-66d6cf2cc2e7\")>,\n",
       " <selenium.webdriver.remote.webelement.WebElement (session=\"77d6894c2dfd9bbf738fe202c09cff54\", element=\"625ce04e-8685-49ca-94a2-10ea5ec62646\")>,\n",
       " <selenium.webdriver.remote.webelement.WebElement (session=\"77d6894c2dfd9bbf738fe202c09cff54\", element=\"9f064ea0-5580-4530-90d3-6868e2c3e3f6\")>,\n",
       " <selenium.webdriver.remote.webelement.WebElement (session=\"77d6894c2dfd9bbf738fe202c09cff54\", element=\"8661bbf0-96f5-480b-9589-4f275d68e9e0\")>,\n",
       " <selenium.webdriver.remote.webelement.WebElement (session=\"77d6894c2dfd9bbf738fe202c09cff54\", element=\"42743605-4703-4bd3-af65-4b83484289f2\")>,\n",
       " <selenium.webdriver.remote.webelement.WebElement (session=\"77d6894c2dfd9bbf738fe202c09cff54\", element=\"7981136f-a128-4458-a206-3e3000053872\")>,\n",
       " <selenium.webdriver.remote.webelement.WebElement (session=\"77d6894c2dfd9bbf738fe202c09cff54\", element=\"c4f61685-2a5a-4ddc-96f7-80307703a729\")>,\n",
       " <selenium.webdriver.remote.webelement.WebElement (session=\"77d6894c2dfd9bbf738fe202c09cff54\", element=\"1edeca02-16af-4a19-a438-c72ca922bc50\")>,\n",
       " <selenium.webdriver.remote.webelement.WebElement (session=\"77d6894c2dfd9bbf738fe202c09cff54\", element=\"a8fa0334-7276-4106-b6f9-a5fb947867a9\")>,\n",
       " <selenium.webdriver.remote.webelement.WebElement (session=\"77d6894c2dfd9bbf738fe202c09cff54\", element=\"1fa3bd8d-664e-417b-b388-553960505f28\")>,\n",
       " <selenium.webdriver.remote.webelement.WebElement (session=\"77d6894c2dfd9bbf738fe202c09cff54\", element=\"13a23035-1102-4e8f-8323-c45481153a4c\")>,\n",
       " <selenium.webdriver.remote.webelement.WebElement (session=\"77d6894c2dfd9bbf738fe202c09cff54\", element=\"57f8842a-55bf-40ee-8e32-538ad3eed14a\")>,\n",
       " <selenium.webdriver.remote.webelement.WebElement (session=\"77d6894c2dfd9bbf738fe202c09cff54\", element=\"b2477c3a-68b1-4bef-a89f-1283174a6cc2\")>,\n",
       " <selenium.webdriver.remote.webelement.WebElement (session=\"77d6894c2dfd9bbf738fe202c09cff54\", element=\"5dca9aec-ed46-48c7-9397-e6fbb3c5bd25\")>,\n",
       " <selenium.webdriver.remote.webelement.WebElement (session=\"77d6894c2dfd9bbf738fe202c09cff54\", element=\"72dd0ab5-cffc-4f28-92d2-bdaf616f509c\")>,\n",
       " <selenium.webdriver.remote.webelement.WebElement (session=\"77d6894c2dfd9bbf738fe202c09cff54\", element=\"d72a50f2-d5f3-4709-baaa-ef28b3dfb64d\")>,\n",
       " <selenium.webdriver.remote.webelement.WebElement (session=\"77d6894c2dfd9bbf738fe202c09cff54\", element=\"f2b26d80-f0e0-4ca7-ac43-2b5aa58bf95f\")>,\n",
       " <selenium.webdriver.remote.webelement.WebElement (session=\"77d6894c2dfd9bbf738fe202c09cff54\", element=\"eadc5cfd-10c6-4b10-b49b-3e54917d6544\")>,\n",
       " <selenium.webdriver.remote.webelement.WebElement (session=\"77d6894c2dfd9bbf738fe202c09cff54\", element=\"1830105e-a773-44e9-b797-2659f21f5587\")>]"
      ]
     },
     "execution_count": 51,
     "metadata": {},
     "output_type": "execute_result"
    }
   ],
   "source": [
    "url=driver.find_elements_by_xpath(\"//a[@class='title fw500 ellipsis']\")\n",
    "url"
   ]
  },
  {
   "cell_type": "code",
   "execution_count": 52,
   "metadata": {},
   "outputs": [
    {
     "data": {
      "text/plain": [
       "['https://www.naukri.com/job-listings-senior-data-scientist-ibm-india-pvt-limited-bangalore-bengaluru-5-to-10-years-220921902612?src=jobsearchDesk&sid=1632496530938475&xp=1&px=1',\n",
       " 'https://www.naukri.com/job-listings-sr-data-scientist-fractal-analytics-ltd-bangalore-bengaluru-3-to-5-years-230921500802?src=jobsearchDesk&sid=1632496530938475&xp=2&px=1',\n",
       " 'https://www.naukri.com/job-listings-senior-data-scientist-randstad-india-pvt-ltd-bangalore-bengaluru-5-to-10-years-230921007969?src=jobsearchDesk&sid=1632496530938475&xp=3&px=1',\n",
       " 'https://www.naukri.com/job-listings-senior-lead-data-scientist-superior-group-bangalore-bengaluru-6-to-10-years-230921501243?src=jobsearchDesk&sid=1632496530938475&xp=4&px=1',\n",
       " 'https://www.naukri.com/job-listings-lead-data-scientist-fractal-analytics-ltd-bangalore-bengaluru-5-to-10-years-230921500803?src=jobsearchDesk&sid=1632496530938475&xp=5&px=1',\n",
       " 'https://www.naukri.com/job-listings-integrated-demand-modelling-data-scientist-dell-international-services-india-private-limited-bangalore-bengaluru-6-to-11-years-220921905423?src=jobsearchDesk&sid=1632496530938475&xp=6&px=1',\n",
       " 'https://www.naukri.com/job-listings-data-scientist-advanced-analytics-ibm-india-pvt-limited-bangalore-bengaluru-5-to-10-years-240921908395?src=jobsearchDesk&sid=1632496530938475&xp=7&px=1',\n",
       " 'https://www.naukri.com/job-listings-data-scientist-advanced-analytics-ibm-india-pvt-limited-bangalore-bengaluru-5-to-10-years-240921908090?src=jobsearchDesk&sid=1632496530938475&xp=8&px=1',\n",
       " 'https://www.naukri.com/job-listings-data-scientist-ibm-india-pvt-limited-bangalore-bengaluru-3-to-6-years-230921908746?src=jobsearchDesk&sid=1632496530938475&xp=9&px=1',\n",
       " 'https://www.naukri.com/job-listings-data-scientist-sales-reports-and-analytics-dell-international-services-india-private-limited-bangalore-bengaluru-5-to-8-years-220921909310?src=jobsearchDesk&sid=1632496530938475&xp=10&px=1',\n",
       " 'https://www.naukri.com/job-listings-sr-data-scientist-agilisium-consulting-india-private-limited-chennai-bangalore-bengaluru-7-to-12-years-240921007289?src=jobsearchDesk&sid=1632496530938475&xp=11&px=1',\n",
       " 'https://www.naukri.com/job-listings-sr-data-scientist-shf-design-engineering-private-limited-chennai-bangalore-bengaluru-10-to-10-years-220921009045?src=jobsearchDesk&sid=1632496530938475&xp=12&px=1',\n",
       " 'https://www.naukri.com/job-listings-data-scientist-netapp-india-private-limited-bangalore-bengaluru-8-to-13-years-220921911336?src=jobsearchDesk&sid=1632496530938475&xp=13&px=1',\n",
       " 'https://www.naukri.com/job-listings-senior-lead-data-scientist-scienaptic-systems-bangalore-bengaluru-10-to-15-years-200921501817?src=jobsearchDesk&sid=1632496530938475&xp=14&px=1',\n",
       " 'https://www.naukri.com/job-listings-data-scientist-senior-advisor-sales-reports-and-analytics-dell-international-services-india-private-limited-bangalore-bengaluru-8-to-12-years-230921910682?src=jobsearchDesk&sid=1632496530938475&xp=15&px=1',\n",
       " 'https://www.naukri.com/job-listings-senior-lead-data-scientist-machine-learning-deep-learning-squareroot-consulting-pvt-ltd-bangalore-bengaluru-1-to-6-years-010320600083?src=jobsearchDesk&sid=1632496530938475&xp=16&px=1',\n",
       " 'https://www.naukri.com/job-listings-senior-data-scientist-enquero-hyderabad-secunderabad-bangalore-bengaluru-6-to-10-years-210921500628?src=jobsearchDesk&sid=1632496530938475&xp=17&px=1',\n",
       " 'https://www.naukri.com/job-listings-senior-data-scientist-nielsen-data-enquero-bangalore-bengaluru-4-to-9-years-170921500570?src=jobsearchDesk&sid=1632496530938475&xp=18&px=1',\n",
       " 'https://www.naukri.com/job-listings-manager-data-scientist-execboardinasia-bangalore-bengaluru-11-to-15-years-230921501511?src=jobsearchDesk&sid=1632496530938475&xp=19&px=1',\n",
       " 'https://www.naukri.com/job-listings-data-scientist-sg-analytics-pvt-ltd-pune-bangalore-bengaluru-2-to-5-years-160921001781?src=jobsearchDesk&sid=1632496530938475&xp=20&px=1']"
      ]
     },
     "execution_count": 52,
     "metadata": {},
     "output_type": "execute_result"
    }
   ],
   "source": [
    "jpurl=[]\n",
    "\n",
    "for i in url:\n",
    "    jpurl.append(i.get_attribute('href'))\n",
    "jpurl"
   ]
  },
  {
   "cell_type": "code",
   "execution_count": 60,
   "metadata": {},
   "outputs": [],
   "source": [
    "job_position=[]\n",
    "\n"
   ]
  },
  {
   "cell_type": "code",
   "execution_count": 65,
   "metadata": {},
   "outputs": [
    {
     "data": {
      "text/plain": [
       "['Job Description',\n",
       " '--',\n",
       " '--',\n",
       " '--',\n",
       " '--',\n",
       " '--',\n",
       " 'Job Description',\n",
       " 'Job Description',\n",
       " 'Job Description',\n",
       " '--',\n",
       " '--',\n",
       " '--',\n",
       " '--',\n",
       " '--',\n",
       " '--',\n",
       " '--',\n",
       " '--',\n",
       " '--',\n",
       " '--',\n",
       " '--',\n",
       " '--',\n",
       " '--',\n",
       " '--',\n",
       " '--',\n",
       " '--',\n",
       " '--',\n",
       " '--',\n",
       " '--',\n",
       " '--',\n",
       " '--',\n",
       " '--',\n",
       " '--',\n",
       " '--',\n",
       " '--',\n",
       " '--',\n",
       " '--',\n",
       " '--',\n",
       " '--',\n",
       " '--',\n",
       " '--',\n",
       " '--',\n",
       " '--',\n",
       " '--',\n",
       " '--',\n",
       " '--',\n",
       " '--',\n",
       " '--',\n",
       " '--',\n",
       " '--',\n",
       " '--',\n",
       " '--',\n",
       " '--',\n",
       " '--',\n",
       " '--',\n",
       " '--',\n",
       " '--',\n",
       " '--',\n",
       " '--',\n",
       " '--',\n",
       " '--',\n",
       " '--',\n",
       " '--',\n",
       " '--',\n",
       " '--',\n",
       " '--',\n",
       " '--',\n",
       " '--',\n",
       " '--',\n",
       " '--',\n",
       " '--',\n",
       " '--',\n",
       " '--',\n",
       " '--',\n",
       " '--',\n",
       " '--',\n",
       " '--',\n",
       " '--',\n",
       " '--',\n",
       " '--',\n",
       " '--']"
      ]
     },
     "execution_count": 65,
     "metadata": {},
     "output_type": "execute_result"
    }
   ],
   "source": [
    "for i in jpurl:\n",
    "    driver.get(i)\n",
    "    \n",
    "    #extracting Job Position\n",
    "    try:\n",
    "        job=driver.find_element_by_xpath(\"//section[@class='job-desc ']//p\")\n",
    "        job_position.append(job.text)\n",
    "    except:\n",
    "       job_position.append('--')\n",
    "        \n",
    "job_position"
   ]
  },
  {
   "cell_type": "code",
   "execution_count": 64,
   "metadata": {},
   "outputs": [
    {
     "data": {
      "text/html": [
       "<div>\n",
       "<style scoped>\n",
       "    .dataframe tbody tr th:only-of-type {\n",
       "        vertical-align: middle;\n",
       "    }\n",
       "\n",
       "    .dataframe tbody tr th {\n",
       "        vertical-align: top;\n",
       "    }\n",
       "\n",
       "    .dataframe thead th {\n",
       "        text-align: right;\n",
       "    }\n",
       "</style>\n",
       "<table border=\"1\" class=\"dataframe\">\n",
       "  <thead>\n",
       "    <tr style=\"text-align: right;\">\n",
       "      <th></th>\n",
       "      <th>Job Title</th>\n",
       "      <th>Job Location</th>\n",
       "      <th>Company Name</th>\n",
       "      <th>Job Position</th>\n",
       "    </tr>\n",
       "  </thead>\n",
       "  <tbody>\n",
       "    <tr>\n",
       "      <th>0</th>\n",
       "      <td>Senior Data Scientist</td>\n",
       "      <td>Bangalore/Bengaluru</td>\n",
       "      <td>IBM India Pvt. Limited</td>\n",
       "      <td>Job Description</td>\n",
       "    </tr>\n",
       "    <tr>\n",
       "      <th>1</th>\n",
       "      <td>Sr . Data Scientist</td>\n",
       "      <td>Bangalore/Bengaluru</td>\n",
       "      <td>Fractal Analytics</td>\n",
       "      <td>--</td>\n",
       "    </tr>\n",
       "    <tr>\n",
       "      <th>2</th>\n",
       "      <td>Senior Data Scientist</td>\n",
       "      <td>Bangalore/Bengaluru</td>\n",
       "      <td>RANDSTAD INDIA PVT LTD</td>\n",
       "      <td>--</td>\n",
       "    </tr>\n",
       "    <tr>\n",
       "      <th>3</th>\n",
       "      <td>Senior/ Lead Data Scientist</td>\n",
       "      <td>Bangalore/Bengaluru</td>\n",
       "      <td>Superior Group</td>\n",
       "      <td>--</td>\n",
       "    </tr>\n",
       "    <tr>\n",
       "      <th>4</th>\n",
       "      <td>Lead Data Scientist</td>\n",
       "      <td>Bangalore/Bengaluru</td>\n",
       "      <td>Fractal Analytics</td>\n",
       "      <td>--</td>\n",
       "    </tr>\n",
       "    <tr>\n",
       "      <th>5</th>\n",
       "      <td>Integrated Demand Modelling Data Scientist</td>\n",
       "      <td>Bangalore/Bengaluru</td>\n",
       "      <td>Dell International Services India Private Limited</td>\n",
       "      <td>--</td>\n",
       "    </tr>\n",
       "    <tr>\n",
       "      <th>6</th>\n",
       "      <td>Data Scientist: Advanced Analytics</td>\n",
       "      <td>Bangalore/Bengaluru</td>\n",
       "      <td>IBM India Pvt. Limited</td>\n",
       "      <td>Job Description</td>\n",
       "    </tr>\n",
       "    <tr>\n",
       "      <th>7</th>\n",
       "      <td>Data Scientist: Advanced Analytics</td>\n",
       "      <td>Bangalore/Bengaluru</td>\n",
       "      <td>IBM India Pvt. Limited</td>\n",
       "      <td>Job Description</td>\n",
       "    </tr>\n",
       "    <tr>\n",
       "      <th>8</th>\n",
       "      <td>Data Scientist</td>\n",
       "      <td>Bangalore/Bengaluru</td>\n",
       "      <td>IBM India Pvt. Limited</td>\n",
       "      <td>Job Description</td>\n",
       "    </tr>\n",
       "    <tr>\n",
       "      <th>9</th>\n",
       "      <td>Data Scientist - Sales Reports and Analytics</td>\n",
       "      <td>Bangalore/Bengaluru</td>\n",
       "      <td>Dell International Services India Private Limited</td>\n",
       "      <td>--</td>\n",
       "    </tr>\n",
       "  </tbody>\n",
       "</table>\n",
       "</div>"
      ],
      "text/plain": [
       "                                      Job Title         Job Location  \\\n",
       "0                         Senior Data Scientist  Bangalore/Bengaluru   \n",
       "1                           Sr . Data Scientist  Bangalore/Bengaluru   \n",
       "2                         Senior Data Scientist  Bangalore/Bengaluru   \n",
       "3                   Senior/ Lead Data Scientist  Bangalore/Bengaluru   \n",
       "4                           Lead Data Scientist  Bangalore/Bengaluru   \n",
       "5    Integrated Demand Modelling Data Scientist  Bangalore/Bengaluru   \n",
       "6            Data Scientist: Advanced Analytics  Bangalore/Bengaluru   \n",
       "7            Data Scientist: Advanced Analytics  Bangalore/Bengaluru   \n",
       "8                                Data Scientist  Bangalore/Bengaluru   \n",
       "9  Data Scientist - Sales Reports and Analytics  Bangalore/Bengaluru   \n",
       "\n",
       "                                        Company Name     Job Position  \n",
       "0                             IBM India Pvt. Limited  Job Description  \n",
       "1                                  Fractal Analytics               --  \n",
       "2                             RANDSTAD INDIA PVT LTD               --  \n",
       "3                                     Superior Group               --  \n",
       "4                                  Fractal Analytics               --  \n",
       "5  Dell International Services India Private Limited               --  \n",
       "6                             IBM India Pvt. Limited  Job Description  \n",
       "7                             IBM India Pvt. Limited  Job Description  \n",
       "8                             IBM India Pvt. Limited  Job Description  \n",
       "9  Dell International Services India Private Limited               --  "
      ]
     },
     "execution_count": 64,
     "metadata": {},
     "output_type": "execute_result"
    }
   ],
   "source": [
    "# scraping all the data in dataframe \n",
    "naukrijob1=pd.DataFrame(())\n",
    "naukrijob1['Job Title']=job_title[0:10]\n",
    "naukrijob1['Job Location']=job_loc[0:10]\n",
    "naukrijob1['Company Name']=company_name[0:10]\n",
    "naukrijob1['Job Position']=job_position[0:10]\n",
    "\n",
    "naukrijob1"
   ]
  },
  {
   "cell_type": "markdown",
   "metadata": {},
   "source": [
    "# Question 3"
   ]
  },
  {
   "cell_type": "code",
   "execution_count": 66,
   "metadata": {},
   "outputs": [],
   "source": [
    "url1=\"https://www.naukri.com/\"\n",
    "driver.get(url1)"
   ]
  },
  {
   "cell_type": "code",
   "execution_count": 67,
   "metadata": {},
   "outputs": [
    {
     "data": {
      "text/plain": [
       "<selenium.webdriver.remote.webelement.WebElement (session=\"77d6894c2dfd9bbf738fe202c09cff54\", element=\"8f8acd4c-4e7e-4c72-99eb-415a45302385\")>"
      ]
     },
     "execution_count": 67,
     "metadata": {},
     "output_type": "execute_result"
    }
   ],
   "source": [
    "serch_job=driver.find_element_by_id(\"qsb-keyword-sugg\")\n",
    "serch_job"
   ]
  },
  {
   "cell_type": "code",
   "execution_count": 68,
   "metadata": {},
   "outputs": [],
   "source": [
    "serch_job.send_keys(\"Data Scientist\")"
   ]
  },
  {
   "cell_type": "code",
   "execution_count": 69,
   "metadata": {},
   "outputs": [],
   "source": [
    "ser_btn=driver.find_element_by_xpath(\"//button[@class='btn']\")\n",
    "ser_btn.click()"
   ]
  },
  {
   "cell_type": "code",
   "execution_count": 75,
   "metadata": {},
   "outputs": [],
   "source": [
    "loc_filter=driver.find_element_by_xpath(\"//span[@class='ellipsis fleft']\")\n",
    "loc_filter.click()"
   ]
  },
  {
   "cell_type": "markdown",
   "metadata": {},
   "source": [
    "not choosen the required filter "
   ]
  },
  {
   "cell_type": "code",
   "execution_count": 77,
   "metadata": {},
   "outputs": [
    {
     "data": {
      "text/plain": [
       "<selenium.webdriver.remote.webelement.WebElement (session=\"77d6894c2dfd9bbf738fe202c09cff54\", element=\"0bb43b28-f95a-44e3-bb18-05582503ca37\")>"
      ]
     },
     "execution_count": 77,
     "metadata": {},
     "output_type": "execute_result"
    }
   ],
   "source": [
    "# locfilter=driver.find_element_by_id(\"chk-Delhi / NCR-cityTypeGid-]\")\n",
    "loc_filter"
   ]
  },
  {
   "cell_type": "markdown",
   "metadata": {},
   "source": [
    "# Q4: Write a python program to scrape data for first 10 job results for Data scientist Designation in Noida location. You have to scrape company_name, No. of days ago when job was posted, Rating of the company."
   ]
  },
  {
   "cell_type": "code",
   "execution_count": 81,
   "metadata": {},
   "outputs": [],
   "source": [
    "url2=\"https://www.glassdoor.co.in/sitedirectory/title-jobs.htm\"\n",
    "driver.get(url2)"
   ]
  },
  {
   "cell_type": "code",
   "execution_count": 83,
   "metadata": {},
   "outputs": [
    {
     "data": {
      "text/plain": [
       "<selenium.webdriver.remote.webelement.WebElement (session=\"77d6894c2dfd9bbf738fe202c09cff54\", element=\"433b78ad-39d2-4898-bfa2-c0c5f2d774f2\")>"
      ]
     },
     "execution_count": 83,
     "metadata": {},
     "output_type": "execute_result"
    }
   ],
   "source": [
    "serch_job1=driver.find_element_by_id(\"scKeyword\")\n",
    "serch_job1"
   ]
  },
  {
   "cell_type": "code",
   "execution_count": 84,
   "metadata": {},
   "outputs": [],
   "source": [
    "serch_job1.send_keys(\"Data Scientist\")"
   ]
  },
  {
   "cell_type": "code",
   "execution_count": 85,
   "metadata": {},
   "outputs": [
    {
     "data": {
      "text/plain": [
       "<selenium.webdriver.remote.webelement.WebElement (session=\"77d6894c2dfd9bbf738fe202c09cff54\", element=\"dee20c3c-7f73-4257-829b-ac8db52d7d52\")>"
      ]
     },
     "execution_count": 85,
     "metadata": {},
     "output_type": "execute_result"
    }
   ],
   "source": [
    "ser_loc1=driver.find_element_by_id(\"scLocation\")\n",
    "ser_loc1"
   ]
  },
  {
   "cell_type": "code",
   "execution_count": 86,
   "metadata": {},
   "outputs": [],
   "source": [
    "ser_loc1.send_keys(\"Noida\")"
   ]
  },
  {
   "cell_type": "code",
   "execution_count": 87,
   "metadata": {},
   "outputs": [],
   "source": [
    "ser_btn=driver.find_element_by_xpath(\"//button[@class='pl-0 pr-xsm SearchStyles__searchKeywordSubmit']\")\n",
    "ser_btn.click()"
   ]
  },
  {
   "cell_type": "code",
   "execution_count": 88,
   "metadata": {},
   "outputs": [
    {
     "data": {
      "text/plain": [
       "['Procter & Gamble',\n",
       " 'Applied Materials Inc.',\n",
       " 'Amplify Analytix',\n",
       " 'CommerceIQ',\n",
       " 'Pfizer',\n",
       " 'MHK TECH INC',\n",
       " 'Volvo Group',\n",
       " 'Airtel India',\n",
       " 'Argoid',\n",
       " 'Deloitte',\n",
       " 'NatWest Group',\n",
       " 'Michelin',\n",
       " 'Top Mentor',\n",
       " 'Shell',\n",
       " 'Tricog Health India Private Limited',\n",
       " 'Radical Technologies',\n",
       " 'Mercedes-Benz Research and Development India Private Limited',\n",
       " 'UST Global',\n",
       " 'UnitedHealth Group',\n",
       " 'Intel',\n",
       " 'Cyient',\n",
       " 'ZoomRx',\n",
       " 'Cisco Systems',\n",
       " 'GetMega',\n",
       " 'Argoid',\n",
       " 'KANTAR',\n",
       " 'Microsoft',\n",
       " 'Hashchain Fintech LLP',\n",
       " 'Shell',\n",
       " 'Maersk']"
      ]
     },
     "execution_count": 88,
     "metadata": {},
     "output_type": "execute_result"
    }
   ],
   "source": [
    "# to extract the company name\n",
    "company_tags1=driver.find_elements_by_xpath(\"//a[@class=' job-search-key-l2wjgv e1n63ojh0 jobLink']\")\n",
    "company_tags1\n",
    "\n",
    "# becoz text do not work in text so we use loop so that the company name can be extracted\n",
    "\n",
    "company_name1=[]\n",
    "for i in company_tags1:\n",
    "    company_name1.append(i.text)\n",
    "company_name1"
   ]
  },
  {
   "cell_type": "code",
   "execution_count": 89,
   "metadata": {},
   "outputs": [
    {
     "data": {
      "text/plain": [
       "['3d',\n",
       " '30d+',\n",
       " '30d+',\n",
       " '30d+',\n",
       " '30d+',\n",
       " '11d',\n",
       " '24h',\n",
       " '4d',\n",
       " '11d',\n",
       " '2d',\n",
       " '3d',\n",
       " '3d',\n",
       " '4d',\n",
       " '3d',\n",
       " '3d',\n",
       " '2d',\n",
       " '9d',\n",
       " '1d',\n",
       " '8d',\n",
       " '6d',\n",
       " '3d',\n",
       " '23d',\n",
       " '24h',\n",
       " '24h',\n",
       " '18d',\n",
       " '9d',\n",
       " '24h',\n",
       " '8d',\n",
       " '10d',\n",
       " '3d']"
      ]
     },
     "execution_count": 89,
     "metadata": {},
     "output_type": "execute_result"
    }
   ],
   "source": [
    "# to extract the No of days job posted\n",
    "noofD=driver.find_elements_by_xpath(\"//div[@class='d-flex align-items-end pl-std css-17n8uzw']\")\n",
    "noofD\n",
    "\n",
    "# becoz text do not work in text so we use loop so that the No of days job poste can be extracted\n",
    "\n",
    "Agejob=[]\n",
    "for i in noofD:\n",
    "    Agejob.append(i.text)\n",
    "Agejob"
   ]
  },
  {
   "cell_type": "code",
   "execution_count": 90,
   "metadata": {},
   "outputs": [
    {
     "data": {
      "text/plain": [
       "['3d',\n",
       " '30d+',\n",
       " '30d+',\n",
       " '30d+',\n",
       " '30d+',\n",
       " '11d',\n",
       " '24h',\n",
       " '4d',\n",
       " '11d',\n",
       " '2d',\n",
       " '3d',\n",
       " '3d',\n",
       " '4d',\n",
       " '3d',\n",
       " '3d',\n",
       " '2d',\n",
       " '9d',\n",
       " '1d',\n",
       " '8d',\n",
       " '6d',\n",
       " '3d',\n",
       " '23d',\n",
       " '24h',\n",
       " '24h',\n",
       " '18d',\n",
       " '9d',\n",
       " '24h',\n",
       " '8d',\n",
       " '10d',\n",
       " '3d']"
      ]
     },
     "execution_count": 90,
     "metadata": {},
     "output_type": "execute_result"
    }
   ],
   "source": [
    "while(\" \" in Agejob) :\n",
    "    Agejob.remove(\" \")\n",
    "Agejob"
   ]
  },
  {
   "cell_type": "code",
   "execution_count": 91,
   "metadata": {},
   "outputs": [
    {
     "data": {
      "text/plain": [
       "['3.9',\n",
       " '4.7',\n",
       " '4.1',\n",
       " '4.2',\n",
       " '4.2',\n",
       " '3.9',\n",
       " '3.9',\n",
       " '3.9',\n",
       " '4.0',\n",
       " '4.1',\n",
       " '4.1',\n",
       " '3.1',\n",
       " '3.9',\n",
       " '4.0',\n",
       " '3.7',\n",
       " '4.2',\n",
       " '3.4',\n",
       " '3.6',\n",
       " '4.3',\n",
       " '3.4',\n",
       " '4.4',\n",
       " '4.1',\n",
       " '4.1']"
      ]
     },
     "execution_count": 91,
     "metadata": {},
     "output_type": "execute_result"
    }
   ],
   "source": [
    "# to extract the rating\n",
    "rate=driver.find_elements_by_xpath(\"//li[@class='react-job-listing job-search-key-nhtksm eigr9kq0']//span[@class=' job-search-key-srfzj0 e1cjmv6j0']\")\n",
    "rate\n",
    "\n",
    "# becoz text do not work in text so we use loop so that the rating can be extracted\n",
    "\n",
    "rating=[]\n",
    "for i in rate:\n",
    "    rating.append(i.text)\n",
    "rating"
   ]
  },
  {
   "cell_type": "code",
   "execution_count": 92,
   "metadata": {},
   "outputs": [
    {
     "data": {
      "text/html": [
       "<div>\n",
       "<style scoped>\n",
       "    .dataframe tbody tr th:only-of-type {\n",
       "        vertical-align: middle;\n",
       "    }\n",
       "\n",
       "    .dataframe tbody tr th {\n",
       "        vertical-align: top;\n",
       "    }\n",
       "\n",
       "    .dataframe thead th {\n",
       "        text-align: right;\n",
       "    }\n",
       "</style>\n",
       "<table border=\"1\" class=\"dataframe\">\n",
       "  <thead>\n",
       "    <tr style=\"text-align: right;\">\n",
       "      <th></th>\n",
       "      <th>Company Name</th>\n",
       "      <th>No of days Job Posted</th>\n",
       "      <th>Rating</th>\n",
       "    </tr>\n",
       "  </thead>\n",
       "  <tbody>\n",
       "    <tr>\n",
       "      <th>0</th>\n",
       "      <td>Procter &amp; Gamble</td>\n",
       "      <td>3d</td>\n",
       "      <td>3.9</td>\n",
       "    </tr>\n",
       "    <tr>\n",
       "      <th>1</th>\n",
       "      <td>Applied Materials Inc.</td>\n",
       "      <td>30d+</td>\n",
       "      <td>4.7</td>\n",
       "    </tr>\n",
       "    <tr>\n",
       "      <th>2</th>\n",
       "      <td>Amplify Analytix</td>\n",
       "      <td>30d+</td>\n",
       "      <td>4.1</td>\n",
       "    </tr>\n",
       "    <tr>\n",
       "      <th>3</th>\n",
       "      <td>CommerceIQ</td>\n",
       "      <td>30d+</td>\n",
       "      <td>4.2</td>\n",
       "    </tr>\n",
       "    <tr>\n",
       "      <th>4</th>\n",
       "      <td>Pfizer</td>\n",
       "      <td>30d+</td>\n",
       "      <td>4.2</td>\n",
       "    </tr>\n",
       "    <tr>\n",
       "      <th>5</th>\n",
       "      <td>MHK TECH INC</td>\n",
       "      <td>11d</td>\n",
       "      <td>3.9</td>\n",
       "    </tr>\n",
       "    <tr>\n",
       "      <th>6</th>\n",
       "      <td>Volvo Group</td>\n",
       "      <td>24h</td>\n",
       "      <td>3.9</td>\n",
       "    </tr>\n",
       "    <tr>\n",
       "      <th>7</th>\n",
       "      <td>Airtel India</td>\n",
       "      <td>4d</td>\n",
       "      <td>3.9</td>\n",
       "    </tr>\n",
       "    <tr>\n",
       "      <th>8</th>\n",
       "      <td>Argoid</td>\n",
       "      <td>11d</td>\n",
       "      <td>4.0</td>\n",
       "    </tr>\n",
       "    <tr>\n",
       "      <th>9</th>\n",
       "      <td>Deloitte</td>\n",
       "      <td>2d</td>\n",
       "      <td>4.1</td>\n",
       "    </tr>\n",
       "  </tbody>\n",
       "</table>\n",
       "</div>"
      ],
      "text/plain": [
       "             Company Name No of days Job Posted Rating\n",
       "0        Procter & Gamble                    3d    3.9\n",
       "1  Applied Materials Inc.                  30d+    4.7\n",
       "2        Amplify Analytix                  30d+    4.1\n",
       "3              CommerceIQ                  30d+    4.2\n",
       "4                  Pfizer                  30d+    4.2\n",
       "5            MHK TECH INC                   11d    3.9\n",
       "6             Volvo Group                   24h    3.9\n",
       "7            Airtel India                    4d    3.9\n",
       "8                  Argoid                   11d    4.0\n",
       "9                Deloitte                    2d    4.1"
      ]
     },
     "execution_count": 92,
     "metadata": {},
     "output_type": "execute_result"
    }
   ],
   "source": [
    "# scraping all the data in dataframe \n",
    "job=pd.DataFrame(())\n",
    "\n",
    "job['Company Name']=company_name1[0:10]\n",
    "job['No of days Job Posted']=Agejob[0:10]\n",
    "job['Rating']=rating[0:10]\n",
    "job\n"
   ]
  },
  {
   "cell_type": "markdown",
   "metadata": {},
   "source": [
    "# Q5: Write a python program to scrape the salary data for Data Scientist designation in Noida location."
   ]
  },
  {
   "cell_type": "code",
   "execution_count": 93,
   "metadata": {},
   "outputs": [],
   "source": [
    "url3=\"https://www.glassdoor.co.in/Salaries/index.htm\"\n",
    "driver.get(url3)"
   ]
  },
  {
   "cell_type": "code",
   "execution_count": 94,
   "metadata": {},
   "outputs": [
    {
     "data": {
      "text/plain": [
       "<selenium.webdriver.remote.webelement.WebElement (session=\"77d6894c2dfd9bbf738fe202c09cff54\", element=\"b341f8c6-3c04-404b-a73b-88b6bfb9c2e8\")>"
      ]
     },
     "execution_count": 94,
     "metadata": {},
     "output_type": "execute_result"
    }
   ],
   "source": [
    "serch_job2=driver.find_element_by_id(\"KeywordSearch\")\n",
    "serch_job2"
   ]
  },
  {
   "cell_type": "code",
   "execution_count": 95,
   "metadata": {},
   "outputs": [],
   "source": [
    "serch_job2.send_keys(\"Data Scientist\")"
   ]
  },
  {
   "cell_type": "code",
   "execution_count": 96,
   "metadata": {},
   "outputs": [],
   "source": [
    "ser_loc2=driver.find_element_by_id(\"LocationSearch\")\n",
    "ser_loc2.send_keys(\"Noida\")"
   ]
  },
  {
   "cell_type": "code",
   "execution_count": 97,
   "metadata": {},
   "outputs": [],
   "source": [
    "ser_btn=driver.find_element_by_xpath(\"//button[@class='gd-btn-mkt']\")\n",
    "ser_btn.click()"
   ]
  },
  {
   "cell_type": "code",
   "execution_count": 100,
   "metadata": {},
   "outputs": [
    {
     "data": {
      "text/plain": [
       "['Tata Consultancy Services',\n",
       " 'IBM',\n",
       " 'Accenture',\n",
       " 'Ericsson-Worldwide',\n",
       " 'Delhivery',\n",
       " 'UnitedHealth Group',\n",
       " 'Optum',\n",
       " 'EXL Service',\n",
       " 'Optum Global Solutions',\n",
       " 'dunnhumby',\n",
       " 'Valiance Solutions',\n",
       " 'Cognizant Technology Solutions',\n",
       " 'ZS Associates',\n",
       " 'Nagarro',\n",
       " 'Innovaccer',\n",
       " 'Amazon',\n",
       " 'OYO',\n",
       " 'Genpact',\n",
       " 'Fresher',\n",
       " 'CARS24.com']"
      ]
     },
     "execution_count": 100,
     "metadata": {},
     "output_type": "execute_result"
    }
   ],
   "source": [
    "# to extract the company name\n",
    "company_tags2=driver.find_elements_by_xpath(\"//a[@class='css-f3vw95 e1aj7ssy3']\")\n",
    "company_tags2\n",
    "\n",
    "# becoz text do not work in text so we use loop so that the company name can be extracted\n",
    "\n",
    "company_name2=[]\n",
    "for i in company_tags2:\n",
    "    company_name2.append(i.text)\n",
    "company_name2\n"
   ]
  },
  {
   "cell_type": "code",
   "execution_count": 102,
   "metadata": {},
   "outputs": [
    {
     "data": {
      "text/plain": [
       "['Range: ₹4L - ₹13L',\n",
       " 'Range: ₹1L - ₹28L',\n",
       " 'Range: ₹6L - ₹23L',\n",
       " 'Range: ₹4L - ₹17L',\n",
       " 'Range: ₹5L - ₹1Cr',\n",
       " 'Range: ₹8L - ₹16L',\n",
       " 'Range: ₹8L - ₹20L',\n",
       " 'Range: ₹8L - ₹16L',\n",
       " 'Range: ₹10L - ₹18L',\n",
       " 'Range: ₹6L - ₹21L',\n",
       " 'Range: ₹5L - ₹15L',\n",
       " 'Range: ₹4L - ₹13L',\n",
       " 'Range: ₹2L - ₹19L',\n",
       " 'Range: ₹4L - ₹21L',\n",
       " 'Range: ₹6L - ₹17L',\n",
       " 'Range: ₹10L - ₹46L',\n",
       " 'Range: ₹10L - ₹21L',\n",
       " 'Range: ₹2L - ₹23L',\n",
       " 'Range: ₹25T - ₹1L',\n",
       " 'Range: ₹9L - ₹15L']"
      ]
     },
     "execution_count": 102,
     "metadata": {},
     "output_type": "execute_result"
    }
   ],
   "source": [
    "# to extract the min_max salary\n",
    "min_max=driver.find_elements_by_xpath(\"//span[@class='d-block d-lg-none m-0 css-1b6bxoo']\")\n",
    "min_max\n",
    "\n",
    "# becoz text do not work in text so we use loop so that the min_max salary can be extracted\n",
    "\n",
    "minimum_max=[]\n",
    "for i in min_max:\n",
    "    minimum_max.append(i.text)\n",
    "minimum_max"
   ]
  },
  {
   "cell_type": "code",
   "execution_count": 103,
   "metadata": {},
   "outputs": [
    {
     "data": {
      "text/plain": [
       "['₹6,31,184 /yr',\n",
       " '₹9,08,246 /yr',\n",
       " '₹11,93,390 /yr',\n",
       " '₹7,61,766 /yr',\n",
       " '₹12,49,716 /yr',\n",
       " '₹12,80,000 /yr',\n",
       " '₹12,70,000 /yr',\n",
       " '₹11,76,259 /yr',\n",
       " '₹14,55,430 /yr',\n",
       " '₹11,40,187 /yr',\n",
       " '₹8,86,064 /yr',\n",
       " '₹9,62,227 /yr',\n",
       " '₹11,71,868 /yr',\n",
       " '₹11,01,815 /yr',\n",
       " '₹12,40,275 /yr',\n",
       " '₹21,05,971 /yr',\n",
       " '₹14,51,902 /yr',\n",
       " '₹5,91,319 /yr',\n",
       " '₹61,566 /mo',\n",
       " '₹10,80,727 /yr']"
      ]
     },
     "execution_count": 103,
     "metadata": {},
     "output_type": "execute_result"
    }
   ],
   "source": [
    "# to extract the Average salary\n",
    "avg=driver.find_elements_by_xpath(\"//div[@class='col-12 col-lg-4 px-lg-0 d-flex align-items-baseline']\")\n",
    "avg\n",
    "\n",
    "# becoz text do not work in text so we use loop so that the Average salary can be extracted\n",
    "\n",
    "avg_sal=[]\n",
    "for i in avg:\n",
    "    avg_sal.append(i.text.replace(\"\\n\",\"\"))\n",
    "avg_sal"
   ]
  },
  {
   "cell_type": "code",
   "execution_count": 104,
   "metadata": {},
   "outputs": [
    {
     "data": {
      "text/plain": [
       "['3.9★',\n",
       " '3.9★',\n",
       " '4.1★',\n",
       " '4★',\n",
       " '3.7★',\n",
       " '3.7★',\n",
       " '3.6★',\n",
       " '3.6★',\n",
       " '3.9★',\n",
       " '4★',\n",
       " '4.2★',\n",
       " '3.8★',\n",
       " '4★',\n",
       " '4.1★',\n",
       " '3.8★',\n",
       " '3.8★',\n",
       " '3.3★',\n",
       " '3.8★',\n",
       " '4.1★',\n",
       " '4.1★']"
      ]
     },
     "execution_count": 104,
     "metadata": {},
     "output_type": "execute_result"
    }
   ],
   "source": [
    "# to extract the rating\n",
    "rate1=driver.find_elements_by_xpath(\"//div[@class='d-flex align-items-center mt-xxsm']\")\n",
    "rate1\n",
    "\n",
    "# becoz text do not work in text so we use loop so that the rating can be extracted\n",
    "\n",
    "rating1=[]\n",
    "for i in rate1:\n",
    "    rating1.append(i.text.replace(\"\\n\",\"\"))\n",
    "rating1"
   ]
  },
  {
   "cell_type": "code",
   "execution_count": 105,
   "metadata": {},
   "outputs": [
    {
     "data": {
      "text/html": [
       "<div>\n",
       "<style scoped>\n",
       "    .dataframe tbody tr th:only-of-type {\n",
       "        vertical-align: middle;\n",
       "    }\n",
       "\n",
       "    .dataframe tbody tr th {\n",
       "        vertical-align: top;\n",
       "    }\n",
       "\n",
       "    .dataframe thead th {\n",
       "        text-align: right;\n",
       "    }\n",
       "</style>\n",
       "<table border=\"1\" class=\"dataframe\">\n",
       "  <thead>\n",
       "    <tr style=\"text-align: right;\">\n",
       "      <th></th>\n",
       "      <th>Company Name</th>\n",
       "      <th>Minimum Salary and Maxmimum Salary</th>\n",
       "      <th>Average Salary</th>\n",
       "      <th>Rating</th>\n",
       "    </tr>\n",
       "  </thead>\n",
       "  <tbody>\n",
       "    <tr>\n",
       "      <th>0</th>\n",
       "      <td>Tata Consultancy Services</td>\n",
       "      <td>Range: ₹4L - ₹13L</td>\n",
       "      <td>₹6,31,184 /yr</td>\n",
       "      <td>3.9★</td>\n",
       "    </tr>\n",
       "    <tr>\n",
       "      <th>1</th>\n",
       "      <td>IBM</td>\n",
       "      <td>Range: ₹1L - ₹28L</td>\n",
       "      <td>₹9,08,246 /yr</td>\n",
       "      <td>3.9★</td>\n",
       "    </tr>\n",
       "    <tr>\n",
       "      <th>2</th>\n",
       "      <td>Accenture</td>\n",
       "      <td>Range: ₹6L - ₹23L</td>\n",
       "      <td>₹11,93,390 /yr</td>\n",
       "      <td>4.1★</td>\n",
       "    </tr>\n",
       "    <tr>\n",
       "      <th>3</th>\n",
       "      <td>Ericsson-Worldwide</td>\n",
       "      <td>Range: ₹4L - ₹17L</td>\n",
       "      <td>₹7,61,766 /yr</td>\n",
       "      <td>4★</td>\n",
       "    </tr>\n",
       "    <tr>\n",
       "      <th>4</th>\n",
       "      <td>Delhivery</td>\n",
       "      <td>Range: ₹5L - ₹1Cr</td>\n",
       "      <td>₹12,49,716 /yr</td>\n",
       "      <td>3.7★</td>\n",
       "    </tr>\n",
       "    <tr>\n",
       "      <th>5</th>\n",
       "      <td>UnitedHealth Group</td>\n",
       "      <td>Range: ₹8L - ₹16L</td>\n",
       "      <td>₹12,80,000 /yr</td>\n",
       "      <td>3.7★</td>\n",
       "    </tr>\n",
       "    <tr>\n",
       "      <th>6</th>\n",
       "      <td>Optum</td>\n",
       "      <td>Range: ₹8L - ₹20L</td>\n",
       "      <td>₹12,70,000 /yr</td>\n",
       "      <td>3.6★</td>\n",
       "    </tr>\n",
       "    <tr>\n",
       "      <th>7</th>\n",
       "      <td>EXL Service</td>\n",
       "      <td>Range: ₹8L - ₹16L</td>\n",
       "      <td>₹11,76,259 /yr</td>\n",
       "      <td>3.6★</td>\n",
       "    </tr>\n",
       "    <tr>\n",
       "      <th>8</th>\n",
       "      <td>Optum Global Solutions</td>\n",
       "      <td>Range: ₹10L - ₹18L</td>\n",
       "      <td>₹14,55,430 /yr</td>\n",
       "      <td>3.9★</td>\n",
       "    </tr>\n",
       "    <tr>\n",
       "      <th>9</th>\n",
       "      <td>dunnhumby</td>\n",
       "      <td>Range: ₹6L - ₹21L</td>\n",
       "      <td>₹11,40,187 /yr</td>\n",
       "      <td>4★</td>\n",
       "    </tr>\n",
       "  </tbody>\n",
       "</table>\n",
       "</div>"
      ],
      "text/plain": [
       "                Company Name Minimum Salary and Maxmimum Salary  \\\n",
       "0  Tata Consultancy Services                  Range: ₹4L - ₹13L   \n",
       "1                        IBM                  Range: ₹1L - ₹28L   \n",
       "2                  Accenture                  Range: ₹6L - ₹23L   \n",
       "3         Ericsson-Worldwide                  Range: ₹4L - ₹17L   \n",
       "4                  Delhivery                  Range: ₹5L - ₹1Cr   \n",
       "5         UnitedHealth Group                  Range: ₹8L - ₹16L   \n",
       "6                      Optum                  Range: ₹8L - ₹20L   \n",
       "7                EXL Service                  Range: ₹8L - ₹16L   \n",
       "8     Optum Global Solutions                 Range: ₹10L - ₹18L   \n",
       "9                  dunnhumby                  Range: ₹6L - ₹21L   \n",
       "\n",
       "   Average Salary Rating  \n",
       "0   ₹6,31,184 /yr   3.9★  \n",
       "1   ₹9,08,246 /yr   3.9★  \n",
       "2  ₹11,93,390 /yr   4.1★  \n",
       "3   ₹7,61,766 /yr     4★  \n",
       "4  ₹12,49,716 /yr   3.7★  \n",
       "5  ₹12,80,000 /yr   3.7★  \n",
       "6  ₹12,70,000 /yr   3.6★  \n",
       "7  ₹11,76,259 /yr   3.6★  \n",
       "8  ₹14,55,430 /yr   3.9★  \n",
       "9  ₹11,40,187 /yr     4★  "
      ]
     },
     "execution_count": 105,
     "metadata": {},
     "output_type": "execute_result"
    }
   ],
   "source": [
    "# scraping all the data in dataframe \n",
    "job1=pd.DataFrame(())\n",
    "\n",
    "job1['Company Name']=company_name2[0:10]\n",
    "job1['Minimum Salary and Maxmimum Salary']=minimum_max[0:10]\n",
    "job1['Average Salary']=avg_sal[0:10]\n",
    "job1['Rating']=rating1[0:10]\n",
    "job1\n"
   ]
  },
  {
   "cell_type": "markdown",
   "metadata": {},
   "source": [
    "# Q6 : Scrape data of first 100 sunglasses listings on flipkart.com. You have to scrape four attributes:"
   ]
  },
  {
   "cell_type": "code",
   "execution_count": 106,
   "metadata": {},
   "outputs": [],
   "source": [
    "url4=\"https://www.flipkart.com/\"\n",
    "driver.get(url4)"
   ]
  },
  {
   "cell_type": "code",
   "execution_count": 107,
   "metadata": {},
   "outputs": [
    {
     "data": {
      "text/plain": [
       "<selenium.webdriver.remote.webelement.WebElement (session=\"77d6894c2dfd9bbf738fe202c09cff54\", element=\"892aeae3-f31d-4f5e-8a85-dab0f04c889f\")>"
      ]
     },
     "execution_count": 107,
     "metadata": {},
     "output_type": "execute_result"
    }
   ],
   "source": [
    "search=driver.find_element_by_xpath(\"//input[@class='_3704LK']\")\n",
    "search"
   ]
  },
  {
   "cell_type": "code",
   "execution_count": 108,
   "metadata": {},
   "outputs": [],
   "source": [
    "search.send_keys(\"Sunglasses\")"
   ]
  },
  {
   "cell_type": "code",
   "execution_count": 111,
   "metadata": {},
   "outputs": [
    {
     "data": {
      "text/plain": [
       "<selenium.webdriver.remote.webelement.WebElement (session=\"77d6894c2dfd9bbf738fe202c09cff54\", element=\"fc431a3b-40f6-4121-815e-50416ef5fba1\")>"
      ]
     },
     "execution_count": 111,
     "metadata": {},
     "output_type": "execute_result"
    }
   ],
   "source": [
    "ser_btn1=driver.find_element_by_xpath(\"//button[@class='L0Z3Pu']\")\n",
    "ser_btn1"
   ]
  },
  {
   "cell_type": "code",
   "execution_count": 112,
   "metadata": {},
   "outputs": [],
   "source": [
    "ser_btn1.click()"
   ]
  },
  {
   "cell_type": "code",
   "execution_count": 113,
   "metadata": {},
   "outputs": [
    {
     "data": {
      "text/plain": [
       "['Fravy',\n",
       " 'VINCENT CHASE',\n",
       " 'Elligator',\n",
       " 'SHAAH COLLECTIONS',\n",
       " 'Fastrack',\n",
       " 'PIRASO',\n",
       " 'GANSTA',\n",
       " 'VINCENT CHASE',\n",
       " 'ROZZETTA CRAFT',\n",
       " 'SHAAH COLLECTIONS',\n",
       " 'Fastrack',\n",
       " 'WROGN',\n",
       " 'kingsunglasses',\n",
       " 'SHAAH COLLECTIONS',\n",
       " 'PHENOMENAL',\n",
       " 'ROZZETTA CRAFT',\n",
       " 'Elligator',\n",
       " 'kingsunglasses',\n",
       " 'ROZZETTA CRAFT',\n",
       " 'VINCENT CHASE',\n",
       " 'Fastrack',\n",
       " 'OCCARIO',\n",
       " 'PIRASO',\n",
       " 'ROYAL SON',\n",
       " 'ROZZETTA CRAFT',\n",
       " 'Silver Kartz',\n",
       " 'Elligator',\n",
       " 'WROGN',\n",
       " 'hipe',\n",
       " 'Fastrack',\n",
       " 'SUNBEE',\n",
       " 'AISLIN',\n",
       " 'GANSTA',\n",
       " 'PIRASO',\n",
       " 'povty',\n",
       " 'WROGN',\n",
       " 'NuVew',\n",
       " 'Villain',\n",
       " 'Rich Club',\n",
       " 'VINCENT CHASE']"
      ]
     },
     "execution_count": 113,
     "metadata": {},
     "output_type": "execute_result"
    }
   ],
   "source": [
    "# to extract the brand name\n",
    "br=driver.find_elements_by_xpath(\"//div[@class='_2WkVRV']\")\n",
    "br\n",
    "\n",
    "# becoz text do not work in text so we use loop so that the brand name can be extracted\n",
    "\n",
    "brand=[]\n",
    "for i in br:\n",
    "    brand.append(i.text)\n",
    "brand"
   ]
  },
  {
   "cell_type": "code",
   "execution_count": 114,
   "metadata": {},
   "outputs": [
    {
     "data": {
      "text/plain": [
       "['UV Protection, Gradient, Night Vision Retro Square Sung...',\n",
       " 'by Lenskart Polarized, UV Protection Round Sunglasses (...',\n",
       " 'UV Protection Round Sunglasses (54)',\n",
       " 'UV Protection, Polarized, Mirrored Rectangular Sunglass...',\n",
       " 'UV Protection Rectangular Sunglasses (Free Size)',\n",
       " 'UV Protection Aviator Sunglasses (54)',\n",
       " 'UV Protection, Riding Glasses Wayfarer Sunglasses (53)',\n",
       " 'Polarized, UV Protection Aviator Sunglasses (58)',\n",
       " 'UV Protection, Gradient Rectangular Sunglasses (Free Si...',\n",
       " 'UV Protection, Polarized, Mirrored Rectangular Sunglass...',\n",
       " 'Gradient, UV Protection Wayfarer Sunglasses (Free Size)',\n",
       " 'UV Protection Wayfarer Sunglasses (55)',\n",
       " 'Mirrored, UV Protection Wayfarer Sunglasses (Free Size)',\n",
       " 'UV Protection Round Sunglasses (Free Size)',\n",
       " 'UV Protection Retro Square Sunglasses (Free Size)',\n",
       " 'UV Protection, Gradient Retro Square Sunglasses (Free S...',\n",
       " 'UV Protection Round Sunglasses (55)',\n",
       " 'UV Protection Round Sunglasses (54)',\n",
       " 'UV Protection Retro Square Sunglasses (Free Size)',\n",
       " 'by Lenskart Polarized, UV Protection Aviator Sunglasses...',\n",
       " 'UV Protection Aviator Sunglasses (Free Size)',\n",
       " 'Others Round Sunglasses (52)',\n",
       " 'UV Protection Aviator Sunglasses (54)',\n",
       " 'UV Protection Retro Square Sunglasses (49)',\n",
       " 'UV Protection, Riding Glasses Rectangular Sunglasses (F...',\n",
       " 'UV Protection Wayfarer Sunglasses (Free Size)',\n",
       " 'UV Protection, Riding Glasses Rectangular, Retro Square...',\n",
       " 'UV Protection Wayfarer Sunglasses (55)',\n",
       " 'UV Protection, Gradient, Mirrored, Riding Glasses Aviat...',\n",
       " 'UV Protection Wayfarer Sunglasses (Free Size)',\n",
       " 'UV Protection, Polarized, Mirrored Wayfarer Sunglasses ...',\n",
       " 'UV Protection, Gradient Wayfarer Sunglasses (57)',\n",
       " 'UV Protection Aviator Sunglasses (57)',\n",
       " 'UV Protection Aviator Sunglasses (54)',\n",
       " 'UV Protection Wayfarer Sunglasses (Free Size)',\n",
       " 'Polarized, UV Protection Aviator Sunglasses (55)',\n",
       " 'UV Protection, Night Vision, Riding Glasses Sports Sung...',\n",
       " 'Others Retro Square Sunglasses (Free Size)',\n",
       " 'UV Protection, Mirrored, Gradient Round Sunglasses (51)',\n",
       " 'by Lenskart UV Protection Wayfarer Sunglasses (49)']"
      ]
     },
     "execution_count": 114,
     "metadata": {},
     "output_type": "execute_result"
    }
   ],
   "source": [
    "# to extract the description name\n",
    "desc=driver.find_elements_by_xpath(\"//a[@class='IRpwTa']\")\n",
    "desc\n",
    "\n",
    "# becoz text do not work in text so we use loop so that the description name can be extracted\n",
    "\n",
    "description=[]\n",
    "for i in desc:\n",
    "    description.append(i.text)\n",
    "description\n"
   ]
  },
  {
   "cell_type": "code",
   "execution_count": 115,
   "metadata": {},
   "outputs": [
    {
     "data": {
      "text/plain": [
       "['₹339',\n",
       " '₹1,169',\n",
       " '₹295',\n",
       " '₹198',\n",
       " '₹513',\n",
       " '₹237',\n",
       " '₹198',\n",
       " '₹999',\n",
       " '₹404',\n",
       " '₹215',\n",
       " '₹509',\n",
       " '₹1,077',\n",
       " '₹284',\n",
       " '₹331',\n",
       " '₹379',\n",
       " '₹406',\n",
       " '₹266',\n",
       " '₹212',\n",
       " '₹499',\n",
       " '₹1,179',\n",
       " '₹546',\n",
       " '₹179',\n",
       " '₹237',\n",
       " '₹664',\n",
       " '₹449',\n",
       " '₹246',\n",
       " '₹398',\n",
       " '₹1,087',\n",
       " '₹221',\n",
       " '₹758',\n",
       " '₹265',\n",
       " '₹658',\n",
       " '₹284',\n",
       " '₹237',\n",
       " '₹349',\n",
       " '₹1,121',\n",
       " '₹267',\n",
       " '₹599',\n",
       " '₹225',\n",
       " '₹1,179']"
      ]
     },
     "execution_count": 115,
     "metadata": {},
     "output_type": "execute_result"
    }
   ],
   "source": [
    "# to extract the price\n",
    "pr=driver.find_elements_by_xpath(\"//div[@class='_30jeq3']\")\n",
    "pr\n",
    "\n",
    "# becoz text do not work in text so we use loop so that the price can be extracted\n",
    "\n",
    "price=[]\n",
    "for i in pr:\n",
    "    price.append(i.text)\n",
    "price"
   ]
  },
  {
   "cell_type": "code",
   "execution_count": 116,
   "metadata": {},
   "outputs": [
    {
     "data": {
      "text/plain": [
       "['83% off',\n",
       " '41% off',\n",
       " '88% off',\n",
       " '88% off',\n",
       " '35% off',\n",
       " '85% off',\n",
       " '88% off',\n",
       " '60% off',\n",
       " '79% off',\n",
       " '78% off',\n",
       " '36% off',\n",
       " '64% off',\n",
       " '89% off',\n",
       " '80% off',\n",
       " '81% off',\n",
       " '79% off',\n",
       " '86% off',\n",
       " '80% off',\n",
       " '77% off',\n",
       " '41% off',\n",
       " '31% off',\n",
       " '69% off',\n",
       " '85% off',\n",
       " '66% off',\n",
       " '79% off',\n",
       " '83% off',\n",
       " '73% off',\n",
       " '63% off',\n",
       " '77% off',\n",
       " '15% off',\n",
       " '73% off',\n",
       " '69% off',\n",
       " '85% off',\n",
       " '85% off',\n",
       " '65% off',\n",
       " '65% off',\n",
       " '65% off',\n",
       " '20% off',\n",
       " '71% off',\n",
       " '41% off']"
      ]
     },
     "execution_count": 116,
     "metadata": {},
     "output_type": "execute_result"
    }
   ],
   "source": [
    "# to extract the discount\n",
    "dis=driver.find_elements_by_xpath(\"//div[@class='_3Ay6Sb']\")\n",
    "dis\n",
    "\n",
    "# becoz text do not work in text so we use loop so that the price can be extracted\n",
    "\n",
    "discount=[]\n",
    "for i in dis:\n",
    "    discount.append(i.text)\n",
    "discount\n",
    "\n"
   ]
  },
  {
   "cell_type": "code",
   "execution_count": 117,
   "metadata": {},
   "outputs": [
    {
     "data": {
      "text/plain": [
       "<selenium.webdriver.remote.webelement.WebElement (session=\"77d6894c2dfd9bbf738fe202c09cff54\", element=\"23b99fab-6683-41b8-990e-3e6e2251fc38\")>"
      ]
     },
     "execution_count": 117,
     "metadata": {},
     "output_type": "execute_result"
    }
   ],
   "source": [
    "next1=driver.find_element_by_xpath(\"//a[@class='_1LKTO3']\")\n",
    "next1\n"
   ]
  },
  {
   "cell_type": "code",
   "execution_count": 118,
   "metadata": {},
   "outputs": [],
   "source": [
    "next1.click()"
   ]
  },
  {
   "cell_type": "code",
   "execution_count": 119,
   "metadata": {},
   "outputs": [
    {
     "data": {
      "text/plain": [
       "['hipe',\n",
       " 'HIPPON',\n",
       " 'HIPPON',\n",
       " 'WROGN',\n",
       " 'SUNBEE',\n",
       " 'ROZZETTA CRAFT',\n",
       " 'ROYAL SON',\n",
       " 'NuVew',\n",
       " 'kingsunglasses',\n",
       " 'Singco',\n",
       " 'GANSTA',\n",
       " 'Villain',\n",
       " 'kingsunglasses',\n",
       " 'Fastrack',\n",
       " 'hipe',\n",
       " 'Villain',\n",
       " 'kingsunglasses',\n",
       " 'ROZZETTA CRAFT',\n",
       " 'hipe',\n",
       " 'VINCENT CHASE',\n",
       " 'Fastrack',\n",
       " 'Fastrack',\n",
       " 'GANSTA',\n",
       " 'VINCENT CHASE',\n",
       " 'Rich Club',\n",
       " 'Fastrack',\n",
       " 'Singco India',\n",
       " 'VINCENT CHASE',\n",
       " 'Badfella',\n",
       " 'DEIXELS',\n",
       " 'PHENOMENAL',\n",
       " 'WROGN',\n",
       " 'ROYAL SON',\n",
       " 'PIRASO',\n",
       " 'NuVew',\n",
       " 'WROGN',\n",
       " 'AISLIN',\n",
       " 'Elligator',\n",
       " 'Fastrack',\n",
       " 'WROGN']"
      ]
     },
     "execution_count": 119,
     "metadata": {},
     "output_type": "execute_result"
    }
   ],
   "source": [
    "# to extract the brand name 41 -80\n",
    "br1=driver.find_elements_by_xpath(\"//div[@class='_2WkVRV']\")\n",
    "br1\n",
    "\n",
    "# becoz text do not work in text so we use loop so that the brand name can be extracted\n",
    "\n",
    "brand1=[]\n",
    "for i in br1:\n",
    "    brand1.append(i.text)\n",
    "brand1"
   ]
  },
  {
   "cell_type": "code",
   "execution_count": 120,
   "metadata": {},
   "outputs": [
    {
     "data": {
      "text/plain": [
       "['UV Protection, Night Vision, Gradient, Mirrored Round, ...',\n",
       " 'UV Protection Wayfarer Sunglasses (55)',\n",
       " 'UV Protection Wayfarer Sunglasses (55)',\n",
       " 'Polarized Over-sized Sunglasses (56)',\n",
       " 'UV Protection, Polarized, Mirrored Retro Square Sunglas...',\n",
       " 'UV Protection, Gradient Round Sunglasses (Free Size)',\n",
       " 'UV Protection Rectangular Sunglasses (58)',\n",
       " 'UV Protection Aviator Sunglasses (57)',\n",
       " 'UV Protection, Mirrored Round Sunglasses (Free Size)',\n",
       " 'Mirrored Aviator Sunglasses (53)',\n",
       " 'Night Vision, Riding Glasses Wayfarer Sunglasses (53)',\n",
       " 'Others Retro Square Sunglasses (Free Size)',\n",
       " 'Mirrored, UV Protection Wayfarer Sunglasses (Free Size)',\n",
       " 'UV Protection Shield Sunglasses (Free Size)',\n",
       " 'UV Protection, Night Vision, Riding Glasses, Gradient, ...',\n",
       " 'Others Wayfarer Sunglasses (Free Size)',\n",
       " 'Mirrored, UV Protection Wayfarer Sunglasses (53)',\n",
       " 'UV Protection, Gradient Retro Square Sunglasses (Free S...',\n",
       " 'UV Protection Sports Sunglasses (Free Size)',\n",
       " 'by Lenskart Polarized, UV Protection Rectangular Sungla...',\n",
       " 'UV Protection Aviator Sunglasses (58)',\n",
       " 'UV Protection Aviator Sunglasses (58)',\n",
       " 'UV Protection, Night Vision, Riding Glasses Aviator Sun...',\n",
       " 'by Lenskart Polarized, UV Protection Cat-eye Sunglasses...',\n",
       " 'UV Protection, Others Round Sunglasses (48)',\n",
       " 'UV Protection Wayfarer Sunglasses (Free Size)',\n",
       " 'UV Protection Aviator Sunglasses (Free Size)',\n",
       " 'Polarized, UV Protection Wayfarer Sunglasses (57)',\n",
       " 'Polarized, UV Protection Retro Square Sunglasses (53)',\n",
       " 'Polarized, UV Protection, Riding Glasses Wayfarer Sungl...',\n",
       " 'UV Protection, Mirrored Retro Square Sunglasses (53)',\n",
       " 'Polarized Oval Sunglasses (55)',\n",
       " 'UV Protection Retro Square Sunglasses (88)',\n",
       " 'UV Protection Butterfly Sunglasses (65)',\n",
       " 'UV Protection Sports Sunglasses (62)',\n",
       " 'Mirrored Wayfarer Sunglasses (52)',\n",
       " 'UV Protection, Gradient Butterfly, Retro Square Sunglas...',\n",
       " 'UV Protection Round Sunglasses (54)',\n",
       " 'UV Protection Wayfarer Sunglasses (57)',\n",
       " 'UV Protection Wayfarer Sunglasses (51)']"
      ]
     },
     "execution_count": 120,
     "metadata": {},
     "output_type": "execute_result"
    }
   ],
   "source": [
    "# to extract the description name 41-80\n",
    "desc1=driver.find_elements_by_xpath(\"//a[@class='IRpwTa']\")\n",
    "desc1\n",
    "\n",
    "# becoz text do not work in text so we use loop so that the description name can be extracted\n",
    "\n",
    "description1=[]\n",
    "for i in desc1:\n",
    "    description1.append(i.text)\n",
    "description1\n"
   ]
  },
  {
   "cell_type": "code",
   "execution_count": 121,
   "metadata": {},
   "outputs": [
    {
     "data": {
      "text/plain": [
       "['₹210',\n",
       " '₹257',\n",
       " '₹202',\n",
       " '₹1,050',\n",
       " '₹314',\n",
       " '₹449',\n",
       " '₹474',\n",
       " '₹258',\n",
       " '₹274',\n",
       " '₹239',\n",
       " '₹198',\n",
       " '₹599',\n",
       " '₹284',\n",
       " '₹853',\n",
       " '₹199',\n",
       " '₹599',\n",
       " '₹331',\n",
       " '₹406',\n",
       " '₹303',\n",
       " '₹799',\n",
       " '₹1,115',\n",
       " '₹1,085',\n",
       " '₹295',\n",
       " '₹1,415',\n",
       " '₹299',\n",
       " '₹689',\n",
       " '₹334',\n",
       " '₹999',\n",
       " '₹255',\n",
       " '₹249',\n",
       " '₹379',\n",
       " '₹1,108',\n",
       " '₹569',\n",
       " '₹426',\n",
       " '₹364',\n",
       " '₹979',\n",
       " '₹574',\n",
       " '₹314',\n",
       " '₹503',\n",
       " '₹832']"
      ]
     },
     "execution_count": 121,
     "metadata": {},
     "output_type": "execute_result"
    }
   ],
   "source": [
    "# to extract the price 41-80\n",
    "pr1=driver.find_elements_by_xpath(\"//div[@class='_30jeq3']\")\n",
    "pr1\n",
    "\n",
    "# becoz text do not work in text so we use loop so that the price can be extracted\n",
    "\n",
    "price1=[]\n",
    "for i in pr1:\n",
    "    price1.append(i.text)\n",
    "price1"
   ]
  },
  {
   "cell_type": "code",
   "execution_count": 122,
   "metadata": {},
   "outputs": [
    {
     "data": {
      "text/plain": [
       "['78% off',\n",
       " '78% off',\n",
       " '79% off',\n",
       " '64% off',\n",
       " '75% off',\n",
       " '77% off',\n",
       " '68% off',\n",
       " '72% off',\n",
       " '83% off',\n",
       " '76% off',\n",
       " '88% off',\n",
       " '20% off',\n",
       " '89% off',\n",
       " '5% off',\n",
       " '84% off',\n",
       " '40% off',\n",
       " '83% off',\n",
       " '79% off',\n",
       " '84% off',\n",
       " '60% off',\n",
       " '14% off',\n",
       " '16% off',\n",
       " '85% off',\n",
       " '29% off',\n",
       " '62% off',\n",
       " '23% off',\n",
       " '72% off',\n",
       " '50% off',\n",
       " '74% off',\n",
       " '58% off',\n",
       " '81% off',\n",
       " '65% off',\n",
       " '71% off',\n",
       " '83% off',\n",
       " '70% off',\n",
       " '62% off',\n",
       " '62% off',\n",
       " '75% off',\n",
       " '37% off',\n",
       " '66% off']"
      ]
     },
     "execution_count": 122,
     "metadata": {},
     "output_type": "execute_result"
    }
   ],
   "source": [
    "# to extract the discount 41-80\n",
    "dis1=driver.find_elements_by_xpath(\"//div[@class='_3Ay6Sb']\")\n",
    "dis1\n",
    "\n",
    "# becoz text do not work in text so we use loop so that the price can be extracted\n",
    "\n",
    "discount1=[]\n",
    "for i in dis1:\n",
    "    discount1.append(i.text)\n",
    "discount1"
   ]
  },
  {
   "cell_type": "code",
   "execution_count": 123,
   "metadata": {},
   "outputs": [
    {
     "data": {
      "text/plain": [
       "<selenium.webdriver.remote.webelement.WebElement (session=\"77d6894c2dfd9bbf738fe202c09cff54\", element=\"bc085433-4b7b-4743-b960-e62feefd03db\")>"
      ]
     },
     "execution_count": 123,
     "metadata": {},
     "output_type": "execute_result"
    }
   ],
   "source": [
    "next1=driver.find_element_by_xpath(\"//a[@class='_1LKTO3']\")\n",
    "next1\n"
   ]
  },
  {
   "cell_type": "code",
   "execution_count": 124,
   "metadata": {},
   "outputs": [],
   "source": [
    "next1.click()"
   ]
  },
  {
   "cell_type": "code",
   "execution_count": 125,
   "metadata": {},
   "outputs": [
    {
     "data": {
      "text/plain": [
       "['VINCENT CHASE',\n",
       " 'VINCENT CHASE',\n",
       " 'Elligator',\n",
       " 'SHAAH COLLECTIONS',\n",
       " 'Fastrack',\n",
       " 'PIRASO',\n",
       " 'GANSTA',\n",
       " 'ROZZETTA CRAFT',\n",
       " 'ROZZETTA CRAFT',\n",
       " 'SHAAH COLLECTIONS',\n",
       " 'Fastrack',\n",
       " 'VINCENT CHASE',\n",
       " 'kingsunglasses',\n",
       " 'SHAAH COLLECTIONS',\n",
       " 'PHENOMENAL',\n",
       " 'ROYAL SON',\n",
       " 'Elligator',\n",
       " 'kingsunglasses',\n",
       " 'ROZZETTA CRAFT',\n",
       " 'WROGN',\n",
       " 'Fastrack',\n",
       " 'OCCARIO',\n",
       " 'PIRASO',\n",
       " 'WROGN',\n",
       " 'ROZZETTA CRAFT',\n",
       " 'Silver Kartz',\n",
       " 'Elligator',\n",
       " 'AISLIN',\n",
       " 'hipe',\n",
       " 'Fastrack',\n",
       " 'SUNBEE',\n",
       " 'VINCENT CHASE',\n",
       " 'GANSTA',\n",
       " 'PIRASO',\n",
       " 'povty',\n",
       " 'WROGN',\n",
       " 'NuVew',\n",
       " 'Villain',\n",
       " 'Rich Club',\n",
       " 'ROYAL SON']"
      ]
     },
     "execution_count": 125,
     "metadata": {},
     "output_type": "execute_result"
    }
   ],
   "source": [
    "# to extract the brand name 81 -120\n",
    "br2=driver.find_elements_by_xpath(\"//div[@class='_2WkVRV']\")\n",
    "br2\n",
    "\n",
    "# becoz text do not work in text so we use loop so that the brand name can be extracted\n",
    "\n",
    "brand2=[]\n",
    "for i in br2:\n",
    "    brand2.append(i.text)\n",
    "brand2"
   ]
  },
  {
   "cell_type": "code",
   "execution_count": 126,
   "metadata": {},
   "outputs": [
    {
     "data": {
      "text/plain": [
       "['by Lenskart Polarized, UV Protection Round Sunglasses (...',\n",
       " 'Polarized, UV Protection Aviator Sunglasses (58)',\n",
       " 'UV Protection Round Sunglasses (54)',\n",
       " 'UV Protection, Polarized, Mirrored Rectangular Sunglass...',\n",
       " 'UV Protection Rectangular Sunglasses (Free Size)',\n",
       " 'UV Protection Aviator Sunglasses (54)',\n",
       " 'UV Protection, Riding Glasses Wayfarer Sunglasses (53)',\n",
       " 'UV Protection, Gradient Retro Square Sunglasses (Free S...',\n",
       " 'UV Protection, Gradient Rectangular Sunglasses (Free Si...',\n",
       " 'UV Protection, Polarized, Mirrored Rectangular Sunglass...',\n",
       " 'Gradient, UV Protection Wayfarer Sunglasses (Free Size)',\n",
       " 'by Lenskart Polarized, UV Protection Aviator Sunglasses...',\n",
       " 'Mirrored, UV Protection Wayfarer Sunglasses (Free Size)',\n",
       " 'UV Protection Round Sunglasses (Free Size)',\n",
       " 'UV Protection Retro Square Sunglasses (Free Size)',\n",
       " 'UV Protection Retro Square Sunglasses (49)',\n",
       " 'UV Protection Round Sunglasses (55)',\n",
       " 'UV Protection Round Sunglasses (54)',\n",
       " 'UV Protection Retro Square Sunglasses (Free Size)',\n",
       " 'UV Protection Wayfarer Sunglasses (55)',\n",
       " 'UV Protection Aviator Sunglasses (Free Size)',\n",
       " 'Others Round Sunglasses (52)',\n",
       " 'UV Protection Aviator Sunglasses (54)',\n",
       " 'Polarized, UV Protection Aviator Sunglasses (55)',\n",
       " 'UV Protection, Riding Glasses Rectangular Sunglasses (F...',\n",
       " 'UV Protection Wayfarer Sunglasses (Free Size)',\n",
       " 'UV Protection, Riding Glasses Rectangular, Retro Square...',\n",
       " 'UV Protection, Gradient Wayfarer Sunglasses (57)',\n",
       " 'UV Protection, Gradient, Mirrored, Riding Glasses Aviat...',\n",
       " 'UV Protection Wayfarer Sunglasses (Free Size)',\n",
       " 'UV Protection, Polarized, Mirrored Wayfarer Sunglasses ...',\n",
       " 'by Lenskart UV Protection Wayfarer Sunglasses (49)',\n",
       " 'UV Protection Aviator Sunglasses (57)',\n",
       " 'UV Protection Aviator Sunglasses (54)',\n",
       " 'UV Protection Wayfarer Sunglasses (Free Size)',\n",
       " 'UV Protection Wayfarer Sunglasses (55)',\n",
       " 'UV Protection, Night Vision, Riding Glasses Sports Sung...',\n",
       " 'Others Retro Square Sunglasses (Free Size)',\n",
       " 'UV Protection, Mirrored, Gradient Round Sunglasses (51)',\n",
       " 'Gradient, UV Protection Cat-eye, Over-sized Sunglasses ...']"
      ]
     },
     "execution_count": 126,
     "metadata": {},
     "output_type": "execute_result"
    }
   ],
   "source": [
    "# to extract the description name 81-120\n",
    "desc2=driver.find_elements_by_xpath(\"//a[@class='IRpwTa']\")\n",
    "desc2\n",
    "\n",
    "# becoz text do not work in text so we use loop so that the description name can be extracted\n",
    "\n",
    "description2=[]\n",
    "for i in desc2:\n",
    "    description2.append(i.text)\n",
    "description2"
   ]
  },
  {
   "cell_type": "code",
   "execution_count": 127,
   "metadata": {},
   "outputs": [
    {
     "data": {
      "text/plain": [
       "['₹1,169',\n",
       " '₹999',\n",
       " '₹295',\n",
       " '₹198',\n",
       " '₹513',\n",
       " '₹237',\n",
       " '₹198',\n",
       " '₹406',\n",
       " '₹404',\n",
       " '₹215',\n",
       " '₹509',\n",
       " '₹1,179',\n",
       " '₹284',\n",
       " '₹331',\n",
       " '₹379',\n",
       " '₹664',\n",
       " '₹266',\n",
       " '₹212',\n",
       " '₹499',\n",
       " '₹1,087',\n",
       " '₹546',\n",
       " '₹179',\n",
       " '₹237',\n",
       " '₹1,121',\n",
       " '₹449',\n",
       " '₹246',\n",
       " '₹398',\n",
       " '₹658',\n",
       " '₹221',\n",
       " '₹758',\n",
       " '₹265',\n",
       " '₹1,179',\n",
       " '₹284',\n",
       " '₹237',\n",
       " '₹349',\n",
       " '₹1,077',\n",
       " '₹267',\n",
       " '₹599',\n",
       " '₹225',\n",
       " '₹664']"
      ]
     },
     "execution_count": 127,
     "metadata": {},
     "output_type": "execute_result"
    }
   ],
   "source": [
    "# to extract the price 81-120\n",
    "pr2=driver.find_elements_by_xpath(\"//div[@class='_30jeq3']\")\n",
    "pr2\n",
    "\n",
    "# becoz text do not work in text so we use loop so that the price can be extracted\n",
    "\n",
    "price2=[]\n",
    "for i in pr2:\n",
    "    price2.append(i.text)\n",
    "price2"
   ]
  },
  {
   "cell_type": "code",
   "execution_count": 128,
   "metadata": {},
   "outputs": [
    {
     "data": {
      "text/plain": [
       "['41% off',\n",
       " '60% off',\n",
       " '88% off',\n",
       " '88% off',\n",
       " '35% off',\n",
       " '85% off',\n",
       " '88% off',\n",
       " '79% off',\n",
       " '79% off',\n",
       " '78% off',\n",
       " '36% off',\n",
       " '41% off',\n",
       " '89% off',\n",
       " '80% off',\n",
       " '81% off',\n",
       " '66% off',\n",
       " '86% off',\n",
       " '80% off',\n",
       " '77% off',\n",
       " '63% off',\n",
       " '31% off',\n",
       " '69% off',\n",
       " '85% off',\n",
       " '65% off',\n",
       " '79% off',\n",
       " '83% off',\n",
       " '73% off',\n",
       " '69% off',\n",
       " '77% off',\n",
       " '15% off',\n",
       " '73% off',\n",
       " '41% off',\n",
       " '85% off',\n",
       " '85% off',\n",
       " '65% off',\n",
       " '64% off',\n",
       " '65% off',\n",
       " '20% off',\n",
       " '71% off',\n",
       " '55% off']"
      ]
     },
     "execution_count": 128,
     "metadata": {},
     "output_type": "execute_result"
    }
   ],
   "source": [
    "# to extract the discount 81-120\n",
    "dis2=driver.find_elements_by_xpath(\"//div[@class='_3Ay6Sb']\")\n",
    "dis2\n",
    "\n",
    "# becoz text do not work in text so we use loop so that the price can be extracted\n",
    "\n",
    "discount2=[]\n",
    "for i in dis2:\n",
    "    discount2.append(i.text)\n",
    "discount2"
   ]
  },
  {
   "cell_type": "code",
   "execution_count": 129,
   "metadata": {},
   "outputs": [
    {
     "data": {
      "text/plain": [
       "['₹339',\n",
       " '₹1,169',\n",
       " '₹295',\n",
       " '₹198',\n",
       " '₹513',\n",
       " '₹237',\n",
       " '₹198',\n",
       " '₹999',\n",
       " '₹404',\n",
       " '₹215',\n",
       " '₹509',\n",
       " '₹1,077',\n",
       " '₹284',\n",
       " '₹331',\n",
       " '₹379',\n",
       " '₹406',\n",
       " '₹266',\n",
       " '₹212',\n",
       " '₹499',\n",
       " '₹1,179',\n",
       " '₹546',\n",
       " '₹179',\n",
       " '₹237',\n",
       " '₹664',\n",
       " '₹449',\n",
       " '₹246',\n",
       " '₹398',\n",
       " '₹1,087',\n",
       " '₹221',\n",
       " '₹758',\n",
       " '₹265',\n",
       " '₹658',\n",
       " '₹284',\n",
       " '₹237',\n",
       " '₹349',\n",
       " '₹1,121',\n",
       " '₹267',\n",
       " '₹599',\n",
       " '₹225',\n",
       " '₹1,179',\n",
       " '₹210',\n",
       " '₹257',\n",
       " '₹202',\n",
       " '₹1,050',\n",
       " '₹314',\n",
       " '₹449',\n",
       " '₹474',\n",
       " '₹258',\n",
       " '₹274',\n",
       " '₹239',\n",
       " '₹198',\n",
       " '₹599',\n",
       " '₹284',\n",
       " '₹853',\n",
       " '₹199',\n",
       " '₹599',\n",
       " '₹331',\n",
       " '₹406',\n",
       " '₹303',\n",
       " '₹799',\n",
       " '₹1,115',\n",
       " '₹1,085',\n",
       " '₹295',\n",
       " '₹1,415',\n",
       " '₹299',\n",
       " '₹689',\n",
       " '₹334',\n",
       " '₹999',\n",
       " '₹255',\n",
       " '₹249',\n",
       " '₹379',\n",
       " '₹1,108',\n",
       " '₹569',\n",
       " '₹426',\n",
       " '₹364',\n",
       " '₹979',\n",
       " '₹574',\n",
       " '₹314',\n",
       " '₹503',\n",
       " '₹832',\n",
       " '₹1,169',\n",
       " '₹999',\n",
       " '₹295',\n",
       " '₹198',\n",
       " '₹513',\n",
       " '₹237',\n",
       " '₹198',\n",
       " '₹406',\n",
       " '₹404',\n",
       " '₹215',\n",
       " '₹509',\n",
       " '₹1,179',\n",
       " '₹284',\n",
       " '₹331',\n",
       " '₹379',\n",
       " '₹664',\n",
       " '₹266',\n",
       " '₹212',\n",
       " '₹499',\n",
       " '₹1,087',\n",
       " '₹546',\n",
       " '₹179',\n",
       " '₹237',\n",
       " '₹1,121',\n",
       " '₹449',\n",
       " '₹246',\n",
       " '₹398',\n",
       " '₹658',\n",
       " '₹221',\n",
       " '₹758',\n",
       " '₹265',\n",
       " '₹1,179',\n",
       " '₹284',\n",
       " '₹237',\n",
       " '₹349',\n",
       " '₹1,077',\n",
       " '₹267',\n",
       " '₹599',\n",
       " '₹225',\n",
       " '₹664']"
      ]
     },
     "execution_count": 129,
     "metadata": {},
     "output_type": "execute_result"
    }
   ],
   "source": [
    "# combining all the list togetter\n",
    "\n",
    "from itertools import chain\n",
    "\n",
    "\n",
    "pricesun = list(chain(price,price1 ,price2))\n",
    "pricesun"
   ]
  },
  {
   "cell_type": "code",
   "execution_count": 130,
   "metadata": {},
   "outputs": [
    {
     "data": {
      "text/plain": [
       "['UV Protection, Gradient, Night Vision Retro Square Sung...',\n",
       " 'by Lenskart Polarized, UV Protection Round Sunglasses (...',\n",
       " 'UV Protection Round Sunglasses (54)',\n",
       " 'UV Protection, Polarized, Mirrored Rectangular Sunglass...',\n",
       " 'UV Protection Rectangular Sunglasses (Free Size)',\n",
       " 'UV Protection Aviator Sunglasses (54)',\n",
       " 'UV Protection, Riding Glasses Wayfarer Sunglasses (53)',\n",
       " 'Polarized, UV Protection Aviator Sunglasses (58)',\n",
       " 'UV Protection, Gradient Rectangular Sunglasses (Free Si...',\n",
       " 'UV Protection, Polarized, Mirrored Rectangular Sunglass...',\n",
       " 'Gradient, UV Protection Wayfarer Sunglasses (Free Size)',\n",
       " 'UV Protection Wayfarer Sunglasses (55)',\n",
       " 'Mirrored, UV Protection Wayfarer Sunglasses (Free Size)',\n",
       " 'UV Protection Round Sunglasses (Free Size)',\n",
       " 'UV Protection Retro Square Sunglasses (Free Size)',\n",
       " 'UV Protection, Gradient Retro Square Sunglasses (Free S...',\n",
       " 'UV Protection Round Sunglasses (55)',\n",
       " 'UV Protection Round Sunglasses (54)',\n",
       " 'UV Protection Retro Square Sunglasses (Free Size)',\n",
       " 'by Lenskart Polarized, UV Protection Aviator Sunglasses...',\n",
       " 'UV Protection Aviator Sunglasses (Free Size)',\n",
       " 'Others Round Sunglasses (52)',\n",
       " 'UV Protection Aviator Sunglasses (54)',\n",
       " 'UV Protection Retro Square Sunglasses (49)',\n",
       " 'UV Protection, Riding Glasses Rectangular Sunglasses (F...',\n",
       " 'UV Protection Wayfarer Sunglasses (Free Size)',\n",
       " 'UV Protection, Riding Glasses Rectangular, Retro Square...',\n",
       " 'UV Protection Wayfarer Sunglasses (55)',\n",
       " 'UV Protection, Gradient, Mirrored, Riding Glasses Aviat...',\n",
       " 'UV Protection Wayfarer Sunglasses (Free Size)',\n",
       " 'UV Protection, Polarized, Mirrored Wayfarer Sunglasses ...',\n",
       " 'UV Protection, Gradient Wayfarer Sunglasses (57)',\n",
       " 'UV Protection Aviator Sunglasses (57)',\n",
       " 'UV Protection Aviator Sunglasses (54)',\n",
       " 'UV Protection Wayfarer Sunglasses (Free Size)',\n",
       " 'Polarized, UV Protection Aviator Sunglasses (55)',\n",
       " 'UV Protection, Night Vision, Riding Glasses Sports Sung...',\n",
       " 'Others Retro Square Sunglasses (Free Size)',\n",
       " 'UV Protection, Mirrored, Gradient Round Sunglasses (51)',\n",
       " 'by Lenskart UV Protection Wayfarer Sunglasses (49)',\n",
       " 'UV Protection, Night Vision, Gradient, Mirrored Round, ...',\n",
       " 'UV Protection Wayfarer Sunglasses (55)',\n",
       " 'UV Protection Wayfarer Sunglasses (55)',\n",
       " 'Polarized Over-sized Sunglasses (56)',\n",
       " 'UV Protection, Polarized, Mirrored Retro Square Sunglas...',\n",
       " 'UV Protection, Gradient Round Sunglasses (Free Size)',\n",
       " 'UV Protection Rectangular Sunglasses (58)',\n",
       " 'UV Protection Aviator Sunglasses (57)',\n",
       " 'UV Protection, Mirrored Round Sunglasses (Free Size)',\n",
       " 'Mirrored Aviator Sunglasses (53)',\n",
       " 'Night Vision, Riding Glasses Wayfarer Sunglasses (53)',\n",
       " 'Others Retro Square Sunglasses (Free Size)',\n",
       " 'Mirrored, UV Protection Wayfarer Sunglasses (Free Size)',\n",
       " 'UV Protection Shield Sunglasses (Free Size)',\n",
       " 'UV Protection, Night Vision, Riding Glasses, Gradient, ...',\n",
       " 'Others Wayfarer Sunglasses (Free Size)',\n",
       " 'Mirrored, UV Protection Wayfarer Sunglasses (53)',\n",
       " 'UV Protection, Gradient Retro Square Sunglasses (Free S...',\n",
       " 'UV Protection Sports Sunglasses (Free Size)',\n",
       " 'by Lenskart Polarized, UV Protection Rectangular Sungla...',\n",
       " 'UV Protection Aviator Sunglasses (58)',\n",
       " 'UV Protection Aviator Sunglasses (58)',\n",
       " 'UV Protection, Night Vision, Riding Glasses Aviator Sun...',\n",
       " 'by Lenskart Polarized, UV Protection Cat-eye Sunglasses...',\n",
       " 'UV Protection, Others Round Sunglasses (48)',\n",
       " 'UV Protection Wayfarer Sunglasses (Free Size)',\n",
       " 'UV Protection Aviator Sunglasses (Free Size)',\n",
       " 'Polarized, UV Protection Wayfarer Sunglasses (57)',\n",
       " 'Polarized, UV Protection Retro Square Sunglasses (53)',\n",
       " 'Polarized, UV Protection, Riding Glasses Wayfarer Sungl...',\n",
       " 'UV Protection, Mirrored Retro Square Sunglasses (53)',\n",
       " 'Polarized Oval Sunglasses (55)',\n",
       " 'UV Protection Retro Square Sunglasses (88)',\n",
       " 'UV Protection Butterfly Sunglasses (65)',\n",
       " 'UV Protection Sports Sunglasses (62)',\n",
       " 'Mirrored Wayfarer Sunglasses (52)',\n",
       " 'UV Protection, Gradient Butterfly, Retro Square Sunglas...',\n",
       " 'UV Protection Round Sunglasses (54)',\n",
       " 'UV Protection Wayfarer Sunglasses (57)',\n",
       " 'UV Protection Wayfarer Sunglasses (51)',\n",
       " 'by Lenskart Polarized, UV Protection Round Sunglasses (...',\n",
       " 'Polarized, UV Protection Aviator Sunglasses (58)',\n",
       " 'UV Protection Round Sunglasses (54)',\n",
       " 'UV Protection, Polarized, Mirrored Rectangular Sunglass...',\n",
       " 'UV Protection Rectangular Sunglasses (Free Size)',\n",
       " 'UV Protection Aviator Sunglasses (54)',\n",
       " 'UV Protection, Riding Glasses Wayfarer Sunglasses (53)',\n",
       " 'UV Protection, Gradient Retro Square Sunglasses (Free S...',\n",
       " 'UV Protection, Gradient Rectangular Sunglasses (Free Si...',\n",
       " 'UV Protection, Polarized, Mirrored Rectangular Sunglass...',\n",
       " 'Gradient, UV Protection Wayfarer Sunglasses (Free Size)',\n",
       " 'by Lenskart Polarized, UV Protection Aviator Sunglasses...',\n",
       " 'Mirrored, UV Protection Wayfarer Sunglasses (Free Size)',\n",
       " 'UV Protection Round Sunglasses (Free Size)',\n",
       " 'UV Protection Retro Square Sunglasses (Free Size)',\n",
       " 'UV Protection Retro Square Sunglasses (49)',\n",
       " 'UV Protection Round Sunglasses (55)',\n",
       " 'UV Protection Round Sunglasses (54)',\n",
       " 'UV Protection Retro Square Sunglasses (Free Size)',\n",
       " 'UV Protection Wayfarer Sunglasses (55)',\n",
       " 'UV Protection Aviator Sunglasses (Free Size)',\n",
       " 'Others Round Sunglasses (52)',\n",
       " 'UV Protection Aviator Sunglasses (54)',\n",
       " 'Polarized, UV Protection Aviator Sunglasses (55)',\n",
       " 'UV Protection, Riding Glasses Rectangular Sunglasses (F...',\n",
       " 'UV Protection Wayfarer Sunglasses (Free Size)',\n",
       " 'UV Protection, Riding Glasses Rectangular, Retro Square...',\n",
       " 'UV Protection, Gradient Wayfarer Sunglasses (57)',\n",
       " 'UV Protection, Gradient, Mirrored, Riding Glasses Aviat...',\n",
       " 'UV Protection Wayfarer Sunglasses (Free Size)',\n",
       " 'UV Protection, Polarized, Mirrored Wayfarer Sunglasses ...',\n",
       " 'by Lenskart UV Protection Wayfarer Sunglasses (49)',\n",
       " 'UV Protection Aviator Sunglasses (57)',\n",
       " 'UV Protection Aviator Sunglasses (54)',\n",
       " 'UV Protection Wayfarer Sunglasses (Free Size)',\n",
       " 'UV Protection Wayfarer Sunglasses (55)',\n",
       " 'UV Protection, Night Vision, Riding Glasses Sports Sung...',\n",
       " 'Others Retro Square Sunglasses (Free Size)',\n",
       " 'UV Protection, Mirrored, Gradient Round Sunglasses (51)',\n",
       " 'Gradient, UV Protection Cat-eye, Over-sized Sunglasses ...']"
      ]
     },
     "execution_count": 130,
     "metadata": {},
     "output_type": "execute_result"
    }
   ],
   "source": [
    "descriptionsun = list(chain(description,description1,description2))\n",
    "descriptionsun"
   ]
  },
  {
   "cell_type": "code",
   "execution_count": 131,
   "metadata": {},
   "outputs": [
    {
     "data": {
      "text/plain": [
       "['Fravy',\n",
       " 'VINCENT CHASE',\n",
       " 'Elligator',\n",
       " 'SHAAH COLLECTIONS',\n",
       " 'Fastrack',\n",
       " 'PIRASO',\n",
       " 'GANSTA',\n",
       " 'VINCENT CHASE',\n",
       " 'ROZZETTA CRAFT',\n",
       " 'SHAAH COLLECTIONS',\n",
       " 'Fastrack',\n",
       " 'WROGN',\n",
       " 'kingsunglasses',\n",
       " 'SHAAH COLLECTIONS',\n",
       " 'PHENOMENAL',\n",
       " 'ROZZETTA CRAFT',\n",
       " 'Elligator',\n",
       " 'kingsunglasses',\n",
       " 'ROZZETTA CRAFT',\n",
       " 'VINCENT CHASE',\n",
       " 'Fastrack',\n",
       " 'OCCARIO',\n",
       " 'PIRASO',\n",
       " 'ROYAL SON',\n",
       " 'ROZZETTA CRAFT',\n",
       " 'Silver Kartz',\n",
       " 'Elligator',\n",
       " 'WROGN',\n",
       " 'hipe',\n",
       " 'Fastrack',\n",
       " 'SUNBEE',\n",
       " 'AISLIN',\n",
       " 'GANSTA',\n",
       " 'PIRASO',\n",
       " 'povty',\n",
       " 'WROGN',\n",
       " 'NuVew',\n",
       " 'Villain',\n",
       " 'Rich Club',\n",
       " 'VINCENT CHASE',\n",
       " 'hipe',\n",
       " 'HIPPON',\n",
       " 'HIPPON',\n",
       " 'WROGN',\n",
       " 'SUNBEE',\n",
       " 'ROZZETTA CRAFT',\n",
       " 'ROYAL SON',\n",
       " 'NuVew',\n",
       " 'kingsunglasses',\n",
       " 'Singco',\n",
       " 'GANSTA',\n",
       " 'Villain',\n",
       " 'kingsunglasses',\n",
       " 'Fastrack',\n",
       " 'hipe',\n",
       " 'Villain',\n",
       " 'kingsunglasses',\n",
       " 'ROZZETTA CRAFT',\n",
       " 'hipe',\n",
       " 'VINCENT CHASE',\n",
       " 'Fastrack',\n",
       " 'Fastrack',\n",
       " 'GANSTA',\n",
       " 'VINCENT CHASE',\n",
       " 'Rich Club',\n",
       " 'Fastrack',\n",
       " 'Singco India',\n",
       " 'VINCENT CHASE',\n",
       " 'Badfella',\n",
       " 'DEIXELS',\n",
       " 'PHENOMENAL',\n",
       " 'WROGN',\n",
       " 'ROYAL SON',\n",
       " 'PIRASO',\n",
       " 'NuVew',\n",
       " 'WROGN',\n",
       " 'AISLIN',\n",
       " 'Elligator',\n",
       " 'Fastrack',\n",
       " 'WROGN',\n",
       " 'VINCENT CHASE',\n",
       " 'VINCENT CHASE',\n",
       " 'Elligator',\n",
       " 'SHAAH COLLECTIONS',\n",
       " 'Fastrack',\n",
       " 'PIRASO',\n",
       " 'GANSTA',\n",
       " 'ROZZETTA CRAFT',\n",
       " 'ROZZETTA CRAFT',\n",
       " 'SHAAH COLLECTIONS',\n",
       " 'Fastrack',\n",
       " 'VINCENT CHASE',\n",
       " 'kingsunglasses',\n",
       " 'SHAAH COLLECTIONS',\n",
       " 'PHENOMENAL',\n",
       " 'ROYAL SON',\n",
       " 'Elligator',\n",
       " 'kingsunglasses',\n",
       " 'ROZZETTA CRAFT',\n",
       " 'WROGN',\n",
       " 'Fastrack',\n",
       " 'OCCARIO',\n",
       " 'PIRASO',\n",
       " 'WROGN',\n",
       " 'ROZZETTA CRAFT',\n",
       " 'Silver Kartz',\n",
       " 'Elligator',\n",
       " 'AISLIN',\n",
       " 'hipe',\n",
       " 'Fastrack',\n",
       " 'SUNBEE',\n",
       " 'VINCENT CHASE',\n",
       " 'GANSTA',\n",
       " 'PIRASO',\n",
       " 'povty',\n",
       " 'WROGN',\n",
       " 'NuVew',\n",
       " 'Villain',\n",
       " 'Rich Club',\n",
       " 'ROYAL SON']"
      ]
     },
     "execution_count": 131,
     "metadata": {},
     "output_type": "execute_result"
    }
   ],
   "source": [
    "brandsun = list(chain(brand,brand1,brand2))\n",
    "brandsun"
   ]
  },
  {
   "cell_type": "code",
   "execution_count": 132,
   "metadata": {},
   "outputs": [
    {
     "data": {
      "text/plain": [
       "['83% off',\n",
       " '41% off',\n",
       " '88% off',\n",
       " '88% off',\n",
       " '35% off',\n",
       " '85% off',\n",
       " '88% off',\n",
       " '60% off',\n",
       " '79% off',\n",
       " '78% off',\n",
       " '36% off',\n",
       " '64% off',\n",
       " '89% off',\n",
       " '80% off',\n",
       " '81% off',\n",
       " '79% off',\n",
       " '86% off',\n",
       " '80% off',\n",
       " '77% off',\n",
       " '41% off',\n",
       " '31% off',\n",
       " '69% off',\n",
       " '85% off',\n",
       " '66% off',\n",
       " '79% off',\n",
       " '83% off',\n",
       " '73% off',\n",
       " '63% off',\n",
       " '77% off',\n",
       " '15% off',\n",
       " '73% off',\n",
       " '69% off',\n",
       " '85% off',\n",
       " '85% off',\n",
       " '65% off',\n",
       " '65% off',\n",
       " '65% off',\n",
       " '20% off',\n",
       " '71% off',\n",
       " '41% off',\n",
       " '78% off',\n",
       " '78% off',\n",
       " '79% off',\n",
       " '64% off',\n",
       " '75% off',\n",
       " '77% off',\n",
       " '68% off',\n",
       " '72% off',\n",
       " '83% off',\n",
       " '76% off',\n",
       " '88% off',\n",
       " '20% off',\n",
       " '89% off',\n",
       " '5% off',\n",
       " '84% off',\n",
       " '40% off',\n",
       " '83% off',\n",
       " '79% off',\n",
       " '84% off',\n",
       " '60% off',\n",
       " '14% off',\n",
       " '16% off',\n",
       " '85% off',\n",
       " '29% off',\n",
       " '62% off',\n",
       " '23% off',\n",
       " '72% off',\n",
       " '50% off',\n",
       " '74% off',\n",
       " '58% off',\n",
       " '81% off',\n",
       " '65% off',\n",
       " '71% off',\n",
       " '83% off',\n",
       " '70% off',\n",
       " '62% off',\n",
       " '62% off',\n",
       " '75% off',\n",
       " '37% off',\n",
       " '66% off',\n",
       " '41% off',\n",
       " '60% off',\n",
       " '88% off',\n",
       " '88% off',\n",
       " '35% off',\n",
       " '85% off',\n",
       " '88% off',\n",
       " '79% off',\n",
       " '79% off',\n",
       " '78% off',\n",
       " '36% off',\n",
       " '41% off',\n",
       " '89% off',\n",
       " '80% off',\n",
       " '81% off',\n",
       " '66% off',\n",
       " '86% off',\n",
       " '80% off',\n",
       " '77% off',\n",
       " '63% off',\n",
       " '31% off',\n",
       " '69% off',\n",
       " '85% off',\n",
       " '65% off',\n",
       " '79% off',\n",
       " '83% off',\n",
       " '73% off',\n",
       " '69% off',\n",
       " '77% off',\n",
       " '15% off',\n",
       " '73% off',\n",
       " '41% off',\n",
       " '85% off',\n",
       " '85% off',\n",
       " '65% off',\n",
       " '64% off',\n",
       " '65% off',\n",
       " '20% off',\n",
       " '71% off',\n",
       " '55% off']"
      ]
     },
     "execution_count": 132,
     "metadata": {},
     "output_type": "execute_result"
    }
   ],
   "source": [
    "discountsun = list(chain(discount,discount1,discount2))\n",
    "discountsun"
   ]
  },
  {
   "cell_type": "code",
   "execution_count": 133,
   "metadata": {},
   "outputs": [
    {
     "data": {
      "text/html": [
       "<div>\n",
       "<style scoped>\n",
       "    .dataframe tbody tr th:only-of-type {\n",
       "        vertical-align: middle;\n",
       "    }\n",
       "\n",
       "    .dataframe tbody tr th {\n",
       "        vertical-align: top;\n",
       "    }\n",
       "\n",
       "    .dataframe thead th {\n",
       "        text-align: right;\n",
       "    }\n",
       "</style>\n",
       "<table border=\"1\" class=\"dataframe\">\n",
       "  <thead>\n",
       "    <tr style=\"text-align: right;\">\n",
       "      <th></th>\n",
       "      <th>Brand</th>\n",
       "      <th>Product Detail</th>\n",
       "      <th>Price</th>\n",
       "      <th>Discount</th>\n",
       "    </tr>\n",
       "  </thead>\n",
       "  <tbody>\n",
       "    <tr>\n",
       "      <th>0</th>\n",
       "      <td>Fravy</td>\n",
       "      <td>UV Protection, Gradient, Night Vision Retro Sq...</td>\n",
       "      <td>₹339</td>\n",
       "      <td>83% off</td>\n",
       "    </tr>\n",
       "    <tr>\n",
       "      <th>1</th>\n",
       "      <td>VINCENT CHASE</td>\n",
       "      <td>by Lenskart Polarized, UV Protection Round Sun...</td>\n",
       "      <td>₹1,169</td>\n",
       "      <td>41% off</td>\n",
       "    </tr>\n",
       "    <tr>\n",
       "      <th>2</th>\n",
       "      <td>Elligator</td>\n",
       "      <td>UV Protection Round Sunglasses (54)</td>\n",
       "      <td>₹295</td>\n",
       "      <td>88% off</td>\n",
       "    </tr>\n",
       "    <tr>\n",
       "      <th>3</th>\n",
       "      <td>SHAAH COLLECTIONS</td>\n",
       "      <td>UV Protection, Polarized, Mirrored Rectangular...</td>\n",
       "      <td>₹198</td>\n",
       "      <td>88% off</td>\n",
       "    </tr>\n",
       "    <tr>\n",
       "      <th>4</th>\n",
       "      <td>Fastrack</td>\n",
       "      <td>UV Protection Rectangular Sunglasses (Free Size)</td>\n",
       "      <td>₹513</td>\n",
       "      <td>35% off</td>\n",
       "    </tr>\n",
       "    <tr>\n",
       "      <th>...</th>\n",
       "      <td>...</td>\n",
       "      <td>...</td>\n",
       "      <td>...</td>\n",
       "      <td>...</td>\n",
       "    </tr>\n",
       "    <tr>\n",
       "      <th>96</th>\n",
       "      <td>Elligator</td>\n",
       "      <td>UV Protection Round Sunglasses (55)</td>\n",
       "      <td>₹266</td>\n",
       "      <td>86% off</td>\n",
       "    </tr>\n",
       "    <tr>\n",
       "      <th>97</th>\n",
       "      <td>kingsunglasses</td>\n",
       "      <td>UV Protection Round Sunglasses (54)</td>\n",
       "      <td>₹212</td>\n",
       "      <td>80% off</td>\n",
       "    </tr>\n",
       "    <tr>\n",
       "      <th>98</th>\n",
       "      <td>ROZZETTA CRAFT</td>\n",
       "      <td>UV Protection Retro Square Sunglasses (Free Size)</td>\n",
       "      <td>₹499</td>\n",
       "      <td>77% off</td>\n",
       "    </tr>\n",
       "    <tr>\n",
       "      <th>99</th>\n",
       "      <td>WROGN</td>\n",
       "      <td>UV Protection Wayfarer Sunglasses (55)</td>\n",
       "      <td>₹1,087</td>\n",
       "      <td>63% off</td>\n",
       "    </tr>\n",
       "    <tr>\n",
       "      <th>100</th>\n",
       "      <td>Fastrack</td>\n",
       "      <td>UV Protection Aviator Sunglasses (Free Size)</td>\n",
       "      <td>₹546</td>\n",
       "      <td>31% off</td>\n",
       "    </tr>\n",
       "  </tbody>\n",
       "</table>\n",
       "<p>101 rows × 4 columns</p>\n",
       "</div>"
      ],
      "text/plain": [
       "                 Brand                                     Product Detail  \\\n",
       "0                Fravy  UV Protection, Gradient, Night Vision Retro Sq...   \n",
       "1        VINCENT CHASE  by Lenskart Polarized, UV Protection Round Sun...   \n",
       "2            Elligator                UV Protection Round Sunglasses (54)   \n",
       "3    SHAAH COLLECTIONS  UV Protection, Polarized, Mirrored Rectangular...   \n",
       "4             Fastrack   UV Protection Rectangular Sunglasses (Free Size)   \n",
       "..                 ...                                                ...   \n",
       "96           Elligator                UV Protection Round Sunglasses (55)   \n",
       "97      kingsunglasses                UV Protection Round Sunglasses (54)   \n",
       "98      ROZZETTA CRAFT  UV Protection Retro Square Sunglasses (Free Size)   \n",
       "99               WROGN             UV Protection Wayfarer Sunglasses (55)   \n",
       "100           Fastrack       UV Protection Aviator Sunglasses (Free Size)   \n",
       "\n",
       "      Price Discount  \n",
       "0      ₹339  83% off  \n",
       "1    ₹1,169  41% off  \n",
       "2      ₹295  88% off  \n",
       "3      ₹198  88% off  \n",
       "4      ₹513  35% off  \n",
       "..      ...      ...  \n",
       "96     ₹266  86% off  \n",
       "97     ₹212  80% off  \n",
       "98     ₹499  77% off  \n",
       "99   ₹1,087  63% off  \n",
       "100    ₹546  31% off  \n",
       "\n",
       "[101 rows x 4 columns]"
      ]
     },
     "execution_count": 133,
     "metadata": {},
     "output_type": "execute_result"
    }
   ],
   "source": [
    "# scraping all the data in dataframe \n",
    "sunglasses=pd.DataFrame(())\n",
    "\n",
    "sunglasses['Brand']=brandsun[0:101]\n",
    "sunglasses['Product Detail']=descriptionsun[0:101]\n",
    "sunglasses['Price']=pricesun[0:101]\n",
    "sunglasses['Discount']=discountsun[0:101]\n",
    "sunglasses"
   ]
  },
  {
   "cell_type": "markdown",
   "metadata": {},
   "source": [
    "# Q7: Scrape 100 reviews data from flipkart.com for iphone11 phone. You have to go the link: https://www.flipkart.com/apple-iphone-11-black-64-gb-includes-earpods-power-adapter/p/itm0f37c2240b217?pid=MOBFKCTSVZAXUHGR&lid=LSTMOBFKCTSVZAXUHGREPBFGI&marketplace."
   ]
  },
  {
   "cell_type": "code",
   "execution_count": 139,
   "metadata": {},
   "outputs": [],
   "source": [
    "url5=\"https://www.flipkart.com/apple-iphone-11-black-64-gb-includes-earpods-power-adapter/p/itm0f37c2240b217?pid=MOBFKCTSVZAXUHGR&lid=LSTMOBFKCTSVZAXUHGREPBFGI&marketplace\"\n",
    "driver.get(url5)"
   ]
  },
  {
   "cell_type": "code",
   "execution_count": 140,
   "metadata": {},
   "outputs": [
    {
     "data": {
      "text/plain": [
       "['5', '5', '5', '5', '5', '5', '5', '4', '5', '5']"
      ]
     },
     "execution_count": 140,
     "metadata": {},
     "output_type": "execute_result"
    }
   ],
   "source": [
    "# to extract the ratingstar\n",
    "ra=driver.find_elements_by_xpath(\"//*[@class='_3LWZlK _1BLPMq']\")\n",
    "ra\n",
    "\n",
    "# becoz text do not work in text so we use loop so that the brand name can be extracted\n",
    "\n",
    "ratingstar=[]\n",
    "for i in ra:\n",
    "    ratingstar.append(i.text)\n",
    "ratingstar\n",
    "\n"
   ]
  },
  {
   "cell_type": "code",
   "execution_count": 141,
   "metadata": {},
   "outputs": [
    {
     "data": {
      "text/plain": [
       "['Brilliant',\n",
       " 'Simply awesome',\n",
       " 'Perfect product!',\n",
       " 'Best in the market!',\n",
       " 'Fabulous!',\n",
       " 'Worth every penny',\n",
       " 'Great product',\n",
       " 'Good choice',\n",
       " 'Worth every penny',\n",
       " 'Highly recommended']"
      ]
     },
     "execution_count": 141,
     "metadata": {},
     "output_type": "execute_result"
    }
   ],
   "source": [
    "# to extract the ratingstar\n",
    "rev=driver.find_elements_by_xpath(\"//*[@class='_2-N8zT']\")\n",
    "rev\n",
    "\n",
    "# becoz text do not work in text so we use loop so that the brand name can be extracted\n",
    "\n",
    "review=[]\n",
    "for i in rev:\n",
    "    review.append(i.text)\n",
    "review"
   ]
  },
  {
   "cell_type": "code",
   "execution_count": 142,
   "metadata": {},
   "outputs": [
    {
     "data": {
      "text/plain": [
       "['The Best Phone for the MoneyThe iPhone 11 offers superb cameras, a more durable design and excellent battery life for an affordable price.Compelling ultra-wide cameraNew Night mode is excellentLong battery life',\n",
       " 'Really satisfied with the Product I received... It’s totally genuine and the packaging was also really good so if ur planning to buy just go for it.',\n",
       " 'Amazing phone with great cameras and better battery which gives you the best performance. I just love the camera .',\n",
       " 'Great iPhone very snappy experience as apple kind. Upgraded from iPhone 7.Pros-Camera top class- Battery top performed-Chipset no need to say as apple kind-Security as you expect from apple- Display super bright industry leading colouraccuracy and super responsive-Build quality as expect from apple sturdypremium durable beautiful stylish.-Os most stable os in smartphone industryCons-No 5G-Display is not based on OLED technology-Charger headphones and 1 apple stic...READ MORE',\n",
       " 'This is my first iOS phone. I am very happy with this product. Very much satisfied with this. I love this phone.',\n",
       " 'Previously I was using one plus 3t it was a great phoneAnd then I decided to upgrade I am stuck between Samsung s10 plus or iPhone 11I have seen the specs and everything were good except the display it’s somewhere between 720-1080 and it’s not even an amoled it’s an LCD displayBut I decided to go with iPhone because I have never used an IOS device I have Been an android user from the past 9 years I ordered IPhone 11 (128gb) product redMy experience after using 3 weeks1. The delivery ...READ MORE',\n",
       " 'Amazing Powerful and Durable Gadget.I’m am very happy with the camera picture quality, Amazing face id unlocked in dark room, Strong battery with perfect screen size as you can carry easily in pocket. This is my third iPhone.I shifted from android Samsung Note series to iPhone because of the strong build quality and peace of mind for next 3-4 years.Don’t think to much just go for it and I suggest you to go for minimum 128gb variant or more 256gb.I’ve attached my puppy pics and no fi...READ MORE',\n",
       " 'So far it’s been an AMAZING experience coming back to iOS after nearly a decade but it’s not as versatile as android though phone is sturdy dropped it accidentally a couple of times and nothing happened fortunately camera is awesome',\n",
       " 'i11 is worthy to buy, too much happy with the product. Thank u flipkart I received the item on time..loved it..',\n",
       " 'What a camera .....just awesome ..you can feel this iPhone just awesome . Good for gaming also ...try pubg in hd it’s just wow']"
      ]
     },
     "execution_count": 142,
     "metadata": {},
     "output_type": "execute_result"
    }
   ],
   "source": [
    "# to extract the ratingstar\n",
    "derev=driver.find_elements_by_xpath(\"//*[@class='t-ZTKy']\")\n",
    "derev\n",
    "\n",
    "# becoz text do not work in text so we use loop so that the brand name can be extracted\n",
    "\n",
    "dereview=[]\n",
    "for i in derev:\n",
    "    dereview.append(i.text.replace(\"\\n\",\"\"))\n",
    "dereview\n"
   ]
  },
  {
   "cell_type": "code",
   "execution_count": 143,
   "metadata": {},
   "outputs": [],
   "source": [
    "next1=driver.find_element_by_xpath(\"//a[@class='_1LKTO3']\")\n",
    "next1.click()"
   ]
  },
  {
   "cell_type": "code",
   "execution_count": 144,
   "metadata": {},
   "outputs": [
    {
     "data": {
      "text/plain": [
       "['5', '5', '5', '5', '5', '5', '5', '4', '5', '5']"
      ]
     },
     "execution_count": 144,
     "metadata": {},
     "output_type": "execute_result"
    }
   ],
   "source": [
    "# to extract the ratingstar\n",
    "ra1=driver.find_elements_by_xpath(\"//*[@class='_3LWZlK _1BLPMq']\")\n",
    "ra1\n",
    "\n",
    "# becoz text do not work in text so we use loop so that the brand name can be extracted\n",
    "\n",
    "ratingstar1=[]\n",
    "for i in ra1:\n",
    "    ratingstar1.append(i.text)\n",
    "ratingstar1"
   ]
  },
  {
   "cell_type": "code",
   "execution_count": 145,
   "metadata": {},
   "outputs": [
    {
     "data": {
      "text/plain": [
       "['Brilliant',\n",
       " 'Simply awesome',\n",
       " 'Perfect product!',\n",
       " 'Best in the market!',\n",
       " 'Fabulous!',\n",
       " 'Worth every penny',\n",
       " 'Great product',\n",
       " 'Good choice',\n",
       " 'Worth every penny',\n",
       " 'Highly recommended']"
      ]
     },
     "execution_count": 145,
     "metadata": {},
     "output_type": "execute_result"
    }
   ],
   "source": [
    "# to extract the ratingstar\n",
    "rev1=driver.find_elements_by_xpath(\"//*[@class='_2-N8zT']\")\n",
    "rev1\n",
    "\n",
    "# becoz text do not work in text so we use loop so that the brand name can be extracted\n",
    "\n",
    "review1=[]\n",
    "for i in rev1:\n",
    "    review1.append(i.text)\n",
    "review1"
   ]
  },
  {
   "cell_type": "code",
   "execution_count": 146,
   "metadata": {},
   "outputs": [
    {
     "data": {
      "text/plain": [
       "['The Best Phone for the MoneyThe iPhone 11 offers superb cameras, a more durable design and excellent battery life for an affordable price.Compelling ultra-wide cameraNew Night mode is excellentLong battery life',\n",
       " 'Really satisfied with the Product I received... It’s totally genuine and the packaging was also really good so if ur planning to buy just go for it.',\n",
       " 'Amazing phone with great cameras and better battery which gives you the best performance. I just love the camera .',\n",
       " 'Great iPhone very snappy experience as apple kind. Upgraded from iPhone 7.Pros-Camera top class- Battery top performed-Chipset no need to say as apple kind-Security as you expect from apple- Display super bright industry leading colouraccuracy and super responsive-Build quality as expect from apple sturdypremium durable beautiful stylish.-Os most stable os in smartphone industryCons-No 5G-Display is not based on OLED technology-Charger headphones and 1 apple stic...READ MORE',\n",
       " 'This is my first iOS phone. I am very happy with this product. Very much satisfied with this. I love this phone.',\n",
       " 'Previously I was using one plus 3t it was a great phoneAnd then I decided to upgrade I am stuck between Samsung s10 plus or iPhone 11I have seen the specs and everything were good except the display it’s somewhere between 720-1080 and it’s not even an amoled it’s an LCD displayBut I decided to go with iPhone because I have never used an IOS device I have Been an android user from the past 9 years I ordered IPhone 11 (128gb) product redMy experience after using 3 weeks1. The delivery ...READ MORE',\n",
       " 'Amazing Powerful and Durable Gadget.I’m am very happy with the camera picture quality, Amazing face id unlocked in dark room, Strong battery with perfect screen size as you can carry easily in pocket. This is my third iPhone.I shifted from android Samsung Note series to iPhone because of the strong build quality and peace of mind for next 3-4 years.Don’t think to much just go for it and I suggest you to go for minimum 128gb variant or more 256gb.I’ve attached my puppy pics and no fi...READ MORE',\n",
       " 'So far it’s been an AMAZING experience coming back to iOS after nearly a decade but it’s not as versatile as android though phone is sturdy dropped it accidentally a couple of times and nothing happened fortunately camera is awesome',\n",
       " 'i11 is worthy to buy, too much happy with the product. Thank u flipkart I received the item on time..loved it..',\n",
       " 'What a camera .....just awesome ..you can feel this iPhone just awesome . Good for gaming also ...try pubg in hd it’s just wow']"
      ]
     },
     "execution_count": 146,
     "metadata": {},
     "output_type": "execute_result"
    }
   ],
   "source": [
    "# to extract the ratingstar\n",
    "derev1=driver.find_elements_by_xpath(\"//*[@class='t-ZTKy']\")\n",
    "derev1\n",
    "\n",
    "# becoz text do not work in text so we use loop so that the brand name can be extracted\n",
    "\n",
    "dereview1=[]\n",
    "for i in derev1:\n",
    "    dereview1.append(i.text.replace(\"\\n\",\"\"))\n",
    "dereview1"
   ]
  },
  {
   "cell_type": "code",
   "execution_count": 147,
   "metadata": {},
   "outputs": [],
   "source": [
    "next1=driver.find_element_by_xpath(\"//a[@class='_1LKTO3']\")\n",
    "next1.click()"
   ]
  },
  {
   "cell_type": "code",
   "execution_count": 149,
   "metadata": {},
   "outputs": [
    {
     "data": {
      "text/plain": [
       "['5', '5', '5', '5', '5', '5', '5', '5', '5', '5']"
      ]
     },
     "execution_count": 149,
     "metadata": {},
     "output_type": "execute_result"
    }
   ],
   "source": [
    "# to extract the ratingstar\n",
    "ra2=driver.find_elements_by_xpath(\"//*[@class='_3LWZlK _1BLPMq']\")\n",
    "ra2\n",
    "\n",
    "# becoz text do not work in text so we use loop so that the brand name can be extracted\n",
    "\n",
    "ratingstar2=[]\n",
    "for i in ra2:\n",
    "    ratingstar2.append(i.text)\n",
    "ratingstar2"
   ]
  },
  {
   "cell_type": "code",
   "execution_count": 150,
   "metadata": {},
   "outputs": [
    {
     "data": {
      "text/plain": [
       "['Highly recommended',\n",
       " 'Perfect product!',\n",
       " 'Perfect product!',\n",
       " 'Classy product',\n",
       " 'Highly recommended',\n",
       " 'Worth every penny',\n",
       " 'Perfect product!',\n",
       " 'Simply awesome',\n",
       " 'Worth every penny',\n",
       " 'Terrific']"
      ]
     },
     "execution_count": 150,
     "metadata": {},
     "output_type": "execute_result"
    }
   ],
   "source": [
    "# to extract the ratingstar\n",
    "rev2=driver.find_elements_by_xpath(\"//*[@class='_2-N8zT']\")\n",
    "rev2\n",
    "\n",
    "# becoz text do not work in text so we use loop so that the brand name can be extracted\n",
    "\n",
    "review2=[]\n",
    "for i in rev2:\n",
    "    review2.append(i.text)\n",
    "review2"
   ]
  },
  {
   "cell_type": "code",
   "execution_count": 151,
   "metadata": {},
   "outputs": [
    {
     "data": {
      "text/plain": [
       "['iphone 11 is a very good phone to buy only if you can compromise for the display. The display on this is device is pretty good but you can get other options with better displays in this price segment.If you can survive with an HD+ LCD panel with thicker bezels and a notch up top then this is a very good phone for you.Cameras are awesome, battery backup excellent, great performance and a decent premium look. Good job Apple !',\n",
       " 'It’s a must buy who is looking for an upgrade from previous generation of iPhones. If you are using XR then still you can hold on for sometime and upgrade to 2020 model else this phone is a must buy . Camera quality is amazing and wide angle is something to count upon. Performance wise it’s amazing and feels premium while holding in hand. So a big YES for this device. Go for 128 GB variant as the 4K videos will occupy lots of space and the storage can get over very quickly. Try to buy it with...READ MORE',\n",
       " 'Value for money❤️❤️Its awesome mobile phone in the world ...Display was very good and bright ..Trust me freinds you r never regret after Buying..Just go for it....I love this phone and i switch to iphone x to 11',\n",
       " 'Totally in love with this ❤ the camera quality is amazing just love it 😘😘😘 itsss dammnnnnnn amazing... Must buy iPhone 11 this is my best experience ever ☀👌👌🧡🧡🧡🧡🧡 thanku apple ❤',\n",
       " \"It's my first time to use iOS phone and I am loving my upgradation 😍😍 I love the color, I love the assebility of the phone....I need to learn more about its functionality, but as far as I have seen, it's quite easy and it has a lot of functions to work on, specially if you are a content writer or a blogger you get a lot of content creation platforms and they are really amazing.This phone not only for good quality photography but a lot of other task too.😍💯\",\n",
       " 'Best budget Iphone till date ❤️ go for it guys without second thought. Let me explain you guys about Camera, Display, battery, and performance.Camera: at this price range there is no comparison of camera, you’ll love the picture quality as well as video quality. I am a Vlogger I wanted an iPhone with 4k video by front camera and I got this phone and I am more than happy 😃Battery: I use this phone roughly as I am active social media person and I have a youtube channel. so the battery ba...READ MORE',\n",
       " \"Iphone is just awesome.. battery backup is very very nice.. continuously for 10 hours we can use it.camera is just awesome.. display is just fab.i love it alot..i had to wait 15 days for it as i pre ordered it..overalll it's worth the price..these all images are clicked by my iPhone..and i love it.\",\n",
       " 'Excellent camera, good performance, no lag. The lcd display is also good.. but difference come when we watch movie in prime and Netflix, the colours are not vibrant.. as we see in amoled display.. and the charger in box is of 5 watts.. takes more than 3 hours to charge from 0 to 100.. so guys be prepare to buy 18 watts charger . Finally I am an android user, it was my first Iapple phone, I promise u guys the iOS is so smooth.. overall the phone is damn good.... close eyes to buy it.. thanks t...READ MORE',\n",
       " 'It’s been almost a month since I have been using this phone. I upgraded from an iPhone 8. The main issue with my 8 was battery and this phone is just awesome when it comes to battery. It lasts a day and a half for me with my regular use , internet connected always with 4gCan’t move forward without saying this. Battery of this phone is a life saver when I am traveling or at work when I don’t get the option to chargeCamera is superb. Front cam selfies and back cam photos are just awesome....READ MORE',\n",
       " 'Really worth of money. i just love it. It is the best phone ever.']"
      ]
     },
     "execution_count": 151,
     "metadata": {},
     "output_type": "execute_result"
    }
   ],
   "source": [
    "# to extract the ratingstar\n",
    "derev2=driver.find_elements_by_xpath(\"//*[@class='t-ZTKy']\")\n",
    "derev2\n",
    "\n",
    "# becoz text do not work in text so we use loop so that the brand name can be extracted\n",
    "\n",
    "dereview2=[]\n",
    "for i in derev2:\n",
    "    dereview2.append(i.text.replace(\"\\n\",\"\"))\n",
    "dereview2"
   ]
  },
  {
   "cell_type": "code",
   "execution_count": 152,
   "metadata": {},
   "outputs": [],
   "source": [
    "next1=driver.find_element_by_xpath(\"//a[@class='_1LKTO3']\")\n",
    "next1.click()"
   ]
  },
  {
   "cell_type": "code",
   "execution_count": 153,
   "metadata": {},
   "outputs": [
    {
     "data": {
      "text/plain": [
       "['5', '5', '5', '5', '5', '5', '5', '4', '5', '5']"
      ]
     },
     "execution_count": 153,
     "metadata": {},
     "output_type": "execute_result"
    }
   ],
   "source": [
    "# to extract the ratingstar\n",
    "ra3=driver.find_elements_by_xpath(\"//*[@class='_3LWZlK _1BLPMq']\")\n",
    "ra3\n",
    "\n",
    "# becoz text do not work in text so we use loop so that the brand name can be extracted\n",
    "\n",
    "ratingstar3=[]\n",
    "for i in ra3:\n",
    "    ratingstar3.append(i.text)\n",
    "ratingstar3"
   ]
  },
  {
   "cell_type": "code",
   "execution_count": 154,
   "metadata": {},
   "outputs": [
    {
     "data": {
      "text/plain": [
       "['Brilliant',\n",
       " 'Simply awesome',\n",
       " 'Perfect product!',\n",
       " 'Best in the market!',\n",
       " 'Fabulous!',\n",
       " 'Worth every penny',\n",
       " 'Great product',\n",
       " 'Good choice',\n",
       " 'Worth every penny',\n",
       " 'Highly recommended']"
      ]
     },
     "execution_count": 154,
     "metadata": {},
     "output_type": "execute_result"
    }
   ],
   "source": [
    "# to extract the ratingstar\n",
    "rev3=driver.find_elements_by_xpath(\"//*[@class='_2-N8zT']\")\n",
    "rev3\n",
    "\n",
    "# becoz text do not work in text so we use loop so that the brand name can be extracted\n",
    "\n",
    "review3=[]\n",
    "for i in rev3:\n",
    "    review3.append(i.text)\n",
    "review3"
   ]
  },
  {
   "cell_type": "code",
   "execution_count": 155,
   "metadata": {},
   "outputs": [
    {
     "data": {
      "text/plain": [
       "['The Best Phone for the MoneyThe iPhone 11 offers superb cameras, a more durable design and excellent battery life for an affordable price.Compelling ultra-wide cameraNew Night mode is excellentLong battery life',\n",
       " 'Really satisfied with the Product I received... It’s totally genuine and the packaging was also really good so if ur planning to buy just go for it.',\n",
       " 'Amazing phone with great cameras and better battery which gives you the best performance. I just love the camera .',\n",
       " 'Great iPhone very snappy experience as apple kind. Upgraded from iPhone 7.Pros-Camera top class- Battery top performed-Chipset no need to say as apple kind-Security as you expect from apple- Display super bright industry leading colouraccuracy and super responsive-Build quality as expect from apple sturdypremium durable beautiful stylish.-Os most stable os in smartphone industryCons-No 5G-Display is not based on OLED technology-Charger headphones and 1 apple stic...READ MORE',\n",
       " 'This is my first iOS phone. I am very happy with this product. Very much satisfied with this. I love this phone.',\n",
       " 'Previously I was using one plus 3t it was a great phoneAnd then I decided to upgrade I am stuck between Samsung s10 plus or iPhone 11I have seen the specs and everything were good except the display it’s somewhere between 720-1080 and it’s not even an amoled it’s an LCD displayBut I decided to go with iPhone because I have never used an IOS device I have Been an android user from the past 9 years I ordered IPhone 11 (128gb) product redMy experience after using 3 weeks1. The delivery ...READ MORE',\n",
       " 'Amazing Powerful and Durable Gadget.I’m am very happy with the camera picture quality, Amazing face id unlocked in dark room, Strong battery with perfect screen size as you can carry easily in pocket. This is my third iPhone.I shifted from android Samsung Note series to iPhone because of the strong build quality and peace of mind for next 3-4 years.Don’t think to much just go for it and I suggest you to go for minimum 128gb variant or more 256gb.I’ve attached my puppy pics and no fi...READ MORE',\n",
       " 'So far it’s been an AMAZING experience coming back to iOS after nearly a decade but it’s not as versatile as android though phone is sturdy dropped it accidentally a couple of times and nothing happened fortunately camera is awesome',\n",
       " 'i11 is worthy to buy, too much happy with the product. Thank u flipkart I received the item on time..loved it..',\n",
       " 'What a camera .....just awesome ..you can feel this iPhone just awesome . Good for gaming also ...try pubg in hd it’s just wow']"
      ]
     },
     "execution_count": 155,
     "metadata": {},
     "output_type": "execute_result"
    }
   ],
   "source": [
    "# to extract the ratingstar\n",
    "derev3=driver.find_elements_by_xpath(\"//*[@class='t-ZTKy']\")\n",
    "derev3\n",
    "\n",
    "# becoz text do not work in text so we use loop so that the brand name can be extracted\n",
    "\n",
    "dereview3=[]\n",
    "for i in derev3:\n",
    "    dereview3.append(i.text.replace(\"\\n\",\"\"))\n",
    "dereview3"
   ]
  },
  {
   "cell_type": "code",
   "execution_count": 156,
   "metadata": {},
   "outputs": [],
   "source": [
    "next1=driver.find_element_by_xpath(\"//a[@class='_1LKTO3']\")\n",
    "next1.click()"
   ]
  },
  {
   "cell_type": "code",
   "execution_count": 157,
   "metadata": {},
   "outputs": [
    {
     "data": {
      "text/plain": [
       "['5', '5', '5', '5', '5', '5', '5', '4', '5', '5']"
      ]
     },
     "execution_count": 157,
     "metadata": {},
     "output_type": "execute_result"
    }
   ],
   "source": [
    "# to extract the ratingstar\n",
    "ra4=driver.find_elements_by_xpath(\"//*[@class='_3LWZlK _1BLPMq']\")\n",
    "ra4\n",
    "\n",
    "# becoz text do not work in text so we use loop so that the brand name can be extracted\n",
    "\n",
    "ratingstar4=[]\n",
    "for i in ra4:\n",
    "    ratingstar4.append(i.text)\n",
    "ratingstar4"
   ]
  },
  {
   "cell_type": "code",
   "execution_count": 158,
   "metadata": {},
   "outputs": [
    {
     "data": {
      "text/plain": [
       "['Brilliant',\n",
       " 'Simply awesome',\n",
       " 'Perfect product!',\n",
       " 'Best in the market!',\n",
       " 'Fabulous!',\n",
       " 'Worth every penny',\n",
       " 'Great product',\n",
       " 'Good choice',\n",
       " 'Worth every penny',\n",
       " 'Highly recommended']"
      ]
     },
     "execution_count": 158,
     "metadata": {},
     "output_type": "execute_result"
    }
   ],
   "source": [
    "# to extract the ratingstar\n",
    "rev4=driver.find_elements_by_xpath(\"//*[@class='_2-N8zT']\")\n",
    "rev4\n",
    "\n",
    "# becoz text do not work in text so we use loop so that the brand name can be extracted\n",
    "\n",
    "review4=[]\n",
    "for i in rev4:\n",
    "    review4.append(i.text)\n",
    "review4"
   ]
  },
  {
   "cell_type": "code",
   "execution_count": 159,
   "metadata": {},
   "outputs": [
    {
     "data": {
      "text/plain": [
       "['The Best Phone for the MoneyThe iPhone 11 offers superb cameras, a more durable design and excellent battery life for an affordable price.Compelling ultra-wide cameraNew Night mode is excellentLong battery life',\n",
       " 'Really satisfied with the Product I received... It’s totally genuine and the packaging was also really good so if ur planning to buy just go for it.',\n",
       " 'Amazing phone with great cameras and better battery which gives you the best performance. I just love the camera .',\n",
       " 'Great iPhone very snappy experience as apple kind. Upgraded from iPhone 7.Pros-Camera top class- Battery top performed-Chipset no need to say as apple kind-Security as you expect from apple- Display super bright industry leading colouraccuracy and super responsive-Build quality as expect from apple sturdypremium durable beautiful stylish.-Os most stable os in smartphone industryCons-No 5G-Display is not based on OLED technology-Charger headphones and 1 apple stic...READ MORE',\n",
       " 'This is my first iOS phone. I am very happy with this product. Very much satisfied with this. I love this phone.',\n",
       " 'Previously I was using one plus 3t it was a great phoneAnd then I decided to upgrade I am stuck between Samsung s10 plus or iPhone 11I have seen the specs and everything were good except the display it’s somewhere between 720-1080 and it’s not even an amoled it’s an LCD displayBut I decided to go with iPhone because I have never used an IOS device I have Been an android user from the past 9 years I ordered IPhone 11 (128gb) product redMy experience after using 3 weeks1. The delivery ...READ MORE',\n",
       " 'Amazing Powerful and Durable Gadget.I’m am very happy with the camera picture quality, Amazing face id unlocked in dark room, Strong battery with perfect screen size as you can carry easily in pocket. This is my third iPhone.I shifted from android Samsung Note series to iPhone because of the strong build quality and peace of mind for next 3-4 years.Don’t think to much just go for it and I suggest you to go for minimum 128gb variant or more 256gb.I’ve attached my puppy pics and no fi...READ MORE',\n",
       " 'So far it’s been an AMAZING experience coming back to iOS after nearly a decade but it’s not as versatile as android though phone is sturdy dropped it accidentally a couple of times and nothing happened fortunately camera is awesome',\n",
       " 'i11 is worthy to buy, too much happy with the product. Thank u flipkart I received the item on time..loved it..',\n",
       " 'What a camera .....just awesome ..you can feel this iPhone just awesome . Good for gaming also ...try pubg in hd it’s just wow']"
      ]
     },
     "execution_count": 159,
     "metadata": {},
     "output_type": "execute_result"
    }
   ],
   "source": [
    "# to extract the ratingstar\n",
    "derev4=driver.find_elements_by_xpath(\"//*[@class='t-ZTKy']\")\n",
    "derev4\n",
    "\n",
    "# becoz text do not work in text so we use loop so that the brand name can be extracted\n",
    "\n",
    "dereview4=[]\n",
    "for i in derev4:\n",
    "    dereview4.append(i.text.replace(\"\\n\",\"\"))\n",
    "dereview4"
   ]
  },
  {
   "cell_type": "code",
   "execution_count": 160,
   "metadata": {},
   "outputs": [],
   "source": [
    "next1=driver.find_element_by_xpath(\"//a[@class='_1LKTO3']\")\n",
    "next1.click()"
   ]
  },
  {
   "cell_type": "code",
   "execution_count": 161,
   "metadata": {},
   "outputs": [
    {
     "data": {
      "text/plain": [
       "['5', '5', '5', '5', '5', '5', '5', '5', '5', '5']"
      ]
     },
     "execution_count": 161,
     "metadata": {},
     "output_type": "execute_result"
    }
   ],
   "source": [
    "# to extract the ratingstar\n",
    "ra5=driver.find_elements_by_xpath(\"//*[@class='_3LWZlK _1BLPMq']\")\n",
    "ra5\n",
    "\n",
    "# becoz text do not work in text so we use loop so that the brand name can be extracted\n",
    "\n",
    "ratingstar5=[]\n",
    "for i in ra5:\n",
    "    ratingstar5.append(i.text)\n",
    "ratingstar5"
   ]
  },
  {
   "cell_type": "code",
   "execution_count": 162,
   "metadata": {},
   "outputs": [
    {
     "data": {
      "text/plain": [
       "['Highly recommended',\n",
       " 'Perfect product!',\n",
       " 'Perfect product!',\n",
       " 'Classy product',\n",
       " 'Highly recommended',\n",
       " 'Worth every penny',\n",
       " 'Perfect product!',\n",
       " 'Simply awesome',\n",
       " 'Worth every penny',\n",
       " 'Terrific']"
      ]
     },
     "execution_count": 162,
     "metadata": {},
     "output_type": "execute_result"
    }
   ],
   "source": [
    "# to extract the ratingstar\n",
    "rev5=driver.find_elements_by_xpath(\"//*[@class='_2-N8zT']\")\n",
    "rev5\n",
    "\n",
    "# becoz text do not work in text so we use loop so that the brand name can be extracted\n",
    "\n",
    "review5=[]\n",
    "for i in rev5:\n",
    "    review5.append(i.text)\n",
    "review5"
   ]
  },
  {
   "cell_type": "code",
   "execution_count": 163,
   "metadata": {},
   "outputs": [
    {
     "data": {
      "text/plain": [
       "['iphone 11 is a very good phone to buy only if you can compromise for the display. The display on this is device is pretty good but you can get other options with better displays in this price segment.If you can survive with an HD+ LCD panel with thicker bezels and a notch up top then this is a very good phone for you.Cameras are awesome, battery backup excellent, great performance and a decent premium look. Good job Apple !',\n",
       " 'It’s a must buy who is looking for an upgrade from previous generation of iPhones. If you are using XR then still you can hold on for sometime and upgrade to 2020 model else this phone is a must buy . Camera quality is amazing and wide angle is something to count upon. Performance wise it’s amazing and feels premium while holding in hand. So a big YES for this device. Go for 128 GB variant as the 4K videos will occupy lots of space and the storage can get over very quickly. Try to buy it with...READ MORE',\n",
       " 'Value for money❤️❤️Its awesome mobile phone in the world ...Display was very good and bright ..Trust me freinds you r never regret after Buying..Just go for it....I love this phone and i switch to iphone x to 11',\n",
       " 'Totally in love with this ❤ the camera quality is amazing just love it 😘😘😘 itsss dammnnnnnn amazing... Must buy iPhone 11 this is my best experience ever ☀👌👌🧡🧡🧡🧡🧡 thanku apple ❤',\n",
       " \"It's my first time to use iOS phone and I am loving my upgradation 😍😍 I love the color, I love the assebility of the phone....I need to learn more about its functionality, but as far as I have seen, it's quite easy and it has a lot of functions to work on, specially if you are a content writer or a blogger you get a lot of content creation platforms and they are really amazing.This phone not only for good quality photography but a lot of other task too.😍💯\",\n",
       " 'Best budget Iphone till date ❤️ go for it guys without second thought. Let me explain you guys about Camera, Display, battery, and performance.Camera: at this price range there is no comparison of camera, you’ll love the picture quality as well as video quality. I am a Vlogger I wanted an iPhone with 4k video by front camera and I got this phone and I am more than happy 😃Battery: I use this phone roughly as I am active social media person and I have a youtube channel. so the battery ba...READ MORE',\n",
       " \"Iphone is just awesome.. battery backup is very very nice.. continuously for 10 hours we can use it.camera is just awesome.. display is just fab.i love it alot..i had to wait 15 days for it as i pre ordered it..overalll it's worth the price..these all images are clicked by my iPhone..and i love it.\",\n",
       " 'Excellent camera, good performance, no lag. The lcd display is also good.. but difference come when we watch movie in prime and Netflix, the colours are not vibrant.. as we see in amoled display.. and the charger in box is of 5 watts.. takes more than 3 hours to charge from 0 to 100.. so guys be prepare to buy 18 watts charger . Finally I am an android user, it was my first Iapple phone, I promise u guys the iOS is so smooth.. overall the phone is damn good.... close eyes to buy it.. thanks t...READ MORE',\n",
       " 'It’s been almost a month since I have been using this phone. I upgraded from an iPhone 8. The main issue with my 8 was battery and this phone is just awesome when it comes to battery. It lasts a day and a half for me with my regular use , internet connected always with 4gCan’t move forward without saying this. Battery of this phone is a life saver when I am traveling or at work when I don’t get the option to chargeCamera is superb. Front cam selfies and back cam photos are just awesome....READ MORE',\n",
       " 'Really worth of money. i just love it. It is the best phone ever.']"
      ]
     },
     "execution_count": 163,
     "metadata": {},
     "output_type": "execute_result"
    }
   ],
   "source": [
    "# to extract the ratingstar\n",
    "derev5=driver.find_elements_by_xpath(\"//*[@class='t-ZTKy']\")\n",
    "derev5\n",
    "\n",
    "# becoz text do not work in text so we use loop so that the brand name can be extracted\n",
    "\n",
    "dereview5=[]\n",
    "for i in derev5:\n",
    "    dereview5.append(i.text.replace(\"\\n\",\"\"))\n",
    "dereview5"
   ]
  },
  {
   "cell_type": "code",
   "execution_count": 164,
   "metadata": {},
   "outputs": [],
   "source": [
    "next1=driver.find_element_by_xpath(\"//a[@class='_1LKTO3']\")\n",
    "next1.click()"
   ]
  },
  {
   "cell_type": "code",
   "execution_count": 165,
   "metadata": {},
   "outputs": [
    {
     "data": {
      "text/plain": [
       "['5', '5', '5', '5', '5', '5', '5', '4', '5', '5']"
      ]
     },
     "execution_count": 165,
     "metadata": {},
     "output_type": "execute_result"
    }
   ],
   "source": [
    "# to extract the ratingstar\n",
    "ra6=driver.find_elements_by_xpath(\"//*[@class='_3LWZlK _1BLPMq']\")\n",
    "ra6\n",
    "\n",
    "# becoz text do not work in text so we use loop so that the brand name can be extracted\n",
    "\n",
    "ratingstar6=[]\n",
    "for i in ra6:\n",
    "    ratingstar6.append(i.text)\n",
    "ratingstar6"
   ]
  },
  {
   "cell_type": "code",
   "execution_count": 166,
   "metadata": {},
   "outputs": [
    {
     "data": {
      "text/plain": [
       "['Brilliant',\n",
       " 'Simply awesome',\n",
       " 'Perfect product!',\n",
       " 'Best in the market!',\n",
       " 'Fabulous!',\n",
       " 'Worth every penny',\n",
       " 'Great product',\n",
       " 'Good choice',\n",
       " 'Worth every penny',\n",
       " 'Highly recommended']"
      ]
     },
     "execution_count": 166,
     "metadata": {},
     "output_type": "execute_result"
    }
   ],
   "source": [
    "# to extract the ratingstar\n",
    "rev6=driver.find_elements_by_xpath(\"//*[@class='_2-N8zT']\")\n",
    "rev6\n",
    "\n",
    "# becoz text do not work in text so we use loop so that the brand name can be extracted\n",
    "\n",
    "review6=[]\n",
    "for i in rev6:\n",
    "    review6.append(i.text)\n",
    "review6"
   ]
  },
  {
   "cell_type": "code",
   "execution_count": 167,
   "metadata": {},
   "outputs": [
    {
     "data": {
      "text/plain": [
       "['The Best Phone for the MoneyThe iPhone 11 offers superb cameras, a more durable design and excellent battery life for an affordable price.Compelling ultra-wide cameraNew Night mode is excellentLong battery life',\n",
       " 'Really satisfied with the Product I received... It’s totally genuine and the packaging was also really good so if ur planning to buy just go for it.',\n",
       " 'Amazing phone with great cameras and better battery which gives you the best performance. I just love the camera .',\n",
       " 'Great iPhone very snappy experience as apple kind. Upgraded from iPhone 7.Pros-Camera top class- Battery top performed-Chipset no need to say as apple kind-Security as you expect from apple- Display super bright industry leading colouraccuracy and super responsive-Build quality as expect from apple sturdypremium durable beautiful stylish.-Os most stable os in smartphone industryCons-No 5G-Display is not based on OLED technology-Charger headphones and 1 apple stic...READ MORE',\n",
       " 'This is my first iOS phone. I am very happy with this product. Very much satisfied with this. I love this phone.',\n",
       " 'Previously I was using one plus 3t it was a great phoneAnd then I decided to upgrade I am stuck between Samsung s10 plus or iPhone 11I have seen the specs and everything were good except the display it’s somewhere between 720-1080 and it’s not even an amoled it’s an LCD displayBut I decided to go with iPhone because I have never used an IOS device I have Been an android user from the past 9 years I ordered IPhone 11 (128gb) product redMy experience after using 3 weeks1. The delivery ...READ MORE',\n",
       " 'Amazing Powerful and Durable Gadget.I’m am very happy with the camera picture quality, Amazing face id unlocked in dark room, Strong battery with perfect screen size as you can carry easily in pocket. This is my third iPhone.I shifted from android Samsung Note series to iPhone because of the strong build quality and peace of mind for next 3-4 years.Don’t think to much just go for it and I suggest you to go for minimum 128gb variant or more 256gb.I’ve attached my puppy pics and no fi...READ MORE',\n",
       " 'So far it’s been an AMAZING experience coming back to iOS after nearly a decade but it’s not as versatile as android though phone is sturdy dropped it accidentally a couple of times and nothing happened fortunately camera is awesome',\n",
       " 'i11 is worthy to buy, too much happy with the product. Thank u flipkart I received the item on time..loved it..',\n",
       " 'What a camera .....just awesome ..you can feel this iPhone just awesome . Good for gaming also ...try pubg in hd it’s just wow']"
      ]
     },
     "execution_count": 167,
     "metadata": {},
     "output_type": "execute_result"
    }
   ],
   "source": [
    "# to extract the ratingstar\n",
    "derev6=driver.find_elements_by_xpath(\"//*[@class='t-ZTKy']\")\n",
    "derev6\n",
    "\n",
    "# becoz text do not work in text so we use loop so that the brand name can be extracted\n",
    "\n",
    "dereview6=[]\n",
    "for i in derev6:\n",
    "    dereview6.append(i.text.replace(\"\\n\",\"\"))\n",
    "dereview6"
   ]
  },
  {
   "cell_type": "code",
   "execution_count": 174,
   "metadata": {},
   "outputs": [],
   "source": [
    "next1=driver.find_element_by_xpath(\"//a[@class='_1LKTO3']\")\n",
    "next1.click()"
   ]
  },
  {
   "cell_type": "code",
   "execution_count": 175,
   "metadata": {},
   "outputs": [
    {
     "data": {
      "text/plain": [
       "['5', '5', '5', '5', '5', '5', '5', '4', '5', '5']"
      ]
     },
     "execution_count": 175,
     "metadata": {},
     "output_type": "execute_result"
    }
   ],
   "source": [
    "# to extract the ratingstar\n",
    "ra7=driver.find_elements_by_xpath(\"//*[@class='_3LWZlK _1BLPMq']\")\n",
    "ra7\n",
    "\n",
    "# becoz text do not work in text so we use loop so that the brand name can be extracted\n",
    "\n",
    "ratingstar7=[]\n",
    "for i in ra7:\n",
    "    ratingstar7.append(i.text)\n",
    "ratingstar7"
   ]
  },
  {
   "cell_type": "code",
   "execution_count": 176,
   "metadata": {},
   "outputs": [
    {
     "data": {
      "text/plain": [
       "['Brilliant',\n",
       " 'Simply awesome',\n",
       " 'Perfect product!',\n",
       " 'Best in the market!',\n",
       " 'Fabulous!',\n",
       " 'Worth every penny',\n",
       " 'Great product',\n",
       " 'Good choice',\n",
       " 'Worth every penny',\n",
       " 'Highly recommended']"
      ]
     },
     "execution_count": 176,
     "metadata": {},
     "output_type": "execute_result"
    }
   ],
   "source": [
    "# to extract the ratingstar\n",
    "rev7=driver.find_elements_by_xpath(\"//*[@class='_2-N8zT']\")\n",
    "rev7\n",
    "\n",
    "# becoz text do not work in text so we use loop so that the brand name can be extracted\n",
    "\n",
    "review7=[]\n",
    "for i in rev7:\n",
    "    review7.append(i.text)\n",
    "review7"
   ]
  },
  {
   "cell_type": "code",
   "execution_count": 177,
   "metadata": {},
   "outputs": [
    {
     "data": {
      "text/plain": [
       "['The Best Phone for the MoneyThe iPhone 11 offers superb cameras, a more durable design and excellent battery life for an affordable price.Compelling ultra-wide cameraNew Night mode is excellentLong battery life',\n",
       " 'Really satisfied with the Product I received... It’s totally genuine and the packaging was also really good so if ur planning to buy just go for it.',\n",
       " 'Amazing phone with great cameras and better battery which gives you the best performance. I just love the camera .',\n",
       " 'Great iPhone very snappy experience as apple kind. Upgraded from iPhone 7.Pros-Camera top class- Battery top performed-Chipset no need to say as apple kind-Security as you expect from apple- Display super bright industry leading colouraccuracy and super responsive-Build quality as expect from apple sturdypremium durable beautiful stylish.-Os most stable os in smartphone industryCons-No 5G-Display is not based on OLED technology-Charger headphones and 1 apple stic...READ MORE',\n",
       " 'This is my first iOS phone. I am very happy with this product. Very much satisfied with this. I love this phone.',\n",
       " 'Previously I was using one plus 3t it was a great phoneAnd then I decided to upgrade I am stuck between Samsung s10 plus or iPhone 11I have seen the specs and everything were good except the display it’s somewhere between 720-1080 and it’s not even an amoled it’s an LCD displayBut I decided to go with iPhone because I have never used an IOS device I have Been an android user from the past 9 years I ordered IPhone 11 (128gb) product redMy experience after using 3 weeks1. The delivery ...READ MORE',\n",
       " 'Amazing Powerful and Durable Gadget.I’m am very happy with the camera picture quality, Amazing face id unlocked in dark room, Strong battery with perfect screen size as you can carry easily in pocket. This is my third iPhone.I shifted from android Samsung Note series to iPhone because of the strong build quality and peace of mind for next 3-4 years.Don’t think to much just go for it and I suggest you to go for minimum 128gb variant or more 256gb.I’ve attached my puppy pics and no fi...READ MORE',\n",
       " 'So far it’s been an AMAZING experience coming back to iOS after nearly a decade but it’s not as versatile as android though phone is sturdy dropped it accidentally a couple of times and nothing happened fortunately camera is awesome',\n",
       " 'i11 is worthy to buy, too much happy with the product. Thank u flipkart I received the item on time..loved it..',\n",
       " 'What a camera .....just awesome ..you can feel this iPhone just awesome . Good for gaming also ...try pubg in hd it’s just wow']"
      ]
     },
     "execution_count": 177,
     "metadata": {},
     "output_type": "execute_result"
    }
   ],
   "source": [
    "# to extract the ratingstar\n",
    "derev7=driver.find_elements_by_xpath(\"//*[@class='t-ZTKy']\")\n",
    "derev7\n",
    "\n",
    "# becoz text do not work in text so we use loop so that the brand name can be extracted\n",
    "\n",
    "dereview7=[]\n",
    "for i in derev7:\n",
    "    dereview7.append(i.text.replace(\"\\n\",\"\"))\n",
    "dereview7"
   ]
  },
  {
   "cell_type": "code",
   "execution_count": 178,
   "metadata": {},
   "outputs": [],
   "source": [
    "next1=driver.find_element_by_xpath(\"//a[@class='_1LKTO3']\")\n",
    "next1.click()"
   ]
  },
  {
   "cell_type": "code",
   "execution_count": 179,
   "metadata": {},
   "outputs": [
    {
     "data": {
      "text/plain": [
       "['5', '5', '5', '5', '5', '5', '5', '5', '5', '5']"
      ]
     },
     "execution_count": 179,
     "metadata": {},
     "output_type": "execute_result"
    }
   ],
   "source": [
    "# to extract the ratingstar\n",
    "ra8=driver.find_elements_by_xpath(\"//*[@class='_3LWZlK _1BLPMq']\")\n",
    "ra8\n",
    "\n",
    "# becoz text do not work in text so we use loop so that the brand name can be extracted\n",
    "\n",
    "ratingstar8=[]\n",
    "for i in ra8:\n",
    "    ratingstar8.append(i.text)\n",
    "ratingstar8"
   ]
  },
  {
   "cell_type": "code",
   "execution_count": 180,
   "metadata": {},
   "outputs": [
    {
     "data": {
      "text/plain": [
       "['Highly recommended',\n",
       " 'Perfect product!',\n",
       " 'Perfect product!',\n",
       " 'Classy product',\n",
       " 'Highly recommended',\n",
       " 'Worth every penny',\n",
       " 'Perfect product!',\n",
       " 'Simply awesome',\n",
       " 'Worth every penny',\n",
       " 'Terrific']"
      ]
     },
     "execution_count": 180,
     "metadata": {},
     "output_type": "execute_result"
    }
   ],
   "source": [
    "# to extract the ratingstar\n",
    "rev8=driver.find_elements_by_xpath(\"//*[@class='_2-N8zT']\")\n",
    "rev8\n",
    "\n",
    "# becoz text do not work in text so we use loop so that the brand name can be extracted\n",
    "\n",
    "review8=[]\n",
    "for i in rev8:\n",
    "    review8.append(i.text)\n",
    "review8"
   ]
  },
  {
   "cell_type": "code",
   "execution_count": 181,
   "metadata": {},
   "outputs": [
    {
     "data": {
      "text/plain": [
       "['iphone 11 is a very good phone to buy only if you can compromise for the display. The display on this is device is pretty good but you can get other options with better displays in this price segment.If you can survive with an HD+ LCD panel with thicker bezels and a notch up top then this is a very good phone for you.Cameras are awesome, battery backup excellent, great performance and a decent premium look. Good job Apple !',\n",
       " 'It’s a must buy who is looking for an upgrade from previous generation of iPhones. If you are using XR then still you can hold on for sometime and upgrade to 2020 model else this phone is a must buy . Camera quality is amazing and wide angle is something to count upon. Performance wise it’s amazing and feels premium while holding in hand. So a big YES for this device. Go for 128 GB variant as the 4K videos will occupy lots of space and the storage can get over very quickly. Try to buy it with...READ MORE',\n",
       " 'Value for money❤️❤️Its awesome mobile phone in the world ...Display was very good and bright ..Trust me freinds you r never regret after Buying..Just go for it....I love this phone and i switch to iphone x to 11',\n",
       " 'Totally in love with this ❤ the camera quality is amazing just love it 😘😘😘 itsss dammnnnnnn amazing... Must buy iPhone 11 this is my best experience ever ☀👌👌🧡🧡🧡🧡🧡 thanku apple ❤',\n",
       " \"It's my first time to use iOS phone and I am loving my upgradation 😍😍 I love the color, I love the assebility of the phone....I need to learn more about its functionality, but as far as I have seen, it's quite easy and it has a lot of functions to work on, specially if you are a content writer or a blogger you get a lot of content creation platforms and they are really amazing.This phone not only for good quality photography but a lot of other task too.😍💯\",\n",
       " 'Best budget Iphone till date ❤️ go for it guys without second thought. Let me explain you guys about Camera, Display, battery, and performance.Camera: at this price range there is no comparison of camera, you’ll love the picture quality as well as video quality. I am a Vlogger I wanted an iPhone with 4k video by front camera and I got this phone and I am more than happy 😃Battery: I use this phone roughly as I am active social media person and I have a youtube channel. so the battery ba...READ MORE',\n",
       " \"Iphone is just awesome.. battery backup is very very nice.. continuously for 10 hours we can use it.camera is just awesome.. display is just fab.i love it alot..i had to wait 15 days for it as i pre ordered it..overalll it's worth the price..these all images are clicked by my iPhone..and i love it.\",\n",
       " 'Excellent camera, good performance, no lag. The lcd display is also good.. but difference come when we watch movie in prime and Netflix, the colours are not vibrant.. as we see in amoled display.. and the charger in box is of 5 watts.. takes more than 3 hours to charge from 0 to 100.. so guys be prepare to buy 18 watts charger . Finally I am an android user, it was my first Iapple phone, I promise u guys the iOS is so smooth.. overall the phone is damn good.... close eyes to buy it.. thanks t...READ MORE',\n",
       " 'It’s been almost a month since I have been using this phone. I upgraded from an iPhone 8. The main issue with my 8 was battery and this phone is just awesome when it comes to battery. It lasts a day and a half for me with my regular use , internet connected always with 4gCan’t move forward without saying this. Battery of this phone is a life saver when I am traveling or at work when I don’t get the option to chargeCamera is superb. Front cam selfies and back cam photos are just awesome....READ MORE',\n",
       " 'Really worth of money. i just love it. It is the best phone ever.']"
      ]
     },
     "execution_count": 181,
     "metadata": {},
     "output_type": "execute_result"
    }
   ],
   "source": [
    "# to extract the ratingstar\n",
    "derev8=driver.find_elements_by_xpath(\"//*[@class='t-ZTKy']\")\n",
    "derev8\n",
    "\n",
    "# becoz text do not work in text so we use loop so that the brand name can be extracted\n",
    "\n",
    "dereview8=[]\n",
    "for i in derev8:\n",
    "    dereview8.append(i.text.replace(\"\\n\",\"\"))\n",
    "dereview8"
   ]
  },
  {
   "cell_type": "code",
   "execution_count": 183,
   "metadata": {},
   "outputs": [],
   "source": [
    "next1=driver.find_element_by_xpath(\"//a[@class='_1LKTO3']\")\n",
    "next1.click()"
   ]
  },
  {
   "cell_type": "code",
   "execution_count": 184,
   "metadata": {},
   "outputs": [
    {
     "data": {
      "text/plain": [
       "['5', '5', '5', '5', '5', '5', '5', '4', '5', '5']"
      ]
     },
     "execution_count": 184,
     "metadata": {},
     "output_type": "execute_result"
    }
   ],
   "source": [
    "# to extract the ratingstar\n",
    "ra9=driver.find_elements_by_xpath(\"//*[@class='_3LWZlK _1BLPMq']\")\n",
    "ra9\n",
    "\n",
    "# becoz text do not work in text so we use loop so that the brand name can be extracted\n",
    "\n",
    "ratingstar9=[]\n",
    "for i in ra9:\n",
    "    ratingstar9.append(i.text)\n",
    "ratingstar9"
   ]
  },
  {
   "cell_type": "code",
   "execution_count": 185,
   "metadata": {},
   "outputs": [
    {
     "data": {
      "text/plain": [
       "['Brilliant',\n",
       " 'Simply awesome',\n",
       " 'Perfect product!',\n",
       " 'Best in the market!',\n",
       " 'Fabulous!',\n",
       " 'Worth every penny',\n",
       " 'Great product',\n",
       " 'Good choice',\n",
       " 'Worth every penny',\n",
       " 'Highly recommended']"
      ]
     },
     "execution_count": 185,
     "metadata": {},
     "output_type": "execute_result"
    }
   ],
   "source": [
    "# to extract the ratingstar\n",
    "rev9=driver.find_elements_by_xpath(\"//*[@class='_2-N8zT']\")\n",
    "rev9\n",
    "\n",
    "# becoz text do not work in text so we use loop so that the brand name can be extracted\n",
    "\n",
    "review9=[]\n",
    "for i in rev9:\n",
    "    review9.append(i.text)\n",
    "review9"
   ]
  },
  {
   "cell_type": "code",
   "execution_count": 186,
   "metadata": {},
   "outputs": [
    {
     "data": {
      "text/plain": [
       "['The Best Phone for the MoneyThe iPhone 11 offers superb cameras, a more durable design and excellent battery life for an affordable price.Compelling ultra-wide cameraNew Night mode is excellentLong battery life',\n",
       " 'Really satisfied with the Product I received... It’s totally genuine and the packaging was also really good so if ur planning to buy just go for it.',\n",
       " 'Amazing phone with great cameras and better battery which gives you the best performance. I just love the camera .',\n",
       " 'Great iPhone very snappy experience as apple kind. Upgraded from iPhone 7.Pros-Camera top class- Battery top performed-Chipset no need to say as apple kind-Security as you expect from apple- Display super bright industry leading colouraccuracy and super responsive-Build quality as expect from apple sturdypremium durable beautiful stylish.-Os most stable os in smartphone industryCons-No 5G-Display is not based on OLED technology-Charger headphones and 1 apple stic...READ MORE',\n",
       " 'This is my first iOS phone. I am very happy with this product. Very much satisfied with this. I love this phone.',\n",
       " 'Previously I was using one plus 3t it was a great phoneAnd then I decided to upgrade I am stuck between Samsung s10 plus or iPhone 11I have seen the specs and everything were good except the display it’s somewhere between 720-1080 and it’s not even an amoled it’s an LCD displayBut I decided to go with iPhone because I have never used an IOS device I have Been an android user from the past 9 years I ordered IPhone 11 (128gb) product redMy experience after using 3 weeks1. The delivery ...READ MORE',\n",
       " 'Amazing Powerful and Durable Gadget.I’m am very happy with the camera picture quality, Amazing face id unlocked in dark room, Strong battery with perfect screen size as you can carry easily in pocket. This is my third iPhone.I shifted from android Samsung Note series to iPhone because of the strong build quality and peace of mind for next 3-4 years.Don’t think to much just go for it and I suggest you to go for minimum 128gb variant or more 256gb.I’ve attached my puppy pics and no fi...READ MORE',\n",
       " 'So far it’s been an AMAZING experience coming back to iOS after nearly a decade but it’s not as versatile as android though phone is sturdy dropped it accidentally a couple of times and nothing happened fortunately camera is awesome',\n",
       " 'i11 is worthy to buy, too much happy with the product. Thank u flipkart I received the item on time..loved it..',\n",
       " 'What a camera .....just awesome ..you can feel this iPhone just awesome . Good for gaming also ...try pubg in hd it’s just wow']"
      ]
     },
     "execution_count": 186,
     "metadata": {},
     "output_type": "execute_result"
    }
   ],
   "source": [
    "# to extract the ratingstar\n",
    "derev9=driver.find_elements_by_xpath(\"//*[@class='t-ZTKy']\")\n",
    "derev9\n",
    "\n",
    "# becoz text do not work in text so we use loop so that the brand name can be extracted\n",
    "\n",
    "dereview9=[]\n",
    "for i in derev9:\n",
    "    dereview9.append(i.text.replace(\"\\n\",\"\"))\n",
    "dereview9"
   ]
  },
  {
   "cell_type": "code",
   "execution_count": 187,
   "metadata": {},
   "outputs": [
    {
     "data": {
      "text/plain": [
       "['5',\n",
       " '5',\n",
       " '5',\n",
       " '5',\n",
       " '5',\n",
       " '5',\n",
       " '5',\n",
       " '4',\n",
       " '5',\n",
       " '5',\n",
       " '5',\n",
       " '5',\n",
       " '5',\n",
       " '5',\n",
       " '5',\n",
       " '5',\n",
       " '5',\n",
       " '4',\n",
       " '5',\n",
       " '5',\n",
       " '5',\n",
       " '5',\n",
       " '5',\n",
       " '5',\n",
       " '5',\n",
       " '5',\n",
       " '5',\n",
       " '5',\n",
       " '5',\n",
       " '5',\n",
       " '5',\n",
       " '5',\n",
       " '5',\n",
       " '5',\n",
       " '5',\n",
       " '5',\n",
       " '5',\n",
       " '4',\n",
       " '5',\n",
       " '5',\n",
       " '5',\n",
       " '5',\n",
       " '5',\n",
       " '5',\n",
       " '5',\n",
       " '5',\n",
       " '5',\n",
       " '4',\n",
       " '5',\n",
       " '5',\n",
       " '5',\n",
       " '5',\n",
       " '5',\n",
       " '5',\n",
       " '5',\n",
       " '5',\n",
       " '5',\n",
       " '5',\n",
       " '5',\n",
       " '5',\n",
       " '5',\n",
       " '5',\n",
       " '5',\n",
       " '5',\n",
       " '5',\n",
       " '5',\n",
       " '5',\n",
       " '4',\n",
       " '5',\n",
       " '5',\n",
       " '5',\n",
       " '5',\n",
       " '5',\n",
       " '5',\n",
       " '5',\n",
       " '5',\n",
       " '5',\n",
       " '4',\n",
       " '5',\n",
       " '5',\n",
       " '5',\n",
       " '5',\n",
       " '5',\n",
       " '5',\n",
       " '5',\n",
       " '5',\n",
       " '5',\n",
       " '5',\n",
       " '5',\n",
       " '5',\n",
       " '5',\n",
       " '5',\n",
       " '5',\n",
       " '5',\n",
       " '5',\n",
       " '5',\n",
       " '5',\n",
       " '4',\n",
       " '5',\n",
       " '5']"
      ]
     },
     "execution_count": 187,
     "metadata": {},
     "output_type": "execute_result"
    }
   ],
   "source": [
    "ratings = list(chain(ratingstar,ratingstar1,ratingstar2,ratingstar3,ratingstar4,ratingstar5,ratingstar6,ratingstar7,ratingstar8,ratingstar9))\n",
    "ratings"
   ]
  },
  {
   "cell_type": "code",
   "execution_count": 188,
   "metadata": {},
   "outputs": [
    {
     "data": {
      "text/plain": [
       "['Brilliant',\n",
       " 'Simply awesome',\n",
       " 'Perfect product!',\n",
       " 'Best in the market!',\n",
       " 'Fabulous!',\n",
       " 'Worth every penny',\n",
       " 'Great product',\n",
       " 'Good choice',\n",
       " 'Worth every penny',\n",
       " 'Highly recommended',\n",
       " 'Brilliant',\n",
       " 'Simply awesome',\n",
       " 'Perfect product!',\n",
       " 'Best in the market!',\n",
       " 'Fabulous!',\n",
       " 'Worth every penny',\n",
       " 'Great product',\n",
       " 'Good choice',\n",
       " 'Worth every penny',\n",
       " 'Highly recommended',\n",
       " 'Highly recommended',\n",
       " 'Perfect product!',\n",
       " 'Perfect product!',\n",
       " 'Classy product',\n",
       " 'Highly recommended',\n",
       " 'Worth every penny',\n",
       " 'Perfect product!',\n",
       " 'Simply awesome',\n",
       " 'Worth every penny',\n",
       " 'Terrific',\n",
       " 'Brilliant',\n",
       " 'Simply awesome',\n",
       " 'Perfect product!',\n",
       " 'Best in the market!',\n",
       " 'Fabulous!',\n",
       " 'Worth every penny',\n",
       " 'Great product',\n",
       " 'Good choice',\n",
       " 'Worth every penny',\n",
       " 'Highly recommended',\n",
       " 'Brilliant',\n",
       " 'Simply awesome',\n",
       " 'Perfect product!',\n",
       " 'Best in the market!',\n",
       " 'Fabulous!',\n",
       " 'Worth every penny',\n",
       " 'Great product',\n",
       " 'Good choice',\n",
       " 'Worth every penny',\n",
       " 'Highly recommended',\n",
       " 'Highly recommended',\n",
       " 'Perfect product!',\n",
       " 'Perfect product!',\n",
       " 'Classy product',\n",
       " 'Highly recommended',\n",
       " 'Worth every penny',\n",
       " 'Perfect product!',\n",
       " 'Simply awesome',\n",
       " 'Worth every penny',\n",
       " 'Terrific',\n",
       " 'Brilliant',\n",
       " 'Simply awesome',\n",
       " 'Perfect product!',\n",
       " 'Best in the market!',\n",
       " 'Fabulous!',\n",
       " 'Worth every penny',\n",
       " 'Great product',\n",
       " 'Good choice',\n",
       " 'Worth every penny',\n",
       " 'Highly recommended',\n",
       " 'Brilliant',\n",
       " 'Simply awesome',\n",
       " 'Perfect product!',\n",
       " 'Best in the market!',\n",
       " 'Fabulous!',\n",
       " 'Worth every penny',\n",
       " 'Great product',\n",
       " 'Good choice',\n",
       " 'Worth every penny',\n",
       " 'Highly recommended',\n",
       " 'Highly recommended',\n",
       " 'Perfect product!',\n",
       " 'Perfect product!',\n",
       " 'Classy product',\n",
       " 'Highly recommended',\n",
       " 'Worth every penny',\n",
       " 'Perfect product!',\n",
       " 'Simply awesome',\n",
       " 'Worth every penny',\n",
       " 'Terrific',\n",
       " 'Brilliant',\n",
       " 'Simply awesome',\n",
       " 'Perfect product!',\n",
       " 'Best in the market!',\n",
       " 'Fabulous!',\n",
       " 'Worth every penny',\n",
       " 'Great product',\n",
       " 'Good choice',\n",
       " 'Worth every penny',\n",
       " 'Highly recommended']"
      ]
     },
     "execution_count": 188,
     "metadata": {},
     "output_type": "execute_result"
    }
   ],
   "source": [
    "reviewiphone = list(chain(review,review1,review2,review3,review4,review5,review6,review7,review8,review9))\n",
    "reviewiphone"
   ]
  },
  {
   "cell_type": "code",
   "execution_count": 189,
   "metadata": {},
   "outputs": [
    {
     "data": {
      "text/plain": [
       "['The Best Phone for the MoneyThe iPhone 11 offers superb cameras, a more durable design and excellent battery life for an affordable price.Compelling ultra-wide cameraNew Night mode is excellentLong battery life',\n",
       " 'Really satisfied with the Product I received... It’s totally genuine and the packaging was also really good so if ur planning to buy just go for it.',\n",
       " 'Amazing phone with great cameras and better battery which gives you the best performance. I just love the camera .',\n",
       " 'Great iPhone very snappy experience as apple kind. Upgraded from iPhone 7.Pros-Camera top class- Battery top performed-Chipset no need to say as apple kind-Security as you expect from apple- Display super bright industry leading colouraccuracy and super responsive-Build quality as expect from apple sturdypremium durable beautiful stylish.-Os most stable os in smartphone industryCons-No 5G-Display is not based on OLED technology-Charger headphones and 1 apple stic...READ MORE',\n",
       " 'This is my first iOS phone. I am very happy with this product. Very much satisfied with this. I love this phone.',\n",
       " 'Previously I was using one plus 3t it was a great phoneAnd then I decided to upgrade I am stuck between Samsung s10 plus or iPhone 11I have seen the specs and everything were good except the display it’s somewhere between 720-1080 and it’s not even an amoled it’s an LCD displayBut I decided to go with iPhone because I have never used an IOS device I have Been an android user from the past 9 years I ordered IPhone 11 (128gb) product redMy experience after using 3 weeks1. The delivery ...READ MORE',\n",
       " 'Amazing Powerful and Durable Gadget.I’m am very happy with the camera picture quality, Amazing face id unlocked in dark room, Strong battery with perfect screen size as you can carry easily in pocket. This is my third iPhone.I shifted from android Samsung Note series to iPhone because of the strong build quality and peace of mind for next 3-4 years.Don’t think to much just go for it and I suggest you to go for minimum 128gb variant or more 256gb.I’ve attached my puppy pics and no fi...READ MORE',\n",
       " 'So far it’s been an AMAZING experience coming back to iOS after nearly a decade but it’s not as versatile as android though phone is sturdy dropped it accidentally a couple of times and nothing happened fortunately camera is awesome',\n",
       " 'i11 is worthy to buy, too much happy with the product. Thank u flipkart I received the item on time..loved it..',\n",
       " 'What a camera .....just awesome ..you can feel this iPhone just awesome . Good for gaming also ...try pubg in hd it’s just wow',\n",
       " 'The Best Phone for the MoneyThe iPhone 11 offers superb cameras, a more durable design and excellent battery life for an affordable price.Compelling ultra-wide cameraNew Night mode is excellentLong battery life',\n",
       " 'Really satisfied with the Product I received... It’s totally genuine and the packaging was also really good so if ur planning to buy just go for it.',\n",
       " 'Amazing phone with great cameras and better battery which gives you the best performance. I just love the camera .',\n",
       " 'Great iPhone very snappy experience as apple kind. Upgraded from iPhone 7.Pros-Camera top class- Battery top performed-Chipset no need to say as apple kind-Security as you expect from apple- Display super bright industry leading colouraccuracy and super responsive-Build quality as expect from apple sturdypremium durable beautiful stylish.-Os most stable os in smartphone industryCons-No 5G-Display is not based on OLED technology-Charger headphones and 1 apple stic...READ MORE',\n",
       " 'This is my first iOS phone. I am very happy with this product. Very much satisfied with this. I love this phone.',\n",
       " 'Previously I was using one plus 3t it was a great phoneAnd then I decided to upgrade I am stuck between Samsung s10 plus or iPhone 11I have seen the specs and everything were good except the display it’s somewhere between 720-1080 and it’s not even an amoled it’s an LCD displayBut I decided to go with iPhone because I have never used an IOS device I have Been an android user from the past 9 years I ordered IPhone 11 (128gb) product redMy experience after using 3 weeks1. The delivery ...READ MORE',\n",
       " 'Amazing Powerful and Durable Gadget.I’m am very happy with the camera picture quality, Amazing face id unlocked in dark room, Strong battery with perfect screen size as you can carry easily in pocket. This is my third iPhone.I shifted from android Samsung Note series to iPhone because of the strong build quality and peace of mind for next 3-4 years.Don’t think to much just go for it and I suggest you to go for minimum 128gb variant or more 256gb.I’ve attached my puppy pics and no fi...READ MORE',\n",
       " 'So far it’s been an AMAZING experience coming back to iOS after nearly a decade but it’s not as versatile as android though phone is sturdy dropped it accidentally a couple of times and nothing happened fortunately camera is awesome',\n",
       " 'i11 is worthy to buy, too much happy with the product. Thank u flipkart I received the item on time..loved it..',\n",
       " 'What a camera .....just awesome ..you can feel this iPhone just awesome . Good for gaming also ...try pubg in hd it’s just wow',\n",
       " 'iphone 11 is a very good phone to buy only if you can compromise for the display. The display on this is device is pretty good but you can get other options with better displays in this price segment.If you can survive with an HD+ LCD panel with thicker bezels and a notch up top then this is a very good phone for you.Cameras are awesome, battery backup excellent, great performance and a decent premium look. Good job Apple !',\n",
       " 'It’s a must buy who is looking for an upgrade from previous generation of iPhones. If you are using XR then still you can hold on for sometime and upgrade to 2020 model else this phone is a must buy . Camera quality is amazing and wide angle is something to count upon. Performance wise it’s amazing and feels premium while holding in hand. So a big YES for this device. Go for 128 GB variant as the 4K videos will occupy lots of space and the storage can get over very quickly. Try to buy it with...READ MORE',\n",
       " 'Value for money❤️❤️Its awesome mobile phone in the world ...Display was very good and bright ..Trust me freinds you r never regret after Buying..Just go for it....I love this phone and i switch to iphone x to 11',\n",
       " 'Totally in love with this ❤ the camera quality is amazing just love it 😘😘😘 itsss dammnnnnnn amazing... Must buy iPhone 11 this is my best experience ever ☀👌👌🧡🧡🧡🧡🧡 thanku apple ❤',\n",
       " \"It's my first time to use iOS phone and I am loving my upgradation 😍😍 I love the color, I love the assebility of the phone....I need to learn more about its functionality, but as far as I have seen, it's quite easy and it has a lot of functions to work on, specially if you are a content writer or a blogger you get a lot of content creation platforms and they are really amazing.This phone not only for good quality photography but a lot of other task too.😍💯\",\n",
       " 'Best budget Iphone till date ❤️ go for it guys without second thought. Let me explain you guys about Camera, Display, battery, and performance.Camera: at this price range there is no comparison of camera, you’ll love the picture quality as well as video quality. I am a Vlogger I wanted an iPhone with 4k video by front camera and I got this phone and I am more than happy 😃Battery: I use this phone roughly as I am active social media person and I have a youtube channel. so the battery ba...READ MORE',\n",
       " \"Iphone is just awesome.. battery backup is very very nice.. continuously for 10 hours we can use it.camera is just awesome.. display is just fab.i love it alot..i had to wait 15 days for it as i pre ordered it..overalll it's worth the price..these all images are clicked by my iPhone..and i love it.\",\n",
       " 'Excellent camera, good performance, no lag. The lcd display is also good.. but difference come when we watch movie in prime and Netflix, the colours are not vibrant.. as we see in amoled display.. and the charger in box is of 5 watts.. takes more than 3 hours to charge from 0 to 100.. so guys be prepare to buy 18 watts charger . Finally I am an android user, it was my first Iapple phone, I promise u guys the iOS is so smooth.. overall the phone is damn good.... close eyes to buy it.. thanks t...READ MORE',\n",
       " 'It’s been almost a month since I have been using this phone. I upgraded from an iPhone 8. The main issue with my 8 was battery and this phone is just awesome when it comes to battery. It lasts a day and a half for me with my regular use , internet connected always with 4gCan’t move forward without saying this. Battery of this phone is a life saver when I am traveling or at work when I don’t get the option to chargeCamera is superb. Front cam selfies and back cam photos are just awesome....READ MORE',\n",
       " 'Really worth of money. i just love it. It is the best phone ever.',\n",
       " 'The Best Phone for the MoneyThe iPhone 11 offers superb cameras, a more durable design and excellent battery life for an affordable price.Compelling ultra-wide cameraNew Night mode is excellentLong battery life',\n",
       " 'Really satisfied with the Product I received... It’s totally genuine and the packaging was also really good so if ur planning to buy just go for it.',\n",
       " 'Amazing phone with great cameras and better battery which gives you the best performance. I just love the camera .',\n",
       " 'Great iPhone very snappy experience as apple kind. Upgraded from iPhone 7.Pros-Camera top class- Battery top performed-Chipset no need to say as apple kind-Security as you expect from apple- Display super bright industry leading colouraccuracy and super responsive-Build quality as expect from apple sturdypremium durable beautiful stylish.-Os most stable os in smartphone industryCons-No 5G-Display is not based on OLED technology-Charger headphones and 1 apple stic...READ MORE',\n",
       " 'This is my first iOS phone. I am very happy with this product. Very much satisfied with this. I love this phone.',\n",
       " 'Previously I was using one plus 3t it was a great phoneAnd then I decided to upgrade I am stuck between Samsung s10 plus or iPhone 11I have seen the specs and everything were good except the display it’s somewhere between 720-1080 and it’s not even an amoled it’s an LCD displayBut I decided to go with iPhone because I have never used an IOS device I have Been an android user from the past 9 years I ordered IPhone 11 (128gb) product redMy experience after using 3 weeks1. The delivery ...READ MORE',\n",
       " 'Amazing Powerful and Durable Gadget.I’m am very happy with the camera picture quality, Amazing face id unlocked in dark room, Strong battery with perfect screen size as you can carry easily in pocket. This is my third iPhone.I shifted from android Samsung Note series to iPhone because of the strong build quality and peace of mind for next 3-4 years.Don’t think to much just go for it and I suggest you to go for minimum 128gb variant or more 256gb.I’ve attached my puppy pics and no fi...READ MORE',\n",
       " 'So far it’s been an AMAZING experience coming back to iOS after nearly a decade but it’s not as versatile as android though phone is sturdy dropped it accidentally a couple of times and nothing happened fortunately camera is awesome',\n",
       " 'i11 is worthy to buy, too much happy with the product. Thank u flipkart I received the item on time..loved it..',\n",
       " 'What a camera .....just awesome ..you can feel this iPhone just awesome . Good for gaming also ...try pubg in hd it’s just wow',\n",
       " 'The Best Phone for the MoneyThe iPhone 11 offers superb cameras, a more durable design and excellent battery life for an affordable price.Compelling ultra-wide cameraNew Night mode is excellentLong battery life',\n",
       " 'Really satisfied with the Product I received... It’s totally genuine and the packaging was also really good so if ur planning to buy just go for it.',\n",
       " 'Amazing phone with great cameras and better battery which gives you the best performance. I just love the camera .',\n",
       " 'Great iPhone very snappy experience as apple kind. Upgraded from iPhone 7.Pros-Camera top class- Battery top performed-Chipset no need to say as apple kind-Security as you expect from apple- Display super bright industry leading colouraccuracy and super responsive-Build quality as expect from apple sturdypremium durable beautiful stylish.-Os most stable os in smartphone industryCons-No 5G-Display is not based on OLED technology-Charger headphones and 1 apple stic...READ MORE',\n",
       " 'This is my first iOS phone. I am very happy with this product. Very much satisfied with this. I love this phone.',\n",
       " 'Previously I was using one plus 3t it was a great phoneAnd then I decided to upgrade I am stuck between Samsung s10 plus or iPhone 11I have seen the specs and everything were good except the display it’s somewhere between 720-1080 and it’s not even an amoled it’s an LCD displayBut I decided to go with iPhone because I have never used an IOS device I have Been an android user from the past 9 years I ordered IPhone 11 (128gb) product redMy experience after using 3 weeks1. The delivery ...READ MORE',\n",
       " 'Amazing Powerful and Durable Gadget.I’m am very happy with the camera picture quality, Amazing face id unlocked in dark room, Strong battery with perfect screen size as you can carry easily in pocket. This is my third iPhone.I shifted from android Samsung Note series to iPhone because of the strong build quality and peace of mind for next 3-4 years.Don’t think to much just go for it and I suggest you to go for minimum 128gb variant or more 256gb.I’ve attached my puppy pics and no fi...READ MORE',\n",
       " 'So far it’s been an AMAZING experience coming back to iOS after nearly a decade but it’s not as versatile as android though phone is sturdy dropped it accidentally a couple of times and nothing happened fortunately camera is awesome',\n",
       " 'i11 is worthy to buy, too much happy with the product. Thank u flipkart I received the item on time..loved it..',\n",
       " 'What a camera .....just awesome ..you can feel this iPhone just awesome . Good for gaming also ...try pubg in hd it’s just wow',\n",
       " 'iphone 11 is a very good phone to buy only if you can compromise for the display. The display on this is device is pretty good but you can get other options with better displays in this price segment.If you can survive with an HD+ LCD panel with thicker bezels and a notch up top then this is a very good phone for you.Cameras are awesome, battery backup excellent, great performance and a decent premium look. Good job Apple !',\n",
       " 'It’s a must buy who is looking for an upgrade from previous generation of iPhones. If you are using XR then still you can hold on for sometime and upgrade to 2020 model else this phone is a must buy . Camera quality is amazing and wide angle is something to count upon. Performance wise it’s amazing and feels premium while holding in hand. So a big YES for this device. Go for 128 GB variant as the 4K videos will occupy lots of space and the storage can get over very quickly. Try to buy it with...READ MORE',\n",
       " 'Value for money❤️❤️Its awesome mobile phone in the world ...Display was very good and bright ..Trust me freinds you r never regret after Buying..Just go for it....I love this phone and i switch to iphone x to 11',\n",
       " 'Totally in love with this ❤ the camera quality is amazing just love it 😘😘😘 itsss dammnnnnnn amazing... Must buy iPhone 11 this is my best experience ever ☀👌👌🧡🧡🧡🧡🧡 thanku apple ❤',\n",
       " \"It's my first time to use iOS phone and I am loving my upgradation 😍😍 I love the color, I love the assebility of the phone....I need to learn more about its functionality, but as far as I have seen, it's quite easy and it has a lot of functions to work on, specially if you are a content writer or a blogger you get a lot of content creation platforms and they are really amazing.This phone not only for good quality photography but a lot of other task too.😍💯\",\n",
       " 'Best budget Iphone till date ❤️ go for it guys without second thought. Let me explain you guys about Camera, Display, battery, and performance.Camera: at this price range there is no comparison of camera, you’ll love the picture quality as well as video quality. I am a Vlogger I wanted an iPhone with 4k video by front camera and I got this phone and I am more than happy 😃Battery: I use this phone roughly as I am active social media person and I have a youtube channel. so the battery ba...READ MORE',\n",
       " \"Iphone is just awesome.. battery backup is very very nice.. continuously for 10 hours we can use it.camera is just awesome.. display is just fab.i love it alot..i had to wait 15 days for it as i pre ordered it..overalll it's worth the price..these all images are clicked by my iPhone..and i love it.\",\n",
       " 'Excellent camera, good performance, no lag. The lcd display is also good.. but difference come when we watch movie in prime and Netflix, the colours are not vibrant.. as we see in amoled display.. and the charger in box is of 5 watts.. takes more than 3 hours to charge from 0 to 100.. so guys be prepare to buy 18 watts charger . Finally I am an android user, it was my first Iapple phone, I promise u guys the iOS is so smooth.. overall the phone is damn good.... close eyes to buy it.. thanks t...READ MORE',\n",
       " 'It’s been almost a month since I have been using this phone. I upgraded from an iPhone 8. The main issue with my 8 was battery and this phone is just awesome when it comes to battery. It lasts a day and a half for me with my regular use , internet connected always with 4gCan’t move forward without saying this. Battery of this phone is a life saver when I am traveling or at work when I don’t get the option to chargeCamera is superb. Front cam selfies and back cam photos are just awesome....READ MORE',\n",
       " 'Really worth of money. i just love it. It is the best phone ever.',\n",
       " 'The Best Phone for the MoneyThe iPhone 11 offers superb cameras, a more durable design and excellent battery life for an affordable price.Compelling ultra-wide cameraNew Night mode is excellentLong battery life',\n",
       " 'Really satisfied with the Product I received... It’s totally genuine and the packaging was also really good so if ur planning to buy just go for it.',\n",
       " 'Amazing phone with great cameras and better battery which gives you the best performance. I just love the camera .',\n",
       " 'Great iPhone very snappy experience as apple kind. Upgraded from iPhone 7.Pros-Camera top class- Battery top performed-Chipset no need to say as apple kind-Security as you expect from apple- Display super bright industry leading colouraccuracy and super responsive-Build quality as expect from apple sturdypremium durable beautiful stylish.-Os most stable os in smartphone industryCons-No 5G-Display is not based on OLED technology-Charger headphones and 1 apple stic...READ MORE',\n",
       " 'This is my first iOS phone. I am very happy with this product. Very much satisfied with this. I love this phone.',\n",
       " 'Previously I was using one plus 3t it was a great phoneAnd then I decided to upgrade I am stuck between Samsung s10 plus or iPhone 11I have seen the specs and everything were good except the display it’s somewhere between 720-1080 and it’s not even an amoled it’s an LCD displayBut I decided to go with iPhone because I have never used an IOS device I have Been an android user from the past 9 years I ordered IPhone 11 (128gb) product redMy experience after using 3 weeks1. The delivery ...READ MORE',\n",
       " 'Amazing Powerful and Durable Gadget.I’m am very happy with the camera picture quality, Amazing face id unlocked in dark room, Strong battery with perfect screen size as you can carry easily in pocket. This is my third iPhone.I shifted from android Samsung Note series to iPhone because of the strong build quality and peace of mind for next 3-4 years.Don’t think to much just go for it and I suggest you to go for minimum 128gb variant or more 256gb.I’ve attached my puppy pics and no fi...READ MORE',\n",
       " 'So far it’s been an AMAZING experience coming back to iOS after nearly a decade but it’s not as versatile as android though phone is sturdy dropped it accidentally a couple of times and nothing happened fortunately camera is awesome',\n",
       " 'i11 is worthy to buy, too much happy with the product. Thank u flipkart I received the item on time..loved it..',\n",
       " 'What a camera .....just awesome ..you can feel this iPhone just awesome . Good for gaming also ...try pubg in hd it’s just wow',\n",
       " 'The Best Phone for the MoneyThe iPhone 11 offers superb cameras, a more durable design and excellent battery life for an affordable price.Compelling ultra-wide cameraNew Night mode is excellentLong battery life',\n",
       " 'Really satisfied with the Product I received... It’s totally genuine and the packaging was also really good so if ur planning to buy just go for it.',\n",
       " 'Amazing phone with great cameras and better battery which gives you the best performance. I just love the camera .',\n",
       " 'Great iPhone very snappy experience as apple kind. Upgraded from iPhone 7.Pros-Camera top class- Battery top performed-Chipset no need to say as apple kind-Security as you expect from apple- Display super bright industry leading colouraccuracy and super responsive-Build quality as expect from apple sturdypremium durable beautiful stylish.-Os most stable os in smartphone industryCons-No 5G-Display is not based on OLED technology-Charger headphones and 1 apple stic...READ MORE',\n",
       " 'This is my first iOS phone. I am very happy with this product. Very much satisfied with this. I love this phone.',\n",
       " 'Previously I was using one plus 3t it was a great phoneAnd then I decided to upgrade I am stuck between Samsung s10 plus or iPhone 11I have seen the specs and everything were good except the display it’s somewhere between 720-1080 and it’s not even an amoled it’s an LCD displayBut I decided to go with iPhone because I have never used an IOS device I have Been an android user from the past 9 years I ordered IPhone 11 (128gb) product redMy experience after using 3 weeks1. The delivery ...READ MORE',\n",
       " 'Amazing Powerful and Durable Gadget.I’m am very happy with the camera picture quality, Amazing face id unlocked in dark room, Strong battery with perfect screen size as you can carry easily in pocket. This is my third iPhone.I shifted from android Samsung Note series to iPhone because of the strong build quality and peace of mind for next 3-4 years.Don’t think to much just go for it and I suggest you to go for minimum 128gb variant or more 256gb.I’ve attached my puppy pics and no fi...READ MORE',\n",
       " 'So far it’s been an AMAZING experience coming back to iOS after nearly a decade but it’s not as versatile as android though phone is sturdy dropped it accidentally a couple of times and nothing happened fortunately camera is awesome',\n",
       " 'i11 is worthy to buy, too much happy with the product. Thank u flipkart I received the item on time..loved it..',\n",
       " 'What a camera .....just awesome ..you can feel this iPhone just awesome . Good for gaming also ...try pubg in hd it’s just wow',\n",
       " 'iphone 11 is a very good phone to buy only if you can compromise for the display. The display on this is device is pretty good but you can get other options with better displays in this price segment.If you can survive with an HD+ LCD panel with thicker bezels and a notch up top then this is a very good phone for you.Cameras are awesome, battery backup excellent, great performance and a decent premium look. Good job Apple !',\n",
       " 'It’s a must buy who is looking for an upgrade from previous generation of iPhones. If you are using XR then still you can hold on for sometime and upgrade to 2020 model else this phone is a must buy . Camera quality is amazing and wide angle is something to count upon. Performance wise it’s amazing and feels premium while holding in hand. So a big YES for this device. Go for 128 GB variant as the 4K videos will occupy lots of space and the storage can get over very quickly. Try to buy it with...READ MORE',\n",
       " 'Value for money❤️❤️Its awesome mobile phone in the world ...Display was very good and bright ..Trust me freinds you r never regret after Buying..Just go for it....I love this phone and i switch to iphone x to 11',\n",
       " 'Totally in love with this ❤ the camera quality is amazing just love it 😘😘😘 itsss dammnnnnnn amazing... Must buy iPhone 11 this is my best experience ever ☀👌👌🧡🧡🧡🧡🧡 thanku apple ❤',\n",
       " \"It's my first time to use iOS phone and I am loving my upgradation 😍😍 I love the color, I love the assebility of the phone....I need to learn more about its functionality, but as far as I have seen, it's quite easy and it has a lot of functions to work on, specially if you are a content writer or a blogger you get a lot of content creation platforms and they are really amazing.This phone not only for good quality photography but a lot of other task too.😍💯\",\n",
       " 'Best budget Iphone till date ❤️ go for it guys without second thought. Let me explain you guys about Camera, Display, battery, and performance.Camera: at this price range there is no comparison of camera, you’ll love the picture quality as well as video quality. I am a Vlogger I wanted an iPhone with 4k video by front camera and I got this phone and I am more than happy 😃Battery: I use this phone roughly as I am active social media person and I have a youtube channel. so the battery ba...READ MORE',\n",
       " \"Iphone is just awesome.. battery backup is very very nice.. continuously for 10 hours we can use it.camera is just awesome.. display is just fab.i love it alot..i had to wait 15 days for it as i pre ordered it..overalll it's worth the price..these all images are clicked by my iPhone..and i love it.\",\n",
       " 'Excellent camera, good performance, no lag. The lcd display is also good.. but difference come when we watch movie in prime and Netflix, the colours are not vibrant.. as we see in amoled display.. and the charger in box is of 5 watts.. takes more than 3 hours to charge from 0 to 100.. so guys be prepare to buy 18 watts charger . Finally I am an android user, it was my first Iapple phone, I promise u guys the iOS is so smooth.. overall the phone is damn good.... close eyes to buy it.. thanks t...READ MORE',\n",
       " 'It’s been almost a month since I have been using this phone. I upgraded from an iPhone 8. The main issue with my 8 was battery and this phone is just awesome when it comes to battery. It lasts a day and a half for me with my regular use , internet connected always with 4gCan’t move forward without saying this. Battery of this phone is a life saver when I am traveling or at work when I don’t get the option to chargeCamera is superb. Front cam selfies and back cam photos are just awesome....READ MORE',\n",
       " 'Really worth of money. i just love it. It is the best phone ever.',\n",
       " 'The Best Phone for the MoneyThe iPhone 11 offers superb cameras, a more durable design and excellent battery life for an affordable price.Compelling ultra-wide cameraNew Night mode is excellentLong battery life',\n",
       " 'Really satisfied with the Product I received... It’s totally genuine and the packaging was also really good so if ur planning to buy just go for it.',\n",
       " 'Amazing phone with great cameras and better battery which gives you the best performance. I just love the camera .',\n",
       " 'Great iPhone very snappy experience as apple kind. Upgraded from iPhone 7.Pros-Camera top class- Battery top performed-Chipset no need to say as apple kind-Security as you expect from apple- Display super bright industry leading colouraccuracy and super responsive-Build quality as expect from apple sturdypremium durable beautiful stylish.-Os most stable os in smartphone industryCons-No 5G-Display is not based on OLED technology-Charger headphones and 1 apple stic...READ MORE',\n",
       " 'This is my first iOS phone. I am very happy with this product. Very much satisfied with this. I love this phone.',\n",
       " 'Previously I was using one plus 3t it was a great phoneAnd then I decided to upgrade I am stuck between Samsung s10 plus or iPhone 11I have seen the specs and everything were good except the display it’s somewhere between 720-1080 and it’s not even an amoled it’s an LCD displayBut I decided to go with iPhone because I have never used an IOS device I have Been an android user from the past 9 years I ordered IPhone 11 (128gb) product redMy experience after using 3 weeks1. The delivery ...READ MORE',\n",
       " 'Amazing Powerful and Durable Gadget.I’m am very happy with the camera picture quality, Amazing face id unlocked in dark room, Strong battery with perfect screen size as you can carry easily in pocket. This is my third iPhone.I shifted from android Samsung Note series to iPhone because of the strong build quality and peace of mind for next 3-4 years.Don’t think to much just go for it and I suggest you to go for minimum 128gb variant or more 256gb.I’ve attached my puppy pics and no fi...READ MORE',\n",
       " 'So far it’s been an AMAZING experience coming back to iOS after nearly a decade but it’s not as versatile as android though phone is sturdy dropped it accidentally a couple of times and nothing happened fortunately camera is awesome',\n",
       " 'i11 is worthy to buy, too much happy with the product. Thank u flipkart I received the item on time..loved it..',\n",
       " 'What a camera .....just awesome ..you can feel this iPhone just awesome . Good for gaming also ...try pubg in hd it’s just wow']"
      ]
     },
     "execution_count": 189,
     "metadata": {},
     "output_type": "execute_result"
    }
   ],
   "source": [
    "dreviewiphone = list(chain(dereview,dereview1,dereview2,dereview3,dereview4,dereview5,dereview6,dereview7,dereview8,dereview9))\n",
    "dreviewiphone"
   ]
  },
  {
   "cell_type": "code",
   "execution_count": 190,
   "metadata": {},
   "outputs": [
    {
     "data": {
      "text/html": [
       "<div>\n",
       "<style scoped>\n",
       "    .dataframe tbody tr th:only-of-type {\n",
       "        vertical-align: middle;\n",
       "    }\n",
       "\n",
       "    .dataframe tbody tr th {\n",
       "        vertical-align: top;\n",
       "    }\n",
       "\n",
       "    .dataframe thead th {\n",
       "        text-align: right;\n",
       "    }\n",
       "</style>\n",
       "<table border=\"1\" class=\"dataframe\">\n",
       "  <thead>\n",
       "    <tr style=\"text-align: right;\">\n",
       "      <th></th>\n",
       "      <th>Rating</th>\n",
       "      <th>Short Review</th>\n",
       "      <th>Detail Review</th>\n",
       "    </tr>\n",
       "  </thead>\n",
       "  <tbody>\n",
       "    <tr>\n",
       "      <th>0</th>\n",
       "      <td>5</td>\n",
       "      <td>Brilliant</td>\n",
       "      <td>The Best Phone for the MoneyThe iPhone 11 offe...</td>\n",
       "    </tr>\n",
       "    <tr>\n",
       "      <th>1</th>\n",
       "      <td>5</td>\n",
       "      <td>Simply awesome</td>\n",
       "      <td>Really satisfied with the Product I received.....</td>\n",
       "    </tr>\n",
       "    <tr>\n",
       "      <th>2</th>\n",
       "      <td>5</td>\n",
       "      <td>Perfect product!</td>\n",
       "      <td>Amazing phone with great cameras and better ba...</td>\n",
       "    </tr>\n",
       "    <tr>\n",
       "      <th>3</th>\n",
       "      <td>5</td>\n",
       "      <td>Best in the market!</td>\n",
       "      <td>Great iPhone very snappy experience as apple k...</td>\n",
       "    </tr>\n",
       "    <tr>\n",
       "      <th>4</th>\n",
       "      <td>5</td>\n",
       "      <td>Fabulous!</td>\n",
       "      <td>This is my first iOS phone. I am very happy wi...</td>\n",
       "    </tr>\n",
       "    <tr>\n",
       "      <th>...</th>\n",
       "      <td>...</td>\n",
       "      <td>...</td>\n",
       "      <td>...</td>\n",
       "    </tr>\n",
       "    <tr>\n",
       "      <th>95</th>\n",
       "      <td>5</td>\n",
       "      <td>Worth every penny</td>\n",
       "      <td>Previously I was using one plus 3t it was a gr...</td>\n",
       "    </tr>\n",
       "    <tr>\n",
       "      <th>96</th>\n",
       "      <td>5</td>\n",
       "      <td>Great product</td>\n",
       "      <td>Amazing Powerful and Durable Gadget.I’m am ver...</td>\n",
       "    </tr>\n",
       "    <tr>\n",
       "      <th>97</th>\n",
       "      <td>4</td>\n",
       "      <td>Good choice</td>\n",
       "      <td>So far it’s been an AMAZING experience coming ...</td>\n",
       "    </tr>\n",
       "    <tr>\n",
       "      <th>98</th>\n",
       "      <td>5</td>\n",
       "      <td>Worth every penny</td>\n",
       "      <td>i11 is worthy to buy, too much happy with the ...</td>\n",
       "    </tr>\n",
       "    <tr>\n",
       "      <th>99</th>\n",
       "      <td>5</td>\n",
       "      <td>Highly recommended</td>\n",
       "      <td>What a camera .....just awesome ..you can feel...</td>\n",
       "    </tr>\n",
       "  </tbody>\n",
       "</table>\n",
       "<p>100 rows × 3 columns</p>\n",
       "</div>"
      ],
      "text/plain": [
       "   Rating         Short Review  \\\n",
       "0       5            Brilliant   \n",
       "1       5       Simply awesome   \n",
       "2       5     Perfect product!   \n",
       "3       5  Best in the market!   \n",
       "4       5            Fabulous!   \n",
       "..    ...                  ...   \n",
       "95      5    Worth every penny   \n",
       "96      5        Great product   \n",
       "97      4          Good choice   \n",
       "98      5    Worth every penny   \n",
       "99      5   Highly recommended   \n",
       "\n",
       "                                        Detail Review  \n",
       "0   The Best Phone for the MoneyThe iPhone 11 offe...  \n",
       "1   Really satisfied with the Product I received.....  \n",
       "2   Amazing phone with great cameras and better ba...  \n",
       "3   Great iPhone very snappy experience as apple k...  \n",
       "4   This is my first iOS phone. I am very happy wi...  \n",
       "..                                                ...  \n",
       "95  Previously I was using one plus 3t it was a gr...  \n",
       "96  Amazing Powerful and Durable Gadget.I’m am ver...  \n",
       "97  So far it’s been an AMAZING experience coming ...  \n",
       "98  i11 is worthy to buy, too much happy with the ...  \n",
       "99  What a camera .....just awesome ..you can feel...  \n",
       "\n",
       "[100 rows x 3 columns]"
      ]
     },
     "execution_count": 190,
     "metadata": {},
     "output_type": "execute_result"
    }
   ],
   "source": [
    "# scraping all the data in dataframe \n",
    "iphone=pd.DataFrame(())\n",
    "\n",
    "iphone['Rating']=ratings\n",
    "iphone[' Short Review']=reviewiphone\n",
    "iphone['Detail Review']=dreviewiphone\n",
    "iphone"
   ]
  },
  {
   "cell_type": "markdown",
   "metadata": {},
   "source": [
    "# Q8: Scrape data for first 100 sneakers you find when you visit flipkart.com and search for “sneakers” in the search field."
   ]
  },
  {
   "cell_type": "code",
   "execution_count": 191,
   "metadata": {},
   "outputs": [],
   "source": [
    "url4=\"https://www.flipkart.com/\"\n",
    "driver.get(url4)"
   ]
  },
  {
   "cell_type": "code",
   "execution_count": 192,
   "metadata": {},
   "outputs": [
    {
     "data": {
      "text/plain": [
       "<selenium.webdriver.remote.webelement.WebElement (session=\"77d6894c2dfd9bbf738fe202c09cff54\", element=\"1026c25e-d21b-4c76-af00-551f80dfc5a7\")>"
      ]
     },
     "execution_count": 192,
     "metadata": {},
     "output_type": "execute_result"
    }
   ],
   "source": [
    "search=driver.find_element_by_xpath(\"//input[@class='_3704LK']\")\n",
    "search"
   ]
  },
  {
   "cell_type": "code",
   "execution_count": 193,
   "metadata": {},
   "outputs": [],
   "source": [
    "search.send_keys(\"Sneakers\")"
   ]
  },
  {
   "cell_type": "code",
   "execution_count": 194,
   "metadata": {},
   "outputs": [],
   "source": [
    "ser_btn1=driver.find_element_by_xpath(\"//button[@class='L0Z3Pu']\")\n",
    "ser_btn1.click()"
   ]
  },
  {
   "cell_type": "code",
   "execution_count": 195,
   "metadata": {},
   "outputs": [
    {
     "data": {
      "text/plain": [
       "['Chevit',\n",
       " 'AMICO',\n",
       " 'Chevit',\n",
       " 'World Wear Footwear',\n",
       " 'ASTEROID',\n",
       " 'Zsyto',\n",
       " 'BRUTON',\n",
       " 'Chevit',\n",
       " 'Robbie jones',\n",
       " 'Shoes Bank',\n",
       " 'BIRDE',\n",
       " 'Echor',\n",
       " 'believe',\n",
       " 'Numenzo',\n",
       " 'restinfoot',\n",
       " 'BRUTON',\n",
       " 'Kraasa',\n",
       " 'Creer',\n",
       " 'ASTEROID',\n",
       " 'Magnolia',\n",
       " 'SCATCHITE',\n",
       " 'flipy',\n",
       " 'Kreverse',\n",
       " 'BRUTON',\n",
       " 'RODDICK SHOES',\n",
       " 'PEHANOSA',\n",
       " 'KNIGHT WALKERS',\n",
       " 'Extoes',\n",
       " 'Numenzo',\n",
       " 'Kraasa',\n",
       " 'Longwalk',\n",
       " 'BRUTON',\n",
       " 'Numenzo',\n",
       " 'Arohi',\n",
       " 'World Wear Footwear',\n",
       " 'Echor',\n",
       " 'D-SNEAKERZ',\n",
       " 'bluemaker',\n",
       " 'Absolute comfort',\n",
       " 'Stinson']"
      ]
     },
     "execution_count": 195,
     "metadata": {},
     "output_type": "execute_result"
    }
   ],
   "source": [
    "# to extract the brand sneakers name\n",
    "Sbr=driver.find_elements_by_xpath(\"//div[@class='_2WkVRV']\")\n",
    "Sbr\n",
    "\n",
    "# becoz text do not work in text so we use loop so that the brand name can be extracted\n",
    "\n",
    "Sbrand=[]\n",
    "for i in Sbr:\n",
    "    Sbrand.append(i.text)\n",
    "Sbrand "
   ]
  },
  {
   "cell_type": "code",
   "execution_count": 196,
   "metadata": {},
   "outputs": [
    {
     "data": {
      "text/plain": [
       "['Speed Set of 5 Pairs Sneakers Outdoors Casuals for Men ...',\n",
       " 'Casual Sneakers White Shoes For Men And Boys Sneakers F...',\n",
       " 'Super Stylish & Trendy Combo Pack of 02 Pairs Sneakers ...',\n",
       " '5011-Latest Collection Stylish Casual Loafer Sneakers S...',\n",
       " \"Original Luxury Branded Fashionable Men's Casual Walkin...\",\n",
       " 'Combo Pack Of 4 Casual Shoes Loafer Shoes Sneakers For ...',\n",
       " 'Perfect Combo Pack of 02 Pairs Casual Sneakers Outdoor ...',\n",
       " 'Casual Sneakers Shoes For Men Sneakers For Men',\n",
       " \"White Sneaker For Men's/Boy's Sneakers For Men\",\n",
       " 'Birde Trendy Casual Shoes Sneakers For Men',\n",
       " 'Mens Walking Running Shoes - Lightweight Breathable Mes...',\n",
       " 'Sneakers for men(black_6) Sneakers For Men',\n",
       " 'Numenzo Black Sneaker For Men Sneakers For Men',\n",
       " \"Casual shoes,Sneakers for men's,shoes for men's Sneaker...\",\n",
       " 'Combo Pack Of 3 Latest Casual Shoes Sneakers For Men',\n",
       " 'Shark-41 Sneakers For Men',\n",
       " \"Original Luxury Branded Fashionable Men's Casual Walkin...\",\n",
       " 'White Sneakers Sneakers For Men',\n",
       " 'Sneakers Sneakers For Men',\n",
       " 'CASUAL Sneakers For Men',\n",
       " 'Sneakers For Men',\n",
       " 'Modern Trendy Combo Pack OF 2 Casual Shoes For Men Snea...',\n",
       " 'Fashion Outdoor Canvas Casual Light Weight Lace-up Even...',\n",
       " 'Sneakers For Men',\n",
       " 'Modern Trendy Shoes Combo pack of 4 Sneakers For Men',\n",
       " 'Sneakers For Men',\n",
       " 'Series 7 Sneakers For Men',\n",
       " 'Men Boxer Sneakers For Men',\n",
       " 'Combo Pack of 2 trendy Shoes for men Sneakers For Men',\n",
       " 'Sneakers For Men',\n",
       " 'Sneakers For Men',\n",
       " 'Men 5014 Latest Collection Stylish Casual Sports Loafer...',\n",
       " 'Sneakers For Men',\n",
       " \"Casual , Partywear Sneakers Shoes For Men's And Boys Wh...\",\n",
       " 'casual for men (beige 06) Sneakers For Men',\n",
       " 'Combo Pack Of 3 Sneakers For Men']"
      ]
     },
     "execution_count": 196,
     "metadata": {},
     "output_type": "execute_result"
    }
   ],
   "source": [
    "# to extract the  Sneaker description name\n",
    "Sdesc=driver.find_elements_by_xpath(\"//a[@class='IRpwTa']\")\n",
    "Sdesc\n",
    "\n",
    "# becoz text do not work in text so we use loop so that the Sneaker description name can be extracted\n",
    "\n",
    "Sdescription=[]\n",
    "for i in Sdesc:\n",
    "    Sdescription.append(i.text)\n",
    "Sdescription"
   ]
  },
  {
   "cell_type": "code",
   "execution_count": 197,
   "metadata": {},
   "outputs": [
    {
     "data": {
      "text/plain": [
       "['₹799',\n",
       " '₹445',\n",
       " '₹599',\n",
       " '₹240',\n",
       " '₹499',\n",
       " '₹398',\n",
       " '₹472',\n",
       " '₹799',\n",
       " '₹399',\n",
       " '₹349',\n",
       " '₹399',\n",
       " '₹429',\n",
       " '₹474',\n",
       " '₹449',\n",
       " '₹379',\n",
       " '₹555',\n",
       " '₹499',\n",
       " '₹398',\n",
       " '₹499',\n",
       " '₹348',\n",
       " '₹398',\n",
       " '₹429',\n",
       " '₹266',\n",
       " '₹561',\n",
       " '₹474',\n",
       " '₹369',\n",
       " '₹599',\n",
       " '₹789',\n",
       " '₹398',\n",
       " '₹499',\n",
       " '₹266',\n",
       " '₹473',\n",
       " '₹429',\n",
       " '₹460',\n",
       " '₹240',\n",
       " '₹569',\n",
       " '₹348',\n",
       " '₹474',\n",
       " '₹198',\n",
       " '₹494']"
      ]
     },
     "execution_count": 197,
     "metadata": {},
     "output_type": "execute_result"
    }
   ],
   "source": [
    "\n",
    "# to extract the  Sneaker price\n",
    "Spr=driver.find_elements_by_xpath(\"//div[@class='_30jeq3']\")\n",
    "Spr\n",
    "\n",
    "# becoz text do not work in text so we use loop so that the Sneaker price can be extracted\n",
    "\n",
    "Sprice=[]\n",
    "for i in Spr:\n",
    "    Sprice.append(i.text)\n",
    "Sprice"
   ]
  },
  {
   "cell_type": "code",
   "execution_count": 198,
   "metadata": {},
   "outputs": [
    {
     "data": {
      "text/plain": [
       "['67% off',\n",
       " '70% off',\n",
       " '62% off',\n",
       " '51% off',\n",
       " '75% off',\n",
       " '60% off',\n",
       " '88% off',\n",
       " '65% off',\n",
       " '60% off',\n",
       " '65% off',\n",
       " '20% off',\n",
       " '57% off',\n",
       " '52% off',\n",
       " '65% off',\n",
       " '62% off',\n",
       " '81% off',\n",
       " '50% off',\n",
       " '60% off',\n",
       " '50% off',\n",
       " '65% off',\n",
       " '60% off',\n",
       " '73% off',\n",
       " '73% off',\n",
       " '77% off',\n",
       " '52% off',\n",
       " '63% off',\n",
       " '60% off',\n",
       " '47% off',\n",
       " '60% off',\n",
       " '50% off',\n",
       " '46% off',\n",
       " '76% off',\n",
       " '66% off',\n",
       " '53% off',\n",
       " '51% off',\n",
       " '43% off',\n",
       " '47% off',\n",
       " '52% off',\n",
       " '60% off',\n",
       " '67% off']"
      ]
     },
     "execution_count": 198,
     "metadata": {},
     "output_type": "execute_result"
    }
   ],
   "source": [
    "# to extract the Sneaker discount\n",
    "Sdis=driver.find_elements_by_xpath(\"//div[@class='_3Ay6Sb']\")\n",
    "Sdis\n",
    "\n",
    "# becoz text do not work in text so we use loop so that the Sneaker price can be extracted\n",
    "\n",
    "Sdiscount=[]\n",
    "for i in Sdis:\n",
    "    Sdiscount.append(i.text)\n",
    "Sdiscount"
   ]
  },
  {
   "cell_type": "code",
   "execution_count": 199,
   "metadata": {},
   "outputs": [],
   "source": [
    "next1=driver.find_element_by_xpath(\"//a[@class='_1LKTO3']\")\n",
    "next1.click()"
   ]
  },
  {
   "cell_type": "code",
   "execution_count": 200,
   "metadata": {},
   "outputs": [
    {
     "data": {
      "text/plain": [
       "['bluemaker',\n",
       " 'Absolute comfort',\n",
       " 'Jumpink',\n",
       " 'hzisbo',\n",
       " 'RODDICK SHOES',\n",
       " 'BRUTON',\n",
       " 'RODDICK SHOES',\n",
       " 'BIRDE',\n",
       " 'Robbie jones',\n",
       " 'bluemaker',\n",
       " 'Zsyto',\n",
       " 'CHamps',\n",
       " 'WELDONE',\n",
       " 'Chevit',\n",
       " 'Axter',\n",
       " 'Echor',\n",
       " 'SPARX',\n",
       " 'SPARX',\n",
       " 'mannu',\n",
       " 'KWIK FIT',\n",
       " 'Zorth',\n",
       " 'bluemaker',\n",
       " 'SPARX',\n",
       " 'Echor',\n",
       " 'bluemaker',\n",
       " 'HOC',\n",
       " 'Magnolia',\n",
       " 'Absolutee shoes',\n",
       " 'BIRDE',\n",
       " 'PUMA',\n",
       " 'Zorth',\n",
       " 'Extoes',\n",
       " 'World Wear Footwear',\n",
       " 'BRUTON',\n",
       " 'Robbie jones',\n",
       " 'ESSENCE',\n",
       " 'SPARX',\n",
       " 'Robbie jones',\n",
       " 'Ktiz',\n",
       " 'Viraska']"
      ]
     },
     "execution_count": 200,
     "metadata": {},
     "output_type": "execute_result"
    }
   ],
   "source": [
    "# to extract the brand sneakers name 41-80\n",
    "Sbr1=driver.find_elements_by_xpath(\"//div[@class='_2WkVRV']\")\n",
    "Sbr1\n",
    "\n",
    "# becoz text do not work in text so we use loop so that the brand name can be extracted\n",
    "\n",
    "Sbrand1=[]\n",
    "for i in Sbr1:\n",
    "    Sbrand1.append(i.text)\n",
    "Sbrand1 "
   ]
  },
  {
   "cell_type": "code",
   "execution_count": 201,
   "metadata": {},
   "outputs": [
    {
     "data": {
      "text/plain": [
       "['casual for men (beige 06) Sneakers For Men',\n",
       " 'Fashion Outdoor Canvas Casual Light Weight Lace-up Even...',\n",
       " 'Fashion Outdoor Canvas Casual Light Weight Lace-up Even...',\n",
       " 'Combo Pack of 2 Casual Shoes Loafers Sneakers For Men',\n",
       " 'Sneakers For Men',\n",
       " 'casual for men (blue 10) Sneakers For Men',\n",
       " 'Fashion Sneakers For Men',\n",
       " 'Perfect & Affordable Combo Pack of 02 Pairs Sneakers Ou...',\n",
       " 'New Collection of Combo Pack of 2 Stylish Shoes Sneaker...',\n",
       " 'Sneakers For Men',\n",
       " 'Men White Sneakers Sneakers For Men',\n",
       " 'SM-175 Sneakers For Men',\n",
       " 'Luxury Fashionable Breathable Casual Sneakers Shoes For...',\n",
       " 'Sneakers For Men',\n",
       " 'Sneakers For Men',\n",
       " 'casual shoe for men Sneakers For Men',\n",
       " 'SM-322 Sneakers For Men',\n",
       " 'HAWK21 Sneakers For Men',\n",
       " 'casual for men Sneakers For Men',\n",
       " 'Luxury Fashionable Breathable Casual Sneakers Shoes For...',\n",
       " 'White Sneakers Sneakers For Men',\n",
       " 'Sneakers For Men',\n",
       " 'Combo Pack of 5 Casual Shoes Sneakers For Men',\n",
       " 'Backcourt Mid Cyber Week Sneakers For Men',\n",
       " 'New Fashion Outdoor Trendy Lightweight Casual,Canvas St...',\n",
       " 'Sneakers For Men',\n",
       " 'Latest Collection-1227 Stylish Casual Sports Sneakers F...',\n",
       " 'Modern Trendy Sneakers Shoes Sneakers For Men',\n",
       " 'Casual Sneakers White Shoes For Men Sneakers For Men',\n",
       " 'New Trendy Sneakers For Men',\n",
       " 'SM-162 Sneakers For Men',\n",
       " 'Sneakers For Men',\n",
       " \"White Sneaker For Men's/Boy's Sneakers For Men\"]"
      ]
     },
     "execution_count": 201,
     "metadata": {},
     "output_type": "execute_result"
    }
   ],
   "source": [
    "# to extract the  Sneaker description name 41-80\n",
    "Sdesc1=driver.find_elements_by_xpath(\"//a[@class='IRpwTa']\")\n",
    "Sdesc1\n",
    "\n",
    "# becoz text do not work in text so we use loop so that the Sneaker description name can be extracted\n",
    "\n",
    "Sdescription1=[]\n",
    "for i in Sdesc1:\n",
    "    Sdescription1.append(i.text)\n",
    "Sdescription1"
   ]
  },
  {
   "cell_type": "code",
   "execution_count": 202,
   "metadata": {},
   "outputs": [
    {
     "data": {
      "text/plain": [
       "['₹474',\n",
       " '₹198',\n",
       " '₹399',\n",
       " '₹449',\n",
       " '₹474',\n",
       " '₹242',\n",
       " '₹474',\n",
       " '₹398',\n",
       " '₹474',\n",
       " '₹474',\n",
       " '₹398',\n",
       " '₹974',\n",
       " '₹277',\n",
       " '₹498',\n",
       " '₹599',\n",
       " '₹449',\n",
       " '₹623',\n",
       " '₹799',\n",
       " '₹398',\n",
       " '₹399',\n",
       " '₹439',\n",
       " '₹474',\n",
       " '₹810',\n",
       " '₹569',\n",
       " '₹474',\n",
       " '₹398',\n",
       " '₹348',\n",
       " '₹492',\n",
       " '₹799',\n",
       " '₹3,316',\n",
       " '₹435',\n",
       " '₹498',\n",
       " '₹240',\n",
       " '₹319',\n",
       " '₹474',\n",
       " '₹449',\n",
       " '₹778',\n",
       " '₹499',\n",
       " '₹399',\n",
       " '₹649']"
      ]
     },
     "execution_count": 202,
     "metadata": {},
     "output_type": "execute_result"
    }
   ],
   "source": [
    "# to extract the  Sneaker price\n",
    "Spr1=driver.find_elements_by_xpath(\"//div[@class='_30jeq3']\")\n",
    "Spr1\n",
    "\n",
    "# becoz text do not work in text so we use loop so that the Sneaker price can be extracted\n",
    "\n",
    "Sprice1=[]\n",
    "for i in Spr1:\n",
    "    Sprice1.append(i.text)\n",
    "Sprice1"
   ]
  },
  {
   "cell_type": "code",
   "execution_count": 203,
   "metadata": {},
   "outputs": [
    {
     "data": {
      "text/plain": [
       "['52% off',\n",
       " '60% off',\n",
       " '60% off',\n",
       " '55% off',\n",
       " '52% off',\n",
       " '59% off',\n",
       " '52% off',\n",
       " '60% off',\n",
       " '52% off',\n",
       " '52% off',\n",
       " '69% off',\n",
       " '25% off',\n",
       " '44% off',\n",
       " '72% off',\n",
       " '39% off',\n",
       " '55% off',\n",
       " '16% off',\n",
       " '11% off',\n",
       " '60% off',\n",
       " '86% off',\n",
       " '56% off',\n",
       " '52% off',\n",
       " '18% off',\n",
       " '43% off',\n",
       " '52% off',\n",
       " '80% off',\n",
       " '65% off',\n",
       " '50% off',\n",
       " '68% off',\n",
       " '52% off',\n",
       " '56% off',\n",
       " '65% off',\n",
       " '51% off',\n",
       " '75% off',\n",
       " '52% off',\n",
       " '55% off',\n",
       " '18% off',\n",
       " '50% off',\n",
       " '60% off',\n",
       " '56% off']"
      ]
     },
     "execution_count": 203,
     "metadata": {},
     "output_type": "execute_result"
    }
   ],
   "source": [
    "# to extract the Sneaker discount 41-80\n",
    "Sdis1=driver.find_elements_by_xpath(\"//div[@class='_3Ay6Sb']\")\n",
    "Sdis1\n",
    "\n",
    "# becoz text do not work in text so we use loop so that the Sneaker price can be extracted\n",
    "\n",
    "Sdiscount1=[]\n",
    "for i in Sdis1:\n",
    "    Sdiscount1.append(i.text)\n",
    "Sdiscount1"
   ]
  },
  {
   "cell_type": "code",
   "execution_count": 204,
   "metadata": {},
   "outputs": [],
   "source": [
    "next1=driver.find_element_by_xpath(\"//a[@class='_1LKTO3']\")\n",
    "next1.click()"
   ]
  },
  {
   "cell_type": "code",
   "execution_count": 205,
   "metadata": {},
   "outputs": [
    {
     "data": {
      "text/plain": [
       "['Chevit',\n",
       " 'AMICO',\n",
       " 'Chevit',\n",
       " 'ASTEROID',\n",
       " 'World Wear Footwear',\n",
       " 'Zsyto',\n",
       " 'BRUTON',\n",
       " 'Chevit',\n",
       " 'Robbie jones',\n",
       " 'Shoes Bank',\n",
       " 'BIRDE',\n",
       " 'Echor',\n",
       " 'believe',\n",
       " 'Numenzo',\n",
       " 'Kraasa',\n",
       " 'BRUTON',\n",
       " 'Magnolia',\n",
       " 'Numenzo',\n",
       " 'Creer',\n",
       " 'Magnolia',\n",
       " 'ASTEROID',\n",
       " 'restinfoot',\n",
       " 'SCATCHITE',\n",
       " 'BRUTON',\n",
       " 'flipy',\n",
       " 'RODDICK SHOES',\n",
       " 'Kreverse',\n",
       " 'Extoes',\n",
       " 'PEHANOSA',\n",
       " 'KNIGHT WALKERS',\n",
       " 'Numenzo',\n",
       " 'BRUTON',\n",
       " 'Kraasa',\n",
       " 'Longwalk',\n",
       " 'Arohi',\n",
       " 'Echor',\n",
       " 'Numenzo',\n",
       " 'World Wear Footwear',\n",
       " 'D-SNEAKERZ',\n",
       " 'Stinson']"
      ]
     },
     "execution_count": 205,
     "metadata": {},
     "output_type": "execute_result"
    }
   ],
   "source": [
    "# to extract the brand sneakers name 81-120\n",
    "Sbr2=driver.find_elements_by_xpath(\"//div[@class='_2WkVRV']\")\n",
    "Sbr2\n",
    "\n",
    "# becoz text do not work in text so we use loop so that the brand name can be extracted\n",
    "\n",
    "Sbrand2=[]\n",
    "for i in Sbr2:\n",
    "    Sbrand2.append(i.text)\n",
    "Sbrand2"
   ]
  },
  {
   "cell_type": "code",
   "execution_count": 206,
   "metadata": {},
   "outputs": [
    {
     "data": {
      "text/plain": [
       "['₹799',\n",
       " '₹445',\n",
       " '₹599',\n",
       " '₹499',\n",
       " '₹240',\n",
       " '₹398',\n",
       " '₹472',\n",
       " '₹799',\n",
       " '₹399',\n",
       " '₹349',\n",
       " '₹399',\n",
       " '₹429',\n",
       " '₹474',\n",
       " '₹449',\n",
       " '₹499',\n",
       " '₹555',\n",
       " '₹398',\n",
       " '₹449',\n",
       " '₹398',\n",
       " '₹348',\n",
       " '₹499',\n",
       " '₹350',\n",
       " '₹398',\n",
       " '₹561',\n",
       " '₹429',\n",
       " '₹474',\n",
       " '₹266',\n",
       " '₹789',\n",
       " '₹369',\n",
       " '₹599',\n",
       " '₹398',\n",
       " '₹473',\n",
       " '₹499',\n",
       " '₹266',\n",
       " '₹460',\n",
       " '₹569',\n",
       " '₹429',\n",
       " '₹240',\n",
       " '₹348',\n",
       " '₹494']"
      ]
     },
     "execution_count": 206,
     "metadata": {},
     "output_type": "execute_result"
    }
   ],
   "source": [
    "# to extract the  Sneaker price 81-120\n",
    "Spr2=driver.find_elements_by_xpath(\"//div[@class='_30jeq3']\")\n",
    "Spr2\n",
    "\n",
    "# becoz text do not work in text so we use loop so that the Sneaker price can be extracted\n",
    "\n",
    "Sprice2=[]\n",
    "for i in Spr2:\n",
    "    Sprice2.append(i.text)\n",
    "Sprice2"
   ]
  },
  {
   "cell_type": "code",
   "execution_count": 207,
   "metadata": {},
   "outputs": [
    {
     "data": {
      "text/plain": [
       "['Speed Set of 5 Pairs Sneakers Outdoors Casuals for Men ...',\n",
       " 'Casual Sneakers White Shoes For Men And Boys Sneakers F...',\n",
       " 'Super Stylish & Trendy Combo Pack of 02 Pairs Sneakers ...',\n",
       " \"Original Luxury Branded Fashionable Men's Casual Walkin...\",\n",
       " '5011-Latest Collection Stylish Casual Loafer Sneakers S...',\n",
       " 'Combo Pack Of 4 Casual Shoes Loafer Shoes Sneakers For ...',\n",
       " 'Perfect Combo Pack of 02 Pairs Casual Sneakers Outdoor ...',\n",
       " 'Casual Sneakers Shoes For Men Sneakers For Men',\n",
       " \"White Sneaker For Men's/Boy's Sneakers For Men\",\n",
       " 'Birde Trendy Casual Shoes Sneakers For Men',\n",
       " 'Mens Walking Running Shoes - Lightweight Breathable Mes...',\n",
       " 'Sneakers for men(black_6) Sneakers For Men',\n",
       " 'Numenzo Black Sneaker For Men Sneakers For Men',\n",
       " 'Shark-41 Sneakers For Men',\n",
       " 'Combo Pack Of 3 Latest Casual Shoes Sneakers For Men',\n",
       " 'Sneakers For Men',\n",
       " '411 Casual Sneakers For Men',\n",
       " 'White Sneakers Sneakers For Men',\n",
       " \"Original Luxury Branded Fashionable Men's Casual Walkin...\",\n",
       " 'Casual shoes Sneakers For Men',\n",
       " 'Sneakers Sneakers For Men',\n",
       " 'Modern Trendy Combo Pack OF 2 Casual Shoes For Men Snea...',\n",
       " 'CASUAL Sneakers For Men',\n",
       " 'Fashion Outdoor Canvas Casual Light Weight Lace-up Even...',\n",
       " 'Sneakers For Men',\n",
       " 'Modern Trendy Shoes Combo pack of 4 Sneakers For Men',\n",
       " 'Sneakers For Men',\n",
       " 'Sneakers For Men',\n",
       " 'Combo Pack of 2 trendy Shoes for men Sneakers For Men',\n",
       " 'Series 7 Sneakers For Men',\n",
       " 'Men Boxer Sneakers For Men',\n",
       " 'Sneakers For Men',\n",
       " 'Sneakers For Men',\n",
       " 'Sneakers For Men',\n",
       " 'Men 5014 Latest Collection Stylish Casual Sports Loafer...',\n",
       " \"Casual , Partywear Sneakers Shoes For Men's And Boys Wh...\",\n",
       " 'Combo Pack Of 3 Sneakers For Men']"
      ]
     },
     "execution_count": 207,
     "metadata": {},
     "output_type": "execute_result"
    }
   ],
   "source": [
    "# to extract the  Sneaker description name 81-120\n",
    "Sdesc2=driver.find_elements_by_xpath(\"//a[@class='IRpwTa']\")\n",
    "Sdesc2\n",
    "\n",
    "# becoz text do not work in text so we use loop so that the Sneaker description name can be extracted\n",
    "\n",
    "Sdescription2=[]\n",
    "for i in Sdesc2:\n",
    "    Sdescription2.append(i.text)\n",
    "Sdescription2"
   ]
  },
  {
   "cell_type": "code",
   "execution_count": 208,
   "metadata": {},
   "outputs": [
    {
     "data": {
      "text/plain": [
       "['67% off',\n",
       " '70% off',\n",
       " '62% off',\n",
       " '75% off',\n",
       " '51% off',\n",
       " '60% off',\n",
       " '88% off',\n",
       " '65% off',\n",
       " '60% off',\n",
       " '65% off',\n",
       " '20% off',\n",
       " '57% off',\n",
       " '52% off',\n",
       " '65% off',\n",
       " '50% off',\n",
       " '81% off',\n",
       " '60% off',\n",
       " '77% off',\n",
       " '60% off',\n",
       " '65% off',\n",
       " '50% off',\n",
       " '64% off',\n",
       " '60% off',\n",
       " '77% off',\n",
       " '73% off',\n",
       " '52% off',\n",
       " '73% off',\n",
       " '47% off',\n",
       " '63% off',\n",
       " '60% off',\n",
       " '60% off',\n",
       " '76% off',\n",
       " '50% off',\n",
       " '46% off',\n",
       " '53% off',\n",
       " '43% off',\n",
       " '66% off',\n",
       " '51% off',\n",
       " '47% off',\n",
       " '67% off']"
      ]
     },
     "execution_count": 208,
     "metadata": {},
     "output_type": "execute_result"
    }
   ],
   "source": [
    "# to extract the Sneaker discount 81-120\n",
    "Sdis2=driver.find_elements_by_xpath(\"//div[@class='_3Ay6Sb']\")\n",
    "Sdis2\n",
    "\n",
    "# becoz text do not work in text so we use loop so that the Sneaker price can be extracted\n",
    "\n",
    "Sdiscount2=[]\n",
    "for i in Sdis2:\n",
    "    Sdiscount2.append(i.text)\n",
    "Sdiscount2"
   ]
  },
  {
   "cell_type": "code",
   "execution_count": 209,
   "metadata": {},
   "outputs": [
    {
     "data": {
      "text/plain": [
       "['₹799',\n",
       " '₹445',\n",
       " '₹599',\n",
       " '₹240',\n",
       " '₹499',\n",
       " '₹398',\n",
       " '₹472',\n",
       " '₹799',\n",
       " '₹399',\n",
       " '₹349',\n",
       " '₹399',\n",
       " '₹429',\n",
       " '₹474',\n",
       " '₹449',\n",
       " '₹379',\n",
       " '₹555',\n",
       " '₹499',\n",
       " '₹398',\n",
       " '₹499',\n",
       " '₹348',\n",
       " '₹398',\n",
       " '₹429',\n",
       " '₹266',\n",
       " '₹561',\n",
       " '₹474',\n",
       " '₹369',\n",
       " '₹599',\n",
       " '₹789',\n",
       " '₹398',\n",
       " '₹499',\n",
       " '₹266',\n",
       " '₹473',\n",
       " '₹429',\n",
       " '₹460',\n",
       " '₹240',\n",
       " '₹569',\n",
       " '₹348',\n",
       " '₹474',\n",
       " '₹198',\n",
       " '₹494',\n",
       " '₹474',\n",
       " '₹198',\n",
       " '₹399',\n",
       " '₹449',\n",
       " '₹474',\n",
       " '₹242',\n",
       " '₹474',\n",
       " '₹398',\n",
       " '₹474',\n",
       " '₹474',\n",
       " '₹398',\n",
       " '₹974',\n",
       " '₹277',\n",
       " '₹498',\n",
       " '₹599',\n",
       " '₹449',\n",
       " '₹623',\n",
       " '₹799',\n",
       " '₹398',\n",
       " '₹399',\n",
       " '₹439',\n",
       " '₹474',\n",
       " '₹810',\n",
       " '₹569',\n",
       " '₹474',\n",
       " '₹398',\n",
       " '₹348',\n",
       " '₹492',\n",
       " '₹799',\n",
       " '₹3,316',\n",
       " '₹435',\n",
       " '₹498',\n",
       " '₹240',\n",
       " '₹319',\n",
       " '₹474',\n",
       " '₹449',\n",
       " '₹778',\n",
       " '₹499',\n",
       " '₹399',\n",
       " '₹649',\n",
       " '₹799',\n",
       " '₹445',\n",
       " '₹599',\n",
       " '₹499',\n",
       " '₹240',\n",
       " '₹398',\n",
       " '₹472',\n",
       " '₹799',\n",
       " '₹399',\n",
       " '₹349',\n",
       " '₹399',\n",
       " '₹429',\n",
       " '₹474',\n",
       " '₹449',\n",
       " '₹499',\n",
       " '₹555',\n",
       " '₹398',\n",
       " '₹449',\n",
       " '₹398',\n",
       " '₹348',\n",
       " '₹499',\n",
       " '₹350',\n",
       " '₹398',\n",
       " '₹561',\n",
       " '₹429',\n",
       " '₹474',\n",
       " '₹266',\n",
       " '₹789',\n",
       " '₹369',\n",
       " '₹599',\n",
       " '₹398',\n",
       " '₹473',\n",
       " '₹499',\n",
       " '₹266',\n",
       " '₹460',\n",
       " '₹569',\n",
       " '₹429',\n",
       " '₹240',\n",
       " '₹348',\n",
       " '₹494']"
      ]
     },
     "execution_count": 209,
     "metadata": {},
     "output_type": "execute_result"
    }
   ],
   "source": [
    "priceSnea = list(chain(Sprice,Sprice1 ,Sprice2))\n",
    "priceSnea"
   ]
  },
  {
   "cell_type": "code",
   "execution_count": 210,
   "metadata": {},
   "outputs": [
    {
     "data": {
      "text/plain": [
       "106"
      ]
     },
     "execution_count": 210,
     "metadata": {},
     "output_type": "execute_result"
    }
   ],
   "source": [
    "descriptionSnea = list(chain(Sdescription,Sdescription1,Sdescription2))\n",
    "len(descriptionSnea)"
   ]
  },
  {
   "cell_type": "code",
   "execution_count": 211,
   "metadata": {},
   "outputs": [
    {
     "data": {
      "text/plain": [
       "['Chevit',\n",
       " 'AMICO',\n",
       " 'Chevit',\n",
       " 'World Wear Footwear',\n",
       " 'ASTEROID',\n",
       " 'Zsyto',\n",
       " 'BRUTON',\n",
       " 'Chevit',\n",
       " 'Robbie jones',\n",
       " 'Shoes Bank',\n",
       " 'BIRDE',\n",
       " 'Echor',\n",
       " 'believe',\n",
       " 'Numenzo',\n",
       " 'restinfoot',\n",
       " 'BRUTON',\n",
       " 'Kraasa',\n",
       " 'Creer',\n",
       " 'ASTEROID',\n",
       " 'Magnolia',\n",
       " 'SCATCHITE',\n",
       " 'flipy',\n",
       " 'Kreverse',\n",
       " 'BRUTON',\n",
       " 'RODDICK SHOES',\n",
       " 'PEHANOSA',\n",
       " 'KNIGHT WALKERS',\n",
       " 'Extoes',\n",
       " 'Numenzo',\n",
       " 'Kraasa',\n",
       " 'Longwalk',\n",
       " 'BRUTON',\n",
       " 'Numenzo',\n",
       " 'Arohi',\n",
       " 'World Wear Footwear',\n",
       " 'Echor',\n",
       " 'D-SNEAKERZ',\n",
       " 'bluemaker',\n",
       " 'Absolute comfort',\n",
       " 'Stinson',\n",
       " 'bluemaker',\n",
       " 'Absolute comfort',\n",
       " 'Jumpink',\n",
       " 'hzisbo',\n",
       " 'RODDICK SHOES',\n",
       " 'BRUTON',\n",
       " 'RODDICK SHOES',\n",
       " 'BIRDE',\n",
       " 'Robbie jones',\n",
       " 'bluemaker',\n",
       " 'Zsyto',\n",
       " 'CHamps',\n",
       " 'WELDONE',\n",
       " 'Chevit',\n",
       " 'Axter',\n",
       " 'Echor',\n",
       " 'SPARX',\n",
       " 'SPARX',\n",
       " 'mannu',\n",
       " 'KWIK FIT',\n",
       " 'Zorth',\n",
       " 'bluemaker',\n",
       " 'SPARX',\n",
       " 'Echor',\n",
       " 'bluemaker',\n",
       " 'HOC',\n",
       " 'Magnolia',\n",
       " 'Absolutee shoes',\n",
       " 'BIRDE',\n",
       " 'PUMA',\n",
       " 'Zorth',\n",
       " 'Extoes',\n",
       " 'World Wear Footwear',\n",
       " 'BRUTON',\n",
       " 'Robbie jones',\n",
       " 'ESSENCE',\n",
       " 'SPARX',\n",
       " 'Robbie jones',\n",
       " 'Ktiz',\n",
       " 'Viraska',\n",
       " 'Chevit',\n",
       " 'AMICO',\n",
       " 'Chevit',\n",
       " 'ASTEROID',\n",
       " 'World Wear Footwear',\n",
       " 'Zsyto',\n",
       " 'BRUTON',\n",
       " 'Chevit',\n",
       " 'Robbie jones',\n",
       " 'Shoes Bank',\n",
       " 'BIRDE',\n",
       " 'Echor',\n",
       " 'believe',\n",
       " 'Numenzo',\n",
       " 'Kraasa',\n",
       " 'BRUTON',\n",
       " 'Magnolia',\n",
       " 'Numenzo',\n",
       " 'Creer',\n",
       " 'Magnolia',\n",
       " 'ASTEROID',\n",
       " 'restinfoot',\n",
       " 'SCATCHITE',\n",
       " 'BRUTON',\n",
       " 'flipy',\n",
       " 'RODDICK SHOES',\n",
       " 'Kreverse',\n",
       " 'Extoes',\n",
       " 'PEHANOSA',\n",
       " 'KNIGHT WALKERS',\n",
       " 'Numenzo',\n",
       " 'BRUTON',\n",
       " 'Kraasa',\n",
       " 'Longwalk',\n",
       " 'Arohi',\n",
       " 'Echor',\n",
       " 'Numenzo',\n",
       " 'World Wear Footwear',\n",
       " 'D-SNEAKERZ',\n",
       " 'Stinson']"
      ]
     },
     "execution_count": 211,
     "metadata": {},
     "output_type": "execute_result"
    }
   ],
   "source": [
    "brandSnea = list(chain(Sbrand,Sbrand1,Sbrand2))\n",
    "brandSnea"
   ]
  },
  {
   "cell_type": "code",
   "execution_count": 212,
   "metadata": {},
   "outputs": [
    {
     "data": {
      "text/plain": [
       "['67% off',\n",
       " '70% off',\n",
       " '62% off',\n",
       " '51% off',\n",
       " '75% off',\n",
       " '60% off',\n",
       " '88% off',\n",
       " '65% off',\n",
       " '60% off',\n",
       " '65% off',\n",
       " '20% off',\n",
       " '57% off',\n",
       " '52% off',\n",
       " '65% off',\n",
       " '62% off',\n",
       " '81% off',\n",
       " '50% off',\n",
       " '60% off',\n",
       " '50% off',\n",
       " '65% off',\n",
       " '60% off',\n",
       " '73% off',\n",
       " '73% off',\n",
       " '77% off',\n",
       " '52% off',\n",
       " '63% off',\n",
       " '60% off',\n",
       " '47% off',\n",
       " '60% off',\n",
       " '50% off',\n",
       " '46% off',\n",
       " '76% off',\n",
       " '66% off',\n",
       " '53% off',\n",
       " '51% off',\n",
       " '43% off',\n",
       " '47% off',\n",
       " '52% off',\n",
       " '60% off',\n",
       " '67% off',\n",
       " '52% off',\n",
       " '60% off',\n",
       " '60% off',\n",
       " '55% off',\n",
       " '52% off',\n",
       " '59% off',\n",
       " '52% off',\n",
       " '60% off',\n",
       " '52% off',\n",
       " '52% off',\n",
       " '69% off',\n",
       " '25% off',\n",
       " '44% off',\n",
       " '72% off',\n",
       " '39% off',\n",
       " '55% off',\n",
       " '16% off',\n",
       " '11% off',\n",
       " '60% off',\n",
       " '86% off',\n",
       " '56% off',\n",
       " '52% off',\n",
       " '18% off',\n",
       " '43% off',\n",
       " '52% off',\n",
       " '80% off',\n",
       " '65% off',\n",
       " '50% off',\n",
       " '68% off',\n",
       " '52% off',\n",
       " '56% off',\n",
       " '65% off',\n",
       " '51% off',\n",
       " '75% off',\n",
       " '52% off',\n",
       " '55% off',\n",
       " '18% off',\n",
       " '50% off',\n",
       " '60% off',\n",
       " '56% off',\n",
       " '67% off',\n",
       " '70% off',\n",
       " '62% off',\n",
       " '75% off',\n",
       " '51% off',\n",
       " '60% off',\n",
       " '88% off',\n",
       " '65% off',\n",
       " '60% off',\n",
       " '65% off',\n",
       " '20% off',\n",
       " '57% off',\n",
       " '52% off',\n",
       " '65% off',\n",
       " '50% off',\n",
       " '81% off',\n",
       " '60% off',\n",
       " '77% off',\n",
       " '60% off',\n",
       " '65% off',\n",
       " '50% off',\n",
       " '64% off',\n",
       " '60% off',\n",
       " '77% off',\n",
       " '73% off',\n",
       " '52% off',\n",
       " '73% off',\n",
       " '47% off',\n",
       " '63% off',\n",
       " '60% off',\n",
       " '60% off',\n",
       " '76% off',\n",
       " '50% off',\n",
       " '46% off',\n",
       " '53% off',\n",
       " '43% off',\n",
       " '66% off',\n",
       " '51% off',\n",
       " '47% off',\n",
       " '67% off']"
      ]
     },
     "execution_count": 212,
     "metadata": {},
     "output_type": "execute_result"
    }
   ],
   "source": [
    "discountSnea = list(chain(Sdiscount,Sdiscount1,Sdiscount2))\n",
    "discountSnea"
   ]
  },
  {
   "cell_type": "code",
   "execution_count": 213,
   "metadata": {},
   "outputs": [
    {
     "data": {
      "text/html": [
       "<div>\n",
       "<style scoped>\n",
       "    .dataframe tbody tr th:only-of-type {\n",
       "        vertical-align: middle;\n",
       "    }\n",
       "\n",
       "    .dataframe tbody tr th {\n",
       "        vertical-align: top;\n",
       "    }\n",
       "\n",
       "    .dataframe thead th {\n",
       "        text-align: right;\n",
       "    }\n",
       "</style>\n",
       "<table border=\"1\" class=\"dataframe\">\n",
       "  <thead>\n",
       "    <tr style=\"text-align: right;\">\n",
       "      <th></th>\n",
       "      <th>Brand</th>\n",
       "      <th>Product Detail</th>\n",
       "      <th>Price</th>\n",
       "      <th>Discount</th>\n",
       "    </tr>\n",
       "  </thead>\n",
       "  <tbody>\n",
       "    <tr>\n",
       "      <th>0</th>\n",
       "      <td>Chevit</td>\n",
       "      <td>Speed Set of 5 Pairs Sneakers Outdoors Casuals...</td>\n",
       "      <td>₹799</td>\n",
       "      <td>67% off</td>\n",
       "    </tr>\n",
       "    <tr>\n",
       "      <th>1</th>\n",
       "      <td>AMICO</td>\n",
       "      <td>Casual Sneakers White Shoes For Men And Boys S...</td>\n",
       "      <td>₹445</td>\n",
       "      <td>70% off</td>\n",
       "    </tr>\n",
       "    <tr>\n",
       "      <th>2</th>\n",
       "      <td>Chevit</td>\n",
       "      <td>Super Stylish &amp; Trendy Combo Pack of 02 Pairs ...</td>\n",
       "      <td>₹599</td>\n",
       "      <td>62% off</td>\n",
       "    </tr>\n",
       "    <tr>\n",
       "      <th>3</th>\n",
       "      <td>World Wear Footwear</td>\n",
       "      <td>5011-Latest Collection Stylish Casual Loafer S...</td>\n",
       "      <td>₹240</td>\n",
       "      <td>51% off</td>\n",
       "    </tr>\n",
       "    <tr>\n",
       "      <th>4</th>\n",
       "      <td>ASTEROID</td>\n",
       "      <td>Original Luxury Branded Fashionable Men's Casu...</td>\n",
       "      <td>₹499</td>\n",
       "      <td>75% off</td>\n",
       "    </tr>\n",
       "    <tr>\n",
       "      <th>...</th>\n",
       "      <td>...</td>\n",
       "      <td>...</td>\n",
       "      <td>...</td>\n",
       "      <td>...</td>\n",
       "    </tr>\n",
       "    <tr>\n",
       "      <th>95</th>\n",
       "      <td>BRUTON</td>\n",
       "      <td>Sneakers For Men</td>\n",
       "      <td>₹555</td>\n",
       "      <td>81% off</td>\n",
       "    </tr>\n",
       "    <tr>\n",
       "      <th>96</th>\n",
       "      <td>Magnolia</td>\n",
       "      <td>Sneakers For Men</td>\n",
       "      <td>₹398</td>\n",
       "      <td>60% off</td>\n",
       "    </tr>\n",
       "    <tr>\n",
       "      <th>97</th>\n",
       "      <td>Numenzo</td>\n",
       "      <td>Combo Pack of 2 trendy Shoes for men Sneakers ...</td>\n",
       "      <td>₹449</td>\n",
       "      <td>77% off</td>\n",
       "    </tr>\n",
       "    <tr>\n",
       "      <th>98</th>\n",
       "      <td>Creer</td>\n",
       "      <td>Series 7 Sneakers For Men</td>\n",
       "      <td>₹398</td>\n",
       "      <td>60% off</td>\n",
       "    </tr>\n",
       "    <tr>\n",
       "      <th>99</th>\n",
       "      <td>Magnolia</td>\n",
       "      <td>Men Boxer Sneakers For Men</td>\n",
       "      <td>₹348</td>\n",
       "      <td>65% off</td>\n",
       "    </tr>\n",
       "  </tbody>\n",
       "</table>\n",
       "<p>100 rows × 4 columns</p>\n",
       "</div>"
      ],
      "text/plain": [
       "                  Brand                                     Product Detail  \\\n",
       "0                Chevit  Speed Set of 5 Pairs Sneakers Outdoors Casuals...   \n",
       "1                 AMICO  Casual Sneakers White Shoes For Men And Boys S...   \n",
       "2                Chevit  Super Stylish & Trendy Combo Pack of 02 Pairs ...   \n",
       "3   World Wear Footwear  5011-Latest Collection Stylish Casual Loafer S...   \n",
       "4              ASTEROID  Original Luxury Branded Fashionable Men's Casu...   \n",
       "..                  ...                                                ...   \n",
       "95               BRUTON                                   Sneakers For Men   \n",
       "96             Magnolia                                   Sneakers For Men   \n",
       "97              Numenzo  Combo Pack of 2 trendy Shoes for men Sneakers ...   \n",
       "98                Creer                          Series 7 Sneakers For Men   \n",
       "99             Magnolia                         Men Boxer Sneakers For Men   \n",
       "\n",
       "   Price Discount  \n",
       "0   ₹799  67% off  \n",
       "1   ₹445  70% off  \n",
       "2   ₹599  62% off  \n",
       "3   ₹240  51% off  \n",
       "4   ₹499  75% off  \n",
       "..   ...      ...  \n",
       "95  ₹555  81% off  \n",
       "96  ₹398  60% off  \n",
       "97  ₹449  77% off  \n",
       "98  ₹398  60% off  \n",
       "99  ₹348  65% off  \n",
       "\n",
       "[100 rows x 4 columns]"
      ]
     },
     "execution_count": 213,
     "metadata": {},
     "output_type": "execute_result"
    }
   ],
   "source": [
    "# scraping all the data in dataframe \n",
    "sneaker=pd.DataFrame(())\n",
    "\n",
    "sneaker['Brand']=brandSnea[0:100]\n",
    "sneaker['Product Detail']=descriptionSnea[0:100]\n",
    "sneaker['Price']=priceSnea[0:100]\n",
    "sneaker['Discount']=discountSnea[0:100]\n",
    "sneaker"
   ]
  },
  {
   "cell_type": "markdown",
   "metadata": {},
   "source": [
    "# Question 9"
   ]
  },
  {
   "cell_type": "code",
   "execution_count": 214,
   "metadata": {},
   "outputs": [],
   "source": [
    "url4=\"https://www.myntra.com/shoes\"\n",
    "\n",
    "driver.get(url4)"
   ]
  },
  {
   "cell_type": "code",
   "execution_count": 215,
   "metadata": {},
   "outputs": [
    {
     "data": {
      "text/plain": [
       "['HIGHLANDER',\n",
       " 'Red Tape',\n",
       " 'U.S. Polo Assn.',\n",
       " 'Newfeel By Decathlon',\n",
       " 'Nike',\n",
       " 'H&M',\n",
       " 'Alishtezia',\n",
       " 'Eego Italy',\n",
       " 'TWIN TOES',\n",
       " 'Puma',\n",
       " 'Red Tape',\n",
       " 'Red Tape',\n",
       " 'Woakers',\n",
       " 'Nike',\n",
       " 'H&M',\n",
       " 'HRX by Hrithik Roshan',\n",
       " 'Puma',\n",
       " 'H&M',\n",
       " 'El Paso',\n",
       " 'Sparx',\n",
       " 'ADIDAS',\n",
       " 'Gibelle',\n",
       " 'Puma',\n",
       " 'ADIDAS',\n",
       " 'Nike',\n",
       " 'TRASE',\n",
       " 'Provogue',\n",
       " 'Roadster',\n",
       " 'ADIDAS',\n",
       " 'Provogue',\n",
       " 'HRX by Hrithik Roshan',\n",
       " 'ADIDAS',\n",
       " 'Sparx',\n",
       " 'DressBerry',\n",
       " 'Nike',\n",
       " 'Puma',\n",
       " 'Red Tape',\n",
       " 'MENGLER',\n",
       " 'U.S. Polo Assn.',\n",
       " 'FURO by Red Chief',\n",
       " 'Bond Street By Red Tape',\n",
       " 'ZAPATOZ',\n",
       " 'SUBEA By Decathlon',\n",
       " 'Red Tape',\n",
       " 'TWIN TOES',\n",
       " 'one8 x PUMA',\n",
       " 'Puma',\n",
       " 'ADIDAS',\n",
       " 'Bella Toes',\n",
       " 'Catwalk']"
      ]
     },
     "execution_count": 215,
     "metadata": {},
     "output_type": "execute_result"
    }
   ],
   "source": [
    "# to extract the brand sneakers name\n",
    "Myntra_br=driver.find_elements_by_xpath(\"//h3[@class='product-brand']\")\n",
    "Myntra_br\n",
    "\n",
    "# becoz text do not work in text so we use loop so that the brand name can be extracted\n",
    "\n",
    "Myntra_brand=[]\n",
    "for i in Myntra_br:\n",
    "    Myntra_brand.append(i.text)\n",
    "Myntra_brand "
   ]
  },
  {
   "cell_type": "code",
   "execution_count": 216,
   "metadata": {},
   "outputs": [
    {
     "data": {
      "text/plain": [
       "['Rs. 895Rs. 1990(55% OFF)',\n",
       " 'Rs. 1469Rs. 4899(70% OFF)',\n",
       " 'Rs. 1979Rs. 3599(45% OFF)',\n",
       " 'Rs. 899',\n",
       " 'Rs. 5995',\n",
       " 'Rs. 649Rs. 1299(50% OFF)',\n",
       " 'Rs. 799Rs. 1599(50% OFF)',\n",
       " 'Rs. 899Rs. 2599(Rs. 1700 OFF)',\n",
       " 'Rs. 799Rs. 999(Rs. 200 OFF)',\n",
       " 'Rs. 2399Rs. 2999(20% OFF)',\n",
       " 'Rs. 1469Rs. 4899(70% OFF)',\n",
       " 'Rs. 1379Rs. 4599(70% OFF)',\n",
       " 'Rs. 681Rs. 3405(80% OFF)',\n",
       " 'Rs. 6795',\n",
       " 'Rs. 1499',\n",
       " 'Rs. 2309Rs. 3299(30% OFF)',\n",
       " 'Rs. 2149Rs. 4299(50% OFF)',\n",
       " 'Rs. 1499',\n",
       " 'Rs. 892Rs. 4249(79% OFF)',\n",
       " 'Rs. 996Rs. 1049(5% OFF)',\n",
       " 'Rs. 2144Rs. 3299(35% OFF)',\n",
       " 'Rs. 489Rs. 999(51% OFF)',\n",
       " 'Rs. 3249Rs. 4999(35% OFF)',\n",
       " 'Rs. 3599Rs. 5999(40% OFF)',\n",
       " 'Rs. 4995',\n",
       " 'Rs. 599Rs. 1999(70% OFF)',\n",
       " 'Rs. 699Rs. 3395(Rs. 2696 OFF)',\n",
       " 'Rs. 2339Rs. 3899(40% OFF)',\n",
       " 'Rs. 4299',\n",
       " 'Rs. 849Rs. 3995(Rs. 3146 OFF)',\n",
       " 'Rs. 2159Rs. 4799(55% OFF)',\n",
       " 'Rs. 3999',\n",
       " 'Rs. 986Rs. 1049(6% OFF)',\n",
       " 'Rs. 799Rs. 1599(50% OFF)',\n",
       " 'Rs. 6795',\n",
       " 'Rs. 2474Rs. 5499(55% OFF)',\n",
       " 'Rs. 1469Rs. 4899(70% OFF)',\n",
       " 'Rs. 749Rs. 2499(70% OFF)',\n",
       " 'Rs. 2199Rs. 3999(45% OFF)',\n",
       " 'Rs. 2295',\n",
       " 'Rs. 1049Rs. 3899(Rs. 2850 OFF)',\n",
       " 'Rs. 799Rs. 1599(50% OFF)',\n",
       " 'Rs. 664Rs. 699(5% OFF)',\n",
       " 'Rs. 1979Rs. 6599(70% OFF)',\n",
       " 'Rs. 599Rs. 999(Rs. 400 OFF)',\n",
       " 'Rs. 2279Rs. 3799(40% OFF)',\n",
       " 'Rs. 2699Rs. 5999(55% OFF)',\n",
       " 'Rs. 7999',\n",
       " 'Rs. 699Rs. 999(30% OFF)',\n",
       " 'Rs. 1675Rs. 2295(27% OFF)']"
      ]
     },
     "execution_count": 216,
     "metadata": {},
     "output_type": "execute_result"
    }
   ],
   "source": [
    "# to extract the  Sneaker price\n",
    "Myntra_pr=driver.find_elements_by_xpath(\"//div[@class='product-price']\")\n",
    "Myntra_pr\n",
    "\n",
    "# becoz text do not work in text so we use loop so that the Sneaker price can be extracted\n",
    "\n",
    "Myntra_price=[]\n",
    "for i in Myntra_pr:\n",
    "    Myntra_price.append(i.text)\n",
    "Myntra_price"
   ]
  },
  {
   "cell_type": "code",
   "execution_count": 217,
   "metadata": {},
   "outputs": [
    {
     "data": {
      "text/plain": [
       "['Men Sneakers',\n",
       " 'Men Walking Shoes',\n",
       " 'Men Textured Loafers',\n",
       " 'Men Walking Shoes',\n",
       " 'Men Quest 4 Running Shoes',\n",
       " 'Men Espadrilles',\n",
       " 'Women Colourblocked PU Sneakers',\n",
       " 'Men Trekking Shoes',\n",
       " 'Women NA Colourblocked Sneakers',\n",
       " 'Anzarun Lite Running Shoes',\n",
       " 'Men Walking Shoes',\n",
       " 'Men Colourblocked Sneakers',\n",
       " 'Men Running Shoes',\n",
       " 'Men FlexRun 2021 Running Shoes',\n",
       " 'Womens Platform trainers',\n",
       " 'Men Skate Street Sneaker',\n",
       " 'Men Sneakers',\n",
       " 'Men White Low profile trainers',\n",
       " 'Men Derbys',\n",
       " 'Men Running Shoes',\n",
       " 'Men Uiflow Running Shoes',\n",
       " 'Women Mules',\n",
       " 'Men Sneakers',\n",
       " 'Men Gamecourt Tennis Shoes',\n",
       " 'Men FLEX EXPERIENCE RN Shoes',\n",
       " 'Women Heeled Boots',\n",
       " 'Men Walking Sports Shoes',\n",
       " 'Men Solid Sneakers',\n",
       " 'Men Woven Fluidglow Running',\n",
       " 'Men Solid Loafers',\n",
       " 'Men Alpha Running shoe',\n",
       " 'Men Runesy Running Shoes',\n",
       " 'Men Running Shoes',\n",
       " 'Women Flats',\n",
       " 'Men Flex 2021 Running Shoes',\n",
       " 'Men Black Running Shoes',\n",
       " 'Men Walking Shoes',\n",
       " 'Men Walking Shoes',\n",
       " 'Men Slip-On Sneakers',\n",
       " 'Men Mesh Running Shoes',\n",
       " 'Men Printed Sneakers',\n",
       " 'Women White Walking Shoes',\n",
       " 'Unsiex Aqua Shoes 100',\n",
       " 'Women Air + Walking Shoe',\n",
       " 'Women Solid Sneakers',\n",
       " 'Men Andy IDP Sneakers',\n",
       " 'Men Sneakers',\n",
       " 'Men Fluidflow 2.0 Running',\n",
       " 'Women Sneakers',\n",
       " 'Women Heeled Boots']"
      ]
     },
     "execution_count": 217,
     "metadata": {},
     "output_type": "execute_result"
    }
   ],
   "source": [
    "# to extract the  Shoe description name \n",
    "Myntra_desc=driver.find_elements_by_xpath(\"//h4[@class='product-product']\")\n",
    "Myntra_desc\n",
    "\n",
    "# becoz text do not work in text so we use loop so that the Shoe description name can be extracted\n",
    "\n",
    "Myntra_description=[]\n",
    "for i in Myntra_desc:\n",
    "    Myntra_description.append(i.text)\n",
    "Myntra_description"
   ]
  },
  {
   "cell_type": "code",
   "execution_count": 218,
   "metadata": {},
   "outputs": [
    {
     "data": {
      "text/plain": [
       "['HIGHLANDER',\n",
       " 'Red Tape',\n",
       " 'U.S. Polo Assn.',\n",
       " 'Newfeel By Decathlon',\n",
       " 'Nike',\n",
       " 'H&M',\n",
       " 'Alishtezia',\n",
       " 'Eego Italy',\n",
       " 'TWIN TOES',\n",
       " 'Puma',\n",
       " 'Red Tape',\n",
       " 'Red Tape',\n",
       " 'Woakers',\n",
       " 'Nike',\n",
       " 'H&M',\n",
       " 'HRX by Hrithik Roshan',\n",
       " 'Puma',\n",
       " 'H&M',\n",
       " 'El Paso',\n",
       " 'Sparx',\n",
       " 'ADIDAS',\n",
       " 'Gibelle',\n",
       " 'Puma',\n",
       " 'ADIDAS',\n",
       " 'Nike',\n",
       " 'TRASE',\n",
       " 'Provogue',\n",
       " 'Roadster',\n",
       " 'ADIDAS',\n",
       " 'Provogue',\n",
       " 'HRX by Hrithik Roshan',\n",
       " 'ADIDAS',\n",
       " 'Sparx',\n",
       " 'DressBerry',\n",
       " 'Nike',\n",
       " 'Puma',\n",
       " 'Red Tape',\n",
       " 'MENGLER',\n",
       " 'U.S. Polo Assn.',\n",
       " 'FURO by Red Chief',\n",
       " 'Bond Street By Red Tape',\n",
       " 'ZAPATOZ',\n",
       " 'SUBEA By Decathlon',\n",
       " 'Red Tape',\n",
       " 'TWIN TOES',\n",
       " 'one8 x PUMA',\n",
       " 'Puma',\n",
       " 'ADIDAS',\n",
       " 'Bella Toes',\n",
       " 'Catwalk']"
      ]
     },
     "execution_count": 218,
     "metadata": {},
     "output_type": "execute_result"
    }
   ],
   "source": [
    "# to extract the brand sneakers name\n",
    "Myntra_br1=driver.find_elements_by_xpath(\"//h3[@class='product-brand']\")\n",
    "Myntra_br1\n",
    "\n",
    "# becoz text do not work in text so we use loop so that the brand name can be extracted\n",
    "\n",
    "Myntra_brand1=[]\n",
    "for i in Myntra_br1:\n",
    "    Myntra_brand1.append(i.text)\n",
    "Myntra_brand1 "
   ]
  },
  {
   "cell_type": "code",
   "execution_count": 219,
   "metadata": {},
   "outputs": [
    {
     "data": {
      "text/plain": [
       "['Rs. 895Rs. 1990(55% OFF)',\n",
       " 'Rs. 1469Rs. 4899(70% OFF)',\n",
       " 'Rs. 1979Rs. 3599(45% OFF)',\n",
       " 'Rs. 899',\n",
       " 'Rs. 5995',\n",
       " 'Rs. 649Rs. 1299(50% OFF)',\n",
       " 'Rs. 799Rs. 1599(50% OFF)',\n",
       " 'Rs. 899Rs. 2599(Rs. 1700 OFF)',\n",
       " 'Rs. 799Rs. 999(Rs. 200 OFF)',\n",
       " 'Rs. 2399Rs. 2999(20% OFF)',\n",
       " 'Rs. 1469Rs. 4899(70% OFF)',\n",
       " 'Rs. 1379Rs. 4599(70% OFF)',\n",
       " 'Rs. 681Rs. 3405(80% OFF)',\n",
       " 'Rs. 6795',\n",
       " 'Rs. 1499',\n",
       " 'Rs. 2309Rs. 3299(30% OFF)',\n",
       " 'Rs. 2149Rs. 4299(50% OFF)',\n",
       " 'Rs. 1499',\n",
       " 'Rs. 892Rs. 4249(79% OFF)',\n",
       " 'Rs. 996Rs. 1049(5% OFF)',\n",
       " 'Rs. 2144Rs. 3299(35% OFF)',\n",
       " 'Rs. 489Rs. 999(51% OFF)',\n",
       " 'Rs. 3249Rs. 4999(35% OFF)',\n",
       " 'Rs. 3599Rs. 5999(40% OFF)',\n",
       " 'Rs. 4995',\n",
       " 'Rs. 599Rs. 1999(70% OFF)',\n",
       " 'Rs. 699Rs. 3395(Rs. 2696 OFF)',\n",
       " 'Rs. 2339Rs. 3899(40% OFF)',\n",
       " 'Rs. 4299',\n",
       " 'Rs. 849Rs. 3995(Rs. 3146 OFF)',\n",
       " 'Rs. 2159Rs. 4799(55% OFF)',\n",
       " 'Rs. 3999',\n",
       " 'Rs. 986Rs. 1049(6% OFF)',\n",
       " 'Rs. 799Rs. 1599(50% OFF)',\n",
       " 'Rs. 6795',\n",
       " 'Rs. 2474Rs. 5499(55% OFF)',\n",
       " 'Rs. 1469Rs. 4899(70% OFF)',\n",
       " 'Rs. 749Rs. 2499(70% OFF)',\n",
       " 'Rs. 2199Rs. 3999(45% OFF)',\n",
       " 'Rs. 2295',\n",
       " 'Rs. 1049Rs. 3899(Rs. 2850 OFF)',\n",
       " 'Rs. 799Rs. 1599(50% OFF)',\n",
       " 'Rs. 664Rs. 699(5% OFF)',\n",
       " 'Rs. 1979Rs. 6599(70% OFF)',\n",
       " 'Rs. 599Rs. 999(Rs. 400 OFF)',\n",
       " 'Rs. 2279Rs. 3799(40% OFF)',\n",
       " 'Rs. 2699Rs. 5999(55% OFF)',\n",
       " 'Rs. 7999',\n",
       " 'Rs. 699Rs. 999(30% OFF)',\n",
       " 'Rs. 1675Rs. 2295(27% OFF)']"
      ]
     },
     "execution_count": 219,
     "metadata": {},
     "output_type": "execute_result"
    }
   ],
   "source": [
    "# to extract the  Sneaker price\n",
    "Myntra_pr1=driver.find_elements_by_xpath(\"//div[@class='product-price']\")\n",
    "Myntra_pr1\n",
    "\n",
    "# becoz text do not work in text so we use loop so that the Sneaker price can be extracted\n",
    "\n",
    "Myntra_price1=[]\n",
    "for i in Myntra_pr1:\n",
    "    Myntra_price1.append(i.text)\n",
    "Myntra_price1"
   ]
  },
  {
   "cell_type": "code",
   "execution_count": 220,
   "metadata": {},
   "outputs": [
    {
     "data": {
      "text/plain": [
       "['Men Sneakers',\n",
       " 'Men Walking Shoes',\n",
       " 'Men Textured Loafers',\n",
       " 'Men Walking Shoes',\n",
       " 'Men Quest 4 Running Shoes',\n",
       " 'Men Espadrilles',\n",
       " 'Women Colourblocked PU Sneakers',\n",
       " 'Men Trekking Shoes',\n",
       " 'Women NA Colourblocked Sneakers',\n",
       " 'Anzarun Lite Running Shoes',\n",
       " 'Men Walking Shoes',\n",
       " 'Men Colourblocked Sneakers',\n",
       " 'Men Running Shoes',\n",
       " 'Men FlexRun 2021 Running Shoes',\n",
       " 'Womens Platform trainers',\n",
       " 'Men Skate Street Sneaker',\n",
       " 'Men Sneakers',\n",
       " 'Men White Low profile trainers',\n",
       " 'Men Derbys',\n",
       " 'Men Running Shoes',\n",
       " 'Men Uiflow Running Shoes',\n",
       " 'Women Mules',\n",
       " 'Men Sneakers',\n",
       " 'Men Gamecourt Tennis Shoes',\n",
       " 'Men FLEX EXPERIENCE RN Shoes',\n",
       " 'Women Heeled Boots',\n",
       " 'Men Walking Sports Shoes',\n",
       " 'Men Solid Sneakers',\n",
       " 'Men Woven Fluidglow Running',\n",
       " 'Men Solid Loafers',\n",
       " 'Men Alpha Running shoe',\n",
       " 'Men Runesy Running Shoes',\n",
       " 'Men Running Shoes',\n",
       " 'Women Flats',\n",
       " 'Men Flex 2021 Running Shoes',\n",
       " 'Men Black Running Shoes',\n",
       " 'Men Walking Shoes',\n",
       " 'Men Walking Shoes',\n",
       " 'Men Slip-On Sneakers',\n",
       " 'Men Mesh Running Shoes',\n",
       " 'Men Printed Sneakers',\n",
       " 'Women White Walking Shoes',\n",
       " 'Unsiex Aqua Shoes 100',\n",
       " 'Women Air + Walking Shoe',\n",
       " 'Women Solid Sneakers',\n",
       " 'Men Andy IDP Sneakers',\n",
       " 'Men Sneakers',\n",
       " 'Men Fluidflow 2.0 Running',\n",
       " 'Women Sneakers',\n",
       " 'Women Heeled Boots']"
      ]
     },
     "execution_count": 220,
     "metadata": {},
     "output_type": "execute_result"
    }
   ],
   "source": [
    "# to extract the  Shoe description name \n",
    "Myntra_desc1=driver.find_elements_by_xpath(\"//h4[@class='product-product']\")\n",
    "Myntra_desc1\n",
    "\n",
    "# becoz text do not work in text so we use loop so that the Shoe description name can be extracted\n",
    "\n",
    "Myntra_description1=[]\n",
    "for i in Myntra_desc1:\n",
    "    Myntra_description1.append(i.text)\n",
    "Myntra_description1"
   ]
  },
  {
   "cell_type": "code",
   "execution_count": 221,
   "metadata": {},
   "outputs": [
    {
     "data": {
      "text/plain": [
       "['HIGHLANDER',\n",
       " 'Red Tape',\n",
       " 'U.S. Polo Assn.',\n",
       " 'Newfeel By Decathlon',\n",
       " 'Nike',\n",
       " 'H&M',\n",
       " 'Alishtezia',\n",
       " 'Eego Italy',\n",
       " 'TWIN TOES',\n",
       " 'Puma',\n",
       " 'Red Tape',\n",
       " 'Red Tape',\n",
       " 'Woakers',\n",
       " 'Nike',\n",
       " 'H&M',\n",
       " 'HRX by Hrithik Roshan',\n",
       " 'Puma',\n",
       " 'H&M',\n",
       " 'El Paso',\n",
       " 'Sparx',\n",
       " 'ADIDAS',\n",
       " 'Gibelle',\n",
       " 'Puma',\n",
       " 'ADIDAS',\n",
       " 'Nike',\n",
       " 'TRASE',\n",
       " 'Provogue',\n",
       " 'Roadster',\n",
       " 'ADIDAS',\n",
       " 'Provogue',\n",
       " 'HRX by Hrithik Roshan',\n",
       " 'ADIDAS',\n",
       " 'Sparx',\n",
       " 'DressBerry',\n",
       " 'Nike',\n",
       " 'Puma',\n",
       " 'Red Tape',\n",
       " 'MENGLER',\n",
       " 'U.S. Polo Assn.',\n",
       " 'FURO by Red Chief',\n",
       " 'Bond Street By Red Tape',\n",
       " 'ZAPATOZ',\n",
       " 'SUBEA By Decathlon',\n",
       " 'Red Tape',\n",
       " 'TWIN TOES',\n",
       " 'one8 x PUMA',\n",
       " 'Puma',\n",
       " 'ADIDAS',\n",
       " 'Bella Toes',\n",
       " 'Catwalk',\n",
       " 'HIGHLANDER',\n",
       " 'Red Tape',\n",
       " 'U.S. Polo Assn.',\n",
       " 'Newfeel By Decathlon',\n",
       " 'Nike',\n",
       " 'H&M',\n",
       " 'Alishtezia',\n",
       " 'Eego Italy',\n",
       " 'TWIN TOES',\n",
       " 'Puma',\n",
       " 'Red Tape',\n",
       " 'Red Tape',\n",
       " 'Woakers',\n",
       " 'Nike',\n",
       " 'H&M',\n",
       " 'HRX by Hrithik Roshan',\n",
       " 'Puma',\n",
       " 'H&M',\n",
       " 'El Paso',\n",
       " 'Sparx',\n",
       " 'ADIDAS',\n",
       " 'Gibelle',\n",
       " 'Puma',\n",
       " 'ADIDAS',\n",
       " 'Nike',\n",
       " 'TRASE',\n",
       " 'Provogue',\n",
       " 'Roadster',\n",
       " 'ADIDAS',\n",
       " 'Provogue',\n",
       " 'HRX by Hrithik Roshan',\n",
       " 'ADIDAS',\n",
       " 'Sparx',\n",
       " 'DressBerry',\n",
       " 'Nike',\n",
       " 'Puma',\n",
       " 'Red Tape',\n",
       " 'MENGLER',\n",
       " 'U.S. Polo Assn.',\n",
       " 'FURO by Red Chief',\n",
       " 'Bond Street By Red Tape',\n",
       " 'ZAPATOZ',\n",
       " 'SUBEA By Decathlon',\n",
       " 'Red Tape',\n",
       " 'TWIN TOES',\n",
       " 'one8 x PUMA',\n",
       " 'Puma',\n",
       " 'ADIDAS',\n",
       " 'Bella Toes',\n",
       " 'Catwalk']"
      ]
     },
     "execution_count": 221,
     "metadata": {},
     "output_type": "execute_result"
    }
   ],
   "source": [
    "Mbrand = list(chain(Myntra_brand,Myntra_brand1 ))\n",
    "Mbrand"
   ]
  },
  {
   "cell_type": "code",
   "execution_count": 222,
   "metadata": {},
   "outputs": [
    {
     "data": {
      "text/plain": [
       "['Rs. 895Rs. 1990(55% OFF)',\n",
       " 'Rs. 1469Rs. 4899(70% OFF)',\n",
       " 'Rs. 1979Rs. 3599(45% OFF)',\n",
       " 'Rs. 899',\n",
       " 'Rs. 5995',\n",
       " 'Rs. 649Rs. 1299(50% OFF)',\n",
       " 'Rs. 799Rs. 1599(50% OFF)',\n",
       " 'Rs. 899Rs. 2599(Rs. 1700 OFF)',\n",
       " 'Rs. 799Rs. 999(Rs. 200 OFF)',\n",
       " 'Rs. 2399Rs. 2999(20% OFF)',\n",
       " 'Rs. 1469Rs. 4899(70% OFF)',\n",
       " 'Rs. 1379Rs. 4599(70% OFF)',\n",
       " 'Rs. 681Rs. 3405(80% OFF)',\n",
       " 'Rs. 6795',\n",
       " 'Rs. 1499',\n",
       " 'Rs. 2309Rs. 3299(30% OFF)',\n",
       " 'Rs. 2149Rs. 4299(50% OFF)',\n",
       " 'Rs. 1499',\n",
       " 'Rs. 892Rs. 4249(79% OFF)',\n",
       " 'Rs. 996Rs. 1049(5% OFF)',\n",
       " 'Rs. 2144Rs. 3299(35% OFF)',\n",
       " 'Rs. 489Rs. 999(51% OFF)',\n",
       " 'Rs. 3249Rs. 4999(35% OFF)',\n",
       " 'Rs. 3599Rs. 5999(40% OFF)',\n",
       " 'Rs. 4995',\n",
       " 'Rs. 599Rs. 1999(70% OFF)',\n",
       " 'Rs. 699Rs. 3395(Rs. 2696 OFF)',\n",
       " 'Rs. 2339Rs. 3899(40% OFF)',\n",
       " 'Rs. 4299',\n",
       " 'Rs. 849Rs. 3995(Rs. 3146 OFF)',\n",
       " 'Rs. 2159Rs. 4799(55% OFF)',\n",
       " 'Rs. 3999',\n",
       " 'Rs. 986Rs. 1049(6% OFF)',\n",
       " 'Rs. 799Rs. 1599(50% OFF)',\n",
       " 'Rs. 6795',\n",
       " 'Rs. 2474Rs. 5499(55% OFF)',\n",
       " 'Rs. 1469Rs. 4899(70% OFF)',\n",
       " 'Rs. 749Rs. 2499(70% OFF)',\n",
       " 'Rs. 2199Rs. 3999(45% OFF)',\n",
       " 'Rs. 2295',\n",
       " 'Rs. 1049Rs. 3899(Rs. 2850 OFF)',\n",
       " 'Rs. 799Rs. 1599(50% OFF)',\n",
       " 'Rs. 664Rs. 699(5% OFF)',\n",
       " 'Rs. 1979Rs. 6599(70% OFF)',\n",
       " 'Rs. 599Rs. 999(Rs. 400 OFF)',\n",
       " 'Rs. 2279Rs. 3799(40% OFF)',\n",
       " 'Rs. 2699Rs. 5999(55% OFF)',\n",
       " 'Rs. 7999',\n",
       " 'Rs. 699Rs. 999(30% OFF)',\n",
       " 'Rs. 1675Rs. 2295(27% OFF)',\n",
       " 'Rs. 895Rs. 1990(55% OFF)',\n",
       " 'Rs. 1469Rs. 4899(70% OFF)',\n",
       " 'Rs. 1979Rs. 3599(45% OFF)',\n",
       " 'Rs. 899',\n",
       " 'Rs. 5995',\n",
       " 'Rs. 649Rs. 1299(50% OFF)',\n",
       " 'Rs. 799Rs. 1599(50% OFF)',\n",
       " 'Rs. 899Rs. 2599(Rs. 1700 OFF)',\n",
       " 'Rs. 799Rs. 999(Rs. 200 OFF)',\n",
       " 'Rs. 2399Rs. 2999(20% OFF)',\n",
       " 'Rs. 1469Rs. 4899(70% OFF)',\n",
       " 'Rs. 1379Rs. 4599(70% OFF)',\n",
       " 'Rs. 681Rs. 3405(80% OFF)',\n",
       " 'Rs. 6795',\n",
       " 'Rs. 1499',\n",
       " 'Rs. 2309Rs. 3299(30% OFF)',\n",
       " 'Rs. 2149Rs. 4299(50% OFF)',\n",
       " 'Rs. 1499',\n",
       " 'Rs. 892Rs. 4249(79% OFF)',\n",
       " 'Rs. 996Rs. 1049(5% OFF)',\n",
       " 'Rs. 2144Rs. 3299(35% OFF)',\n",
       " 'Rs. 489Rs. 999(51% OFF)',\n",
       " 'Rs. 3249Rs. 4999(35% OFF)',\n",
       " 'Rs. 3599Rs. 5999(40% OFF)',\n",
       " 'Rs. 4995',\n",
       " 'Rs. 599Rs. 1999(70% OFF)',\n",
       " 'Rs. 699Rs. 3395(Rs. 2696 OFF)',\n",
       " 'Rs. 2339Rs. 3899(40% OFF)',\n",
       " 'Rs. 4299',\n",
       " 'Rs. 849Rs. 3995(Rs. 3146 OFF)',\n",
       " 'Rs. 2159Rs. 4799(55% OFF)',\n",
       " 'Rs. 3999',\n",
       " 'Rs. 986Rs. 1049(6% OFF)',\n",
       " 'Rs. 799Rs. 1599(50% OFF)',\n",
       " 'Rs. 6795',\n",
       " 'Rs. 2474Rs. 5499(55% OFF)',\n",
       " 'Rs. 1469Rs. 4899(70% OFF)',\n",
       " 'Rs. 749Rs. 2499(70% OFF)',\n",
       " 'Rs. 2199Rs. 3999(45% OFF)',\n",
       " 'Rs. 2295',\n",
       " 'Rs. 1049Rs. 3899(Rs. 2850 OFF)',\n",
       " 'Rs. 799Rs. 1599(50% OFF)',\n",
       " 'Rs. 664Rs. 699(5% OFF)',\n",
       " 'Rs. 1979Rs. 6599(70% OFF)',\n",
       " 'Rs. 599Rs. 999(Rs. 400 OFF)',\n",
       " 'Rs. 2279Rs. 3799(40% OFF)',\n",
       " 'Rs. 2699Rs. 5999(55% OFF)',\n",
       " 'Rs. 7999',\n",
       " 'Rs. 699Rs. 999(30% OFF)',\n",
       " 'Rs. 1675Rs. 2295(27% OFF)']"
      ]
     },
     "execution_count": 222,
     "metadata": {},
     "output_type": "execute_result"
    }
   ],
   "source": [
    "Mprice = list(chain(Myntra_price ,Myntra_price1))\n",
    "Mprice"
   ]
  },
  {
   "cell_type": "code",
   "execution_count": 223,
   "metadata": {},
   "outputs": [
    {
     "data": {
      "text/plain": [
       "['Men Sneakers',\n",
       " 'Men Walking Shoes',\n",
       " 'Men Textured Loafers',\n",
       " 'Men Walking Shoes',\n",
       " 'Men Quest 4 Running Shoes',\n",
       " 'Men Espadrilles',\n",
       " 'Women Colourblocked PU Sneakers',\n",
       " 'Men Trekking Shoes',\n",
       " 'Women NA Colourblocked Sneakers',\n",
       " 'Anzarun Lite Running Shoes',\n",
       " 'Men Walking Shoes',\n",
       " 'Men Colourblocked Sneakers',\n",
       " 'Men Running Shoes',\n",
       " 'Men FlexRun 2021 Running Shoes',\n",
       " 'Womens Platform trainers',\n",
       " 'Men Skate Street Sneaker',\n",
       " 'Men Sneakers',\n",
       " 'Men White Low profile trainers',\n",
       " 'Men Derbys',\n",
       " 'Men Running Shoes',\n",
       " 'Men Uiflow Running Shoes',\n",
       " 'Women Mules',\n",
       " 'Men Sneakers',\n",
       " 'Men Gamecourt Tennis Shoes',\n",
       " 'Men FLEX EXPERIENCE RN Shoes',\n",
       " 'Women Heeled Boots',\n",
       " 'Men Walking Sports Shoes',\n",
       " 'Men Solid Sneakers',\n",
       " 'Men Woven Fluidglow Running',\n",
       " 'Men Solid Loafers',\n",
       " 'Men Alpha Running shoe',\n",
       " 'Men Runesy Running Shoes',\n",
       " 'Men Running Shoes',\n",
       " 'Women Flats',\n",
       " 'Men Flex 2021 Running Shoes',\n",
       " 'Men Black Running Shoes',\n",
       " 'Men Walking Shoes',\n",
       " 'Men Walking Shoes',\n",
       " 'Men Slip-On Sneakers',\n",
       " 'Men Mesh Running Shoes',\n",
       " 'Men Printed Sneakers',\n",
       " 'Women White Walking Shoes',\n",
       " 'Unsiex Aqua Shoes 100',\n",
       " 'Women Air + Walking Shoe',\n",
       " 'Women Solid Sneakers',\n",
       " 'Men Andy IDP Sneakers',\n",
       " 'Men Sneakers',\n",
       " 'Men Fluidflow 2.0 Running',\n",
       " 'Women Sneakers',\n",
       " 'Women Heeled Boots',\n",
       " 'Men Sneakers',\n",
       " 'Men Walking Shoes',\n",
       " 'Men Textured Loafers',\n",
       " 'Men Walking Shoes',\n",
       " 'Men Quest 4 Running Shoes',\n",
       " 'Men Espadrilles',\n",
       " 'Women Colourblocked PU Sneakers',\n",
       " 'Men Trekking Shoes',\n",
       " 'Women NA Colourblocked Sneakers',\n",
       " 'Anzarun Lite Running Shoes',\n",
       " 'Men Walking Shoes',\n",
       " 'Men Colourblocked Sneakers',\n",
       " 'Men Running Shoes',\n",
       " 'Men FlexRun 2021 Running Shoes',\n",
       " 'Womens Platform trainers',\n",
       " 'Men Skate Street Sneaker',\n",
       " 'Men Sneakers',\n",
       " 'Men White Low profile trainers',\n",
       " 'Men Derbys',\n",
       " 'Men Running Shoes',\n",
       " 'Men Uiflow Running Shoes',\n",
       " 'Women Mules',\n",
       " 'Men Sneakers',\n",
       " 'Men Gamecourt Tennis Shoes',\n",
       " 'Men FLEX EXPERIENCE RN Shoes',\n",
       " 'Women Heeled Boots',\n",
       " 'Men Walking Sports Shoes',\n",
       " 'Men Solid Sneakers',\n",
       " 'Men Woven Fluidglow Running',\n",
       " 'Men Solid Loafers',\n",
       " 'Men Alpha Running shoe',\n",
       " 'Men Runesy Running Shoes',\n",
       " 'Men Running Shoes',\n",
       " 'Women Flats',\n",
       " 'Men Flex 2021 Running Shoes',\n",
       " 'Men Black Running Shoes',\n",
       " 'Men Walking Shoes',\n",
       " 'Men Walking Shoes',\n",
       " 'Men Slip-On Sneakers',\n",
       " 'Men Mesh Running Shoes',\n",
       " 'Men Printed Sneakers',\n",
       " 'Women White Walking Shoes',\n",
       " 'Unsiex Aqua Shoes 100',\n",
       " 'Women Air + Walking Shoe',\n",
       " 'Women Solid Sneakers',\n",
       " 'Men Andy IDP Sneakers',\n",
       " 'Men Sneakers',\n",
       " 'Men Fluidflow 2.0 Running',\n",
       " 'Women Sneakers',\n",
       " 'Women Heeled Boots']"
      ]
     },
     "execution_count": 223,
     "metadata": {},
     "output_type": "execute_result"
    }
   ],
   "source": [
    "Mdescription = list(chain(Myntra_description,Myntra_description1))\n",
    "Mdescription"
   ]
  },
  {
   "cell_type": "code",
   "execution_count": 224,
   "metadata": {},
   "outputs": [
    {
     "data": {
      "text/html": [
       "<div>\n",
       "<style scoped>\n",
       "    .dataframe tbody tr th:only-of-type {\n",
       "        vertical-align: middle;\n",
       "    }\n",
       "\n",
       "    .dataframe tbody tr th {\n",
       "        vertical-align: top;\n",
       "    }\n",
       "\n",
       "    .dataframe thead th {\n",
       "        text-align: right;\n",
       "    }\n",
       "</style>\n",
       "<table border=\"1\" class=\"dataframe\">\n",
       "  <thead>\n",
       "    <tr style=\"text-align: right;\">\n",
       "      <th></th>\n",
       "      <th>Brand</th>\n",
       "      <th>Product Detail</th>\n",
       "      <th>Price</th>\n",
       "    </tr>\n",
       "  </thead>\n",
       "  <tbody>\n",
       "    <tr>\n",
       "      <th>0</th>\n",
       "      <td>HIGHLANDER</td>\n",
       "      <td>Men Sneakers</td>\n",
       "      <td>Rs. 895Rs. 1990(55% OFF)</td>\n",
       "    </tr>\n",
       "    <tr>\n",
       "      <th>1</th>\n",
       "      <td>Red Tape</td>\n",
       "      <td>Men Walking Shoes</td>\n",
       "      <td>Rs. 1469Rs. 4899(70% OFF)</td>\n",
       "    </tr>\n",
       "    <tr>\n",
       "      <th>2</th>\n",
       "      <td>U.S. Polo Assn.</td>\n",
       "      <td>Men Textured Loafers</td>\n",
       "      <td>Rs. 1979Rs. 3599(45% OFF)</td>\n",
       "    </tr>\n",
       "    <tr>\n",
       "      <th>3</th>\n",
       "      <td>Newfeel By Decathlon</td>\n",
       "      <td>Men Walking Shoes</td>\n",
       "      <td>Rs. 899</td>\n",
       "    </tr>\n",
       "    <tr>\n",
       "      <th>4</th>\n",
       "      <td>Nike</td>\n",
       "      <td>Men Quest 4 Running Shoes</td>\n",
       "      <td>Rs. 5995</td>\n",
       "    </tr>\n",
       "    <tr>\n",
       "      <th>...</th>\n",
       "      <td>...</td>\n",
       "      <td>...</td>\n",
       "      <td>...</td>\n",
       "    </tr>\n",
       "    <tr>\n",
       "      <th>95</th>\n",
       "      <td>one8 x PUMA</td>\n",
       "      <td>Men Andy IDP Sneakers</td>\n",
       "      <td>Rs. 2279Rs. 3799(40% OFF)</td>\n",
       "    </tr>\n",
       "    <tr>\n",
       "      <th>96</th>\n",
       "      <td>Puma</td>\n",
       "      <td>Men Sneakers</td>\n",
       "      <td>Rs. 2699Rs. 5999(55% OFF)</td>\n",
       "    </tr>\n",
       "    <tr>\n",
       "      <th>97</th>\n",
       "      <td>ADIDAS</td>\n",
       "      <td>Men Fluidflow 2.0 Running</td>\n",
       "      <td>Rs. 7999</td>\n",
       "    </tr>\n",
       "    <tr>\n",
       "      <th>98</th>\n",
       "      <td>Bella Toes</td>\n",
       "      <td>Women Sneakers</td>\n",
       "      <td>Rs. 699Rs. 999(30% OFF)</td>\n",
       "    </tr>\n",
       "    <tr>\n",
       "      <th>99</th>\n",
       "      <td>Catwalk</td>\n",
       "      <td>Women Heeled Boots</td>\n",
       "      <td>Rs. 1675Rs. 2295(27% OFF)</td>\n",
       "    </tr>\n",
       "  </tbody>\n",
       "</table>\n",
       "<p>100 rows × 3 columns</p>\n",
       "</div>"
      ],
      "text/plain": [
       "                   Brand             Product Detail                      Price\n",
       "0             HIGHLANDER               Men Sneakers   Rs. 895Rs. 1990(55% OFF)\n",
       "1               Red Tape          Men Walking Shoes  Rs. 1469Rs. 4899(70% OFF)\n",
       "2        U.S. Polo Assn.       Men Textured Loafers  Rs. 1979Rs. 3599(45% OFF)\n",
       "3   Newfeel By Decathlon          Men Walking Shoes                    Rs. 899\n",
       "4                   Nike  Men Quest 4 Running Shoes                   Rs. 5995\n",
       "..                   ...                        ...                        ...\n",
       "95           one8 x PUMA      Men Andy IDP Sneakers  Rs. 2279Rs. 3799(40% OFF)\n",
       "96                  Puma               Men Sneakers  Rs. 2699Rs. 5999(55% OFF)\n",
       "97                ADIDAS  Men Fluidflow 2.0 Running                   Rs. 7999\n",
       "98            Bella Toes             Women Sneakers    Rs. 699Rs. 999(30% OFF)\n",
       "99               Catwalk         Women Heeled Boots  Rs. 1675Rs. 2295(27% OFF)\n",
       "\n",
       "[100 rows x 3 columns]"
      ]
     },
     "execution_count": 224,
     "metadata": {},
     "output_type": "execute_result"
    }
   ],
   "source": [
    "# scraping all the data in dataframe \n",
    "shoe=pd.DataFrame(())\n",
    "\n",
    "shoe['Brand']=Mbrand[0:100]\n",
    "shoe['Product Detail']=Mdescription[0:100]\n",
    "shoe['Price']=Mprice[0:100]\n",
    "shoe"
   ]
  },
  {
   "cell_type": "markdown",
   "metadata": {},
   "source": [
    "# Question 10:"
   ]
  },
  {
   "cell_type": "code",
   "execution_count": 225,
   "metadata": {},
   "outputs": [],
   "source": [
    "url4=\"https://www.amazon.com/\"\n",
    "\n",
    "driver.get(url4)"
   ]
  },
  {
   "cell_type": "code",
   "execution_count": 226,
   "metadata": {},
   "outputs": [
    {
     "data": {
      "text/plain": [
       "<selenium.webdriver.remote.webelement.WebElement (session=\"77d6894c2dfd9bbf738fe202c09cff54\", element=\"68008664-51ed-44e3-b7ae-144be68da1ea\")>"
      ]
     },
     "execution_count": 226,
     "metadata": {},
     "output_type": "execute_result"
    }
   ],
   "source": [
    "search=driver.find_element_by_id(\"twotabsearchtextbox\")\n",
    "search"
   ]
  },
  {
   "cell_type": "code",
   "execution_count": 227,
   "metadata": {},
   "outputs": [],
   "source": [
    "search.send_keys(\"Laptop\")"
   ]
  },
  {
   "cell_type": "code",
   "execution_count": 228,
   "metadata": {},
   "outputs": [],
   "source": [
    "ser1=driver.find_element_by_id(\"nav-search-submit-button\")\n",
    "ser1.click()"
   ]
  },
  {
   "cell_type": "code",
   "execution_count": 229,
   "metadata": {},
   "outputs": [],
   "source": [
    "filter1=driver.find_element_by_xpath(\"//span[@class='a-size-base a-color-base']\")"
   ]
  },
  {
   "cell_type": "code",
   "execution_count": 230,
   "metadata": {},
   "outputs": [],
   "source": [
    "filter1.click()"
   ]
  },
  {
   "cell_type": "code",
   "execution_count": 231,
   "metadata": {},
   "outputs": [
    {
     "data": {
      "text/plain": [
       "['2021 Newest Lenovo Ideapad 3 Laptop, 15.6 Full HD 1080P Non-Touch Display, AMD Ryzen 3 3250U Processor, 8GB DDR4 RAM, 256GB PCIe NVMe SSD, Webcam, Wi-Fi, HDMI, Windows 10 Home, KKE Mousepad, Grey',\n",
       " 'Hyundai | HyBook, 14.1\" - | 4GB RAM | 128GB SSD | Intel Celeron N4020 | Expandable with MicroSD & M.2 SATA SSD Slot | WiFi, Bluetooth | Windows 10 Pro | - Grey',\n",
       " 'Acer Aspire 5 A515-46-R14K Slim Laptop | 15.6\" Full HD IPS | AMD Ryzen 3 3350U Quad-Core Mobile Processor | 4GB DDR4 | 128GB NVMe SSD | WiFi 6 | Backlit KB | Amazon Alexa | Windows 10 Home (S mode)',\n",
       " 'Lenovo Chromebook S330 14in Laptop Computer, Mediatek MT8173C up to 1.7 Ghz, 4GB RAM, 32GB eMMC SSD, Bluetooth, HDMI, USB-C, SD Card Reader, Chrome OS, Black (Renewed)',\n",
       " '2021 Newest HP Premium 14-inch HD Laptop, Intel Dual-Core Processor Up to 2.8GHz, 4GB RAM, 64GB eMMC Storage, Webcam, Bluetooth, HDMI, Wi-Fi, Rose Gold, Windows 10 with 1 Year Microsoft 365',\n",
       " 'Gateway 14.1\" FHD Ultra Slim Laptop Computer, Intel Celeron N3350 up to 2.4GHz, 4GB DDR4 RAM, 64GB eMMC, Office, Business or Education, HDMI, Webcam, Windows 10 S, BROAGE 64GB Flash Drive, Black',\n",
       " 'Acer Spin 5 Convertible Laptop, 13.5\" 2K 2256 x 1504 IPS Touch, 10th Gen Intel Core i7-1065G7, 16GB LPDDR4X, 512GB NVMe SSD, Wi-Fi 6, Backlit KB, FPR, Rechargeable Active Stylus, SP513-54N-74V2',\n",
       " 'Portable Monitor, FANGOR 15.6\" FHD1080P Portable Monitor for Laptop USB-C HDMI Computer Display IPS Screen with Dual Speaker Gaming Monitor for Laptop PC MAC Surface Phone PS4 Include Smart Cover',\n",
       " 'Lenovo Legion 5 Pro Gen 6 AMD Gaming Laptop, 16.0\" QHD IPS 165Hz, Ryzen 7 5800H, GeForce RTX 3070 8GB, TGP 140W, 32GB, 1TB PCIe SSD, Win 10 Home',\n",
       " '2021 Newest Dell Inspiron 3000 Laptop, 15.6 HD Display, Intel Core i5-1035G1, 16GB DDR4 RAM, 1TB Hard Disk Drive, Online Meeting Ready, Webcam, WiFi, HDMI, Win10 Home, Black',\n",
       " 'Lenovo IdeaPad 3 15.6\" HD (1366x768) Touchscreen Laptop, Intel Core i5-10210U, 1.6GHz, 8GB RAM, 512GB SSD, Windows 10 Home, Abyss Blue',\n",
       " 'HP 15 Laptop, 11th Gen Intel Core i5-1135G7 Processor, 8 GB RAM, 256 GB SSD Storage, 15.6” Full HD IPS Display, Windows 10 Home, HP Fast Charge, Lightweight Design (15-dy2021nr, 2020)',\n",
       " 'HP 15 15.6\" Laptop Computer, Quad-Core Intel Pentium Silver N5030 up to 3.1GHz, 32GB DDR4 RAM, 1TB SSD, 802.11AC WiFi, Bluetooth 4.1, Webcam, HDMI, Scarlet Red, Windows 10 S, iPuzzle Type-C HUB',\n",
       " '2021 Newest Lenovo Ideapad 3 15.6” FHD Laptop, AMD Ryzen 5 5500U(up to 4.0GHz), 20GB RAM 512GB NVMe SSD, AMD Radeon 7 Graphics, up to 12 Hours, Webcam HDMI Win 10 Home, w/Ghost Manta Accessories',\n",
       " '2020 ASUS VivoBook 15 15.6 Inch FHD 1080P Laptop (AMD Ryzen 3 3200U up to 3.5GHz, 16GB DDR4 RAM, 256GB SSD, AMD Radeon Vega 3, Backlit Keyboard, FP Reader, WiFi, Bluetooth, HDMI, Windows 10) (Grey)',\n",
       " '2021 Newest HP 17z Laptop, 17.3\" HD+ Screen, AMD Athlon Gold 3150U Processor, 16GB DDR4 RAM, 1TB Hard Disk Drive, Wi-Fi, Webcam, Zoom Meeting, Windows 10 Home, Black',\n",
       " '2021 Newest HP 14\" HD Laptop for Business and Student, Intel Celeron N4020(up to 2.8GHz), 4GB RAM, 64GB eMMC, 1 Year Office 365, USB-A&C, WiFi, Webcam, HDMI, Win10 S, w/64GB SD Card',\n",
       " 'BMAX X15 Laptop Computers, 15.6\" FHD (1920 x 1080) Display, Intel 4120 up to 2.6 GHz, 8GB DDR4, 256GB SSD Storage, HDMI, Webcam, WI-FI, Windows 10 - Space Grey',\n",
       " '2021 Newest HP 15 Laptop Notebook, 15.6\" FHD IPS Touchscreen, i7-1165G7, 32GB DDR4 RAM, 1TB PCIe SSD, Webcam, USB-C, HDMI, WiFi 6, Backlit Keyboard, Fingerprint Reader, Win 10 Home',\n",
       " '2021 Newest HP 17.3\" FHD 1080P IPS Laptop, 11th Gen Intel 4-Core i5-1135G7(up to 4.2 GHz), 12GB DDR4-3200MHz, 512GB PCIe SSD, Intel Iris Xe Graphics, WiFi, HDMI, Webcam, Win10 S, w/GM Accessories',\n",
       " 'MSI GL75 Leopard Gaming Laptop: 17.3\" 144Hz Display, Intel Core i7-10750H, NVIDIA GeForce GTX 1660 Ti, 16GB RAM, 512GB NVMe SSD, Win10, Black (10SDK-651)',\n",
       " 'Asus X512DA-BTS2020RL 15.6\" Full HD Laptop – AMD Ryzen 5 - AMD Radeon Vega 8 - 512GB PCIe SSD – 8GB RAM',\n",
       " 'Laptop Computers 14-Inch Windows-10 Notebook - WinBook K146 Intel Celeron Processor 6GB RAM 64GB ROM FHD IPS Display 5G WiFi HDMI (Silver)']"
      ]
     },
     "execution_count": 231,
     "metadata": {},
     "output_type": "execute_result"
    }
   ],
   "source": [
    "\n",
    "# to extract the brand sneakers name\n",
    "titl=driver.find_elements_by_xpath(\"//span[@class='a-size-medium a-color-base a-text-normal']\")\n",
    "titl\n",
    "\n",
    "# becoz text do not work in text so we use loop so that the brand name can be extracted\n",
    "\n",
    "title1=[]\n",
    "for i in titl:\n",
    "    title1.append(i.text)\n",
    "title1 \n",
    "\n",
    "\n"
   ]
  },
  {
   "cell_type": "code",
   "execution_count": 232,
   "metadata": {},
   "outputs": [
    {
     "data": {
      "text/plain": [
       "['$52900',\n",
       " '$25999',\n",
       " '$36107',\n",
       " '$15500',\n",
       " '$32900',\n",
       " '$35000',\n",
       " '$46900',\n",
       " '$22895',\n",
       " '$43550',\n",
       " '',\n",
       " '',\n",
       " '$36107',\n",
       " '$22895',\n",
       " '$1,39900',\n",
       " '$96900',\n",
       " '$17999',\n",
       " '$2,66999',\n",
       " '$67900',\n",
       " '$57875',\n",
       " '$56900',\n",
       " '$74900',\n",
       " '$74999',\n",
       " '$59500',\n",
       " '$69900',\n",
       " '$36900',\n",
       " '$34900',\n",
       " '$1,22900',\n",
       " '$79990',\n",
       " '$1,14900',\n",
       " '$54999',\n",
       " '$26949']"
      ]
     },
     "execution_count": 232,
     "metadata": {},
     "output_type": "execute_result"
    }
   ],
   "source": [
    "# to extract the brand sneakers name\n",
    "pri=driver.find_elements_by_xpath(\"//span[@class='a-price']\")\n",
    "pri\n",
    "\n",
    "# becoz text do not work in text so we use loop so that the brand name can be extracted\n",
    "\n",
    "pricelap=[]\n",
    "for i in pri:\n",
    "    pricelap.append(i.text.replace('\\n',''))\n",
    "pricelap "
   ]
  },
  {
   "cell_type": "code",
   "execution_count": 233,
   "metadata": {},
   "outputs": [],
   "source": [
    "# srapping of data\n",
    "\n",
    "laptop=pd.DataFrame(())\n"
   ]
  },
  {
   "cell_type": "code",
   "execution_count": 234,
   "metadata": {},
   "outputs": [
    {
     "data": {
      "text/html": [
       "<div>\n",
       "<style scoped>\n",
       "    .dataframe tbody tr th:only-of-type {\n",
       "        vertical-align: middle;\n",
       "    }\n",
       "\n",
       "    .dataframe tbody tr th {\n",
       "        vertical-align: top;\n",
       "    }\n",
       "\n",
       "    .dataframe thead th {\n",
       "        text-align: right;\n",
       "    }\n",
       "</style>\n",
       "<table border=\"1\" class=\"dataframe\">\n",
       "  <thead>\n",
       "    <tr style=\"text-align: right;\">\n",
       "      <th></th>\n",
       "      <th>Title</th>\n",
       "      <th>Price</th>\n",
       "    </tr>\n",
       "  </thead>\n",
       "  <tbody>\n",
       "    <tr>\n",
       "      <th>0</th>\n",
       "      <td>2021 Newest Lenovo Ideapad 3 Laptop, 15.6 Full...</td>\n",
       "      <td>$52900</td>\n",
       "    </tr>\n",
       "    <tr>\n",
       "      <th>1</th>\n",
       "      <td>Hyundai | HyBook, 14.1\" - | 4GB RAM | 128GB SS...</td>\n",
       "      <td>$25999</td>\n",
       "    </tr>\n",
       "    <tr>\n",
       "      <th>2</th>\n",
       "      <td>Acer Aspire 5 A515-46-R14K Slim Laptop | 15.6\"...</td>\n",
       "      <td>$36107</td>\n",
       "    </tr>\n",
       "    <tr>\n",
       "      <th>3</th>\n",
       "      <td>Lenovo Chromebook S330 14in Laptop Computer, M...</td>\n",
       "      <td>$15500</td>\n",
       "    </tr>\n",
       "    <tr>\n",
       "      <th>4</th>\n",
       "      <td>2021 Newest HP Premium 14-inch HD Laptop, Inte...</td>\n",
       "      <td>$32900</td>\n",
       "    </tr>\n",
       "    <tr>\n",
       "      <th>5</th>\n",
       "      <td>Gateway 14.1\" FHD Ultra Slim Laptop Computer, ...</td>\n",
       "      <td>$35000</td>\n",
       "    </tr>\n",
       "    <tr>\n",
       "      <th>6</th>\n",
       "      <td>Acer Spin 5 Convertible Laptop, 13.5\" 2K 2256 ...</td>\n",
       "      <td>$46900</td>\n",
       "    </tr>\n",
       "    <tr>\n",
       "      <th>7</th>\n",
       "      <td>Portable Monitor, FANGOR 15.6\" FHD1080P Portab...</td>\n",
       "      <td>$22895</td>\n",
       "    </tr>\n",
       "    <tr>\n",
       "      <th>8</th>\n",
       "      <td>Lenovo Legion 5 Pro Gen 6 AMD Gaming Laptop, 1...</td>\n",
       "      <td>$43550</td>\n",
       "    </tr>\n",
       "    <tr>\n",
       "      <th>9</th>\n",
       "      <td>2021 Newest Dell Inspiron 3000 Laptop, 15.6 HD...</td>\n",
       "      <td></td>\n",
       "    </tr>\n",
       "  </tbody>\n",
       "</table>\n",
       "</div>"
      ],
      "text/plain": [
       "                                               Title   Price\n",
       "0  2021 Newest Lenovo Ideapad 3 Laptop, 15.6 Full...  $52900\n",
       "1  Hyundai | HyBook, 14.1\" - | 4GB RAM | 128GB SS...  $25999\n",
       "2  Acer Aspire 5 A515-46-R14K Slim Laptop | 15.6\"...  $36107\n",
       "3  Lenovo Chromebook S330 14in Laptop Computer, M...  $15500\n",
       "4  2021 Newest HP Premium 14-inch HD Laptop, Inte...  $32900\n",
       "5  Gateway 14.1\" FHD Ultra Slim Laptop Computer, ...  $35000\n",
       "6  Acer Spin 5 Convertible Laptop, 13.5\" 2K 2256 ...  $46900\n",
       "7  Portable Monitor, FANGOR 15.6\" FHD1080P Portab...  $22895\n",
       "8  Lenovo Legion 5 Pro Gen 6 AMD Gaming Laptop, 1...  $43550\n",
       "9  2021 Newest Dell Inspiron 3000 Laptop, 15.6 HD...        "
      ]
     },
     "execution_count": 234,
     "metadata": {},
     "output_type": "execute_result"
    }
   ],
   "source": [
    "laptop['Title']=title1[0:10] \n",
    "laptop['Price']=pricelap[0:10]\n",
    "laptop"
   ]
  },
  {
   "cell_type": "code",
   "execution_count": null,
   "metadata": {},
   "outputs": [],
   "source": []
  },
  {
   "cell_type": "code",
   "execution_count": null,
   "metadata": {},
   "outputs": [],
   "source": []
  },
  {
   "cell_type": "code",
   "execution_count": null,
   "metadata": {},
   "outputs": [],
   "source": []
  },
  {
   "cell_type": "code",
   "execution_count": null,
   "metadata": {},
   "outputs": [],
   "source": []
  }
 ],
 "metadata": {
  "kernelspec": {
   "display_name": "Python 3",
   "language": "python",
   "name": "python3"
  },
  "language_info": {
   "codemirror_mode": {
    "name": "ipython",
    "version": 3
   },
   "file_extension": ".py",
   "mimetype": "text/x-python",
   "name": "python",
   "nbconvert_exporter": "python",
   "pygments_lexer": "ipython3",
   "version": "3.8.5"
  }
 },
 "nbformat": 4,
 "nbformat_minor": 4
}
